{
 "cells": [
  {
   "cell_type": "markdown",
   "metadata": {
    "id": "w6j1NHAA3ry1"
   },
   "source": [
    "# Google Play Store Analysis"
   ]
  },
  {
   "cell_type": "code",
   "execution_count": 1,
   "metadata": {
    "id": "CJ_fG1AHzUHO"
   },
   "outputs": [],
   "source": [
    "#Importing all the libraries and modules\n",
    "import pandas as pd\n",
    "import numpy as np\n",
    "import matplotlib.pyplot as plt\n",
    "import seaborn as sns\n",
    "import warnings\n",
    "warnings.filterwarnings('ignore')\n",
    "\n"
   ]
  },
  {
   "cell_type": "markdown",
   "metadata": {
    "id": "XFNc8LTb4Wt-"
   },
   "source": [
    "# Reading and Exploring the datasets "
   ]
  },
  {
   "cell_type": "code",
   "execution_count": 2,
   "metadata": {
    "id": "Up7uvJ-J0FPv"
   },
   "outputs": [],
   "source": [
    "df1 = pd.read_csv('googleplaystore.csv')"
   ]
  },
  {
   "cell_type": "code",
   "execution_count": 3,
   "metadata": {
    "id": "svsVOAke8aK5"
   },
   "outputs": [],
   "source": [
    "df2 = pd.read_csv('googleplaystore_user_reviews (1).csv')"
   ]
  },
  {
   "cell_type": "code",
   "execution_count": 4,
   "metadata": {
    "colab": {
     "base_uri": "https://localhost:8080/"
    },
    "id": "aZ4w3-FW0HAM",
    "outputId": "08a3c95c-5c65-4f79-f3b8-c5394a1f53ce"
   },
   "outputs": [
    {
     "name": "stdout",
     "output_type": "stream",
     "text": [
      "<class 'pandas.core.frame.DataFrame'>\n",
      "RangeIndex: 10841 entries, 0 to 10840\n",
      "Data columns (total 13 columns):\n",
      " #   Column          Non-Null Count  Dtype  \n",
      "---  ------          --------------  -----  \n",
      " 0   App             10841 non-null  object \n",
      " 1   Category        10841 non-null  object \n",
      " 2   Rating          9367 non-null   float64\n",
      " 3   Reviews         10841 non-null  object \n",
      " 4   Size            10841 non-null  object \n",
      " 5   Installs        10841 non-null  object \n",
      " 6   Type            10840 non-null  object \n",
      " 7   Price           10841 non-null  object \n",
      " 8   Content Rating  10840 non-null  object \n",
      " 9   Genres          10841 non-null  object \n",
      " 10  Last Updated    10841 non-null  object \n",
      " 11  Current Ver     10833 non-null  object \n",
      " 12  Android Ver     10838 non-null  object \n",
      "dtypes: float64(1), object(12)\n",
      "memory usage: 1.1+ MB\n"
     ]
    }
   ],
   "source": [
    "# checkng for the info of the first data set\n",
    "df1.info()"
   ]
  },
  {
   "cell_type": "markdown",
   "metadata": {},
   "source": [
    "its observed that 'Rating' had 1474 null values, and'Type' have 1 null value.The Dtype of 'Review, size,installs and price' are in object instead of int or float. "
   ]
  },
  {
   "cell_type": "code",
   "execution_count": 5,
   "metadata": {
    "colab": {
     "base_uri": "https://localhost:8080/",
     "height": 617
    },
    "id": "AUa_1LUz1D8e",
    "outputId": "0d7bcda8-e7ab-417a-9428-60471be28562"
   },
   "outputs": [
    {
     "data": {
      "text/html": [
       "<div>\n",
       "<style scoped>\n",
       "    .dataframe tbody tr th:only-of-type {\n",
       "        vertical-align: middle;\n",
       "    }\n",
       "\n",
       "    .dataframe tbody tr th {\n",
       "        vertical-align: top;\n",
       "    }\n",
       "\n",
       "    .dataframe thead th {\n",
       "        text-align: right;\n",
       "    }\n",
       "</style>\n",
       "<table border=\"1\" class=\"dataframe\">\n",
       "  <thead>\n",
       "    <tr style=\"text-align: right;\">\n",
       "      <th></th>\n",
       "      <th>App</th>\n",
       "      <th>Category</th>\n",
       "      <th>Rating</th>\n",
       "      <th>Reviews</th>\n",
       "      <th>Size</th>\n",
       "      <th>Installs</th>\n",
       "      <th>Type</th>\n",
       "      <th>Price</th>\n",
       "      <th>Content Rating</th>\n",
       "      <th>Genres</th>\n",
       "      <th>Last Updated</th>\n",
       "      <th>Current Ver</th>\n",
       "      <th>Android Ver</th>\n",
       "    </tr>\n",
       "  </thead>\n",
       "  <tbody>\n",
       "    <tr>\n",
       "      <th>0</th>\n",
       "      <td>Photo Editor &amp; Candy Camera &amp; Grid &amp; ScrapBook</td>\n",
       "      <td>ART_AND_DESIGN</td>\n",
       "      <td>4.1</td>\n",
       "      <td>159</td>\n",
       "      <td>19M</td>\n",
       "      <td>10,000+</td>\n",
       "      <td>Free</td>\n",
       "      <td>0</td>\n",
       "      <td>Everyone</td>\n",
       "      <td>Art &amp; Design</td>\n",
       "      <td>January 7, 2018</td>\n",
       "      <td>1.0.0</td>\n",
       "      <td>4.0.3 and up</td>\n",
       "    </tr>\n",
       "    <tr>\n",
       "      <th>1</th>\n",
       "      <td>Coloring book moana</td>\n",
       "      <td>ART_AND_DESIGN</td>\n",
       "      <td>3.9</td>\n",
       "      <td>967</td>\n",
       "      <td>14M</td>\n",
       "      <td>500,000+</td>\n",
       "      <td>Free</td>\n",
       "      <td>0</td>\n",
       "      <td>Everyone</td>\n",
       "      <td>Art &amp; Design;Pretend Play</td>\n",
       "      <td>January 15, 2018</td>\n",
       "      <td>2.0.0</td>\n",
       "      <td>4.0.3 and up</td>\n",
       "    </tr>\n",
       "    <tr>\n",
       "      <th>2</th>\n",
       "      <td>U Launcher Lite – FREE Live Cool Themes, Hide ...</td>\n",
       "      <td>ART_AND_DESIGN</td>\n",
       "      <td>4.7</td>\n",
       "      <td>87510</td>\n",
       "      <td>8.7M</td>\n",
       "      <td>5,000,000+</td>\n",
       "      <td>Free</td>\n",
       "      <td>0</td>\n",
       "      <td>Everyone</td>\n",
       "      <td>Art &amp; Design</td>\n",
       "      <td>August 1, 2018</td>\n",
       "      <td>1.2.4</td>\n",
       "      <td>4.0.3 and up</td>\n",
       "    </tr>\n",
       "    <tr>\n",
       "      <th>3</th>\n",
       "      <td>Sketch - Draw &amp; Paint</td>\n",
       "      <td>ART_AND_DESIGN</td>\n",
       "      <td>4.5</td>\n",
       "      <td>215644</td>\n",
       "      <td>25M</td>\n",
       "      <td>50,000,000+</td>\n",
       "      <td>Free</td>\n",
       "      <td>0</td>\n",
       "      <td>Teen</td>\n",
       "      <td>Art &amp; Design</td>\n",
       "      <td>June 8, 2018</td>\n",
       "      <td>Varies with device</td>\n",
       "      <td>4.2 and up</td>\n",
       "    </tr>\n",
       "    <tr>\n",
       "      <th>4</th>\n",
       "      <td>Pixel Draw - Number Art Coloring Book</td>\n",
       "      <td>ART_AND_DESIGN</td>\n",
       "      <td>4.3</td>\n",
       "      <td>967</td>\n",
       "      <td>2.8M</td>\n",
       "      <td>100,000+</td>\n",
       "      <td>Free</td>\n",
       "      <td>0</td>\n",
       "      <td>Everyone</td>\n",
       "      <td>Art &amp; Design;Creativity</td>\n",
       "      <td>June 20, 2018</td>\n",
       "      <td>1.1</td>\n",
       "      <td>4.4 and up</td>\n",
       "    </tr>\n",
       "  </tbody>\n",
       "</table>\n",
       "</div>"
      ],
      "text/plain": [
       "                                                 App        Category  Rating  \\\n",
       "0     Photo Editor & Candy Camera & Grid & ScrapBook  ART_AND_DESIGN     4.1   \n",
       "1                                Coloring book moana  ART_AND_DESIGN     3.9   \n",
       "2  U Launcher Lite – FREE Live Cool Themes, Hide ...  ART_AND_DESIGN     4.7   \n",
       "3                              Sketch - Draw & Paint  ART_AND_DESIGN     4.5   \n",
       "4              Pixel Draw - Number Art Coloring Book  ART_AND_DESIGN     4.3   \n",
       "\n",
       "  Reviews  Size     Installs  Type Price Content Rating  \\\n",
       "0     159   19M      10,000+  Free     0       Everyone   \n",
       "1     967   14M     500,000+  Free     0       Everyone   \n",
       "2   87510  8.7M   5,000,000+  Free     0       Everyone   \n",
       "3  215644   25M  50,000,000+  Free     0           Teen   \n",
       "4     967  2.8M     100,000+  Free     0       Everyone   \n",
       "\n",
       "                      Genres      Last Updated         Current Ver  \\\n",
       "0               Art & Design   January 7, 2018               1.0.0   \n",
       "1  Art & Design;Pretend Play  January 15, 2018               2.0.0   \n",
       "2               Art & Design    August 1, 2018               1.2.4   \n",
       "3               Art & Design      June 8, 2018  Varies with device   \n",
       "4    Art & Design;Creativity     June 20, 2018                 1.1   \n",
       "\n",
       "    Android Ver  \n",
       "0  4.0.3 and up  \n",
       "1  4.0.3 and up  \n",
       "2  4.0.3 and up  \n",
       "3    4.2 and up  \n",
       "4    4.4 and up  "
      ]
     },
     "execution_count": 5,
     "metadata": {},
     "output_type": "execute_result"
    }
   ],
   "source": [
    "# checking the dataframe\n",
    "df1.head()"
   ]
  },
  {
   "cell_type": "code",
   "execution_count": 6,
   "metadata": {
    "colab": {
     "base_uri": "https://localhost:8080/"
    },
    "id": "AJWDGQEm4Nce",
    "outputId": "9e1dbb58-ad49-4b89-dbeb-87391473fc4d"
   },
   "outputs": [
    {
     "data": {
      "text/plain": [
       "0        False\n",
       "1        False\n",
       "2        False\n",
       "3        False\n",
       "4        False\n",
       "         ...  \n",
       "10836    False\n",
       "10837    False\n",
       "10838    False\n",
       "10839    False\n",
       "10840    False\n",
       "Length: 10841, dtype: bool"
      ]
     },
     "execution_count": 6,
     "metadata": {},
     "output_type": "execute_result"
    }
   ],
   "source": [
    "#checking for duplicate values in the dataset\n",
    "df1.duplicated()"
   ]
  },
  {
   "cell_type": "code",
   "execution_count": 7,
   "metadata": {
    "colab": {
     "base_uri": "https://localhost:8080/"
    },
    "id": "nOB64NKO1DSl",
    "outputId": "9dd614c1-2e8a-4f9b-94a5-215f80c0d532"
   },
   "outputs": [
    {
     "data": {
      "text/plain": [
       "(10841, 13)"
      ]
     },
     "execution_count": 7,
     "metadata": {},
     "output_type": "execute_result"
    }
   ],
   "source": [
    "#checking for the numbers of rows and columns (13 and 10841) respectively\n",
    "df1.shape"
   ]
  },
  {
   "cell_type": "code",
   "execution_count": 8,
   "metadata": {
    "colab": {
     "base_uri": "https://localhost:8080/"
    },
    "id": "8e07ZISc02p_",
    "outputId": "d6a57d69-c35e-4c97-ca4a-da25054d9f47"
   },
   "outputs": [
    {
     "name": "stdout",
     "output_type": "stream",
     "text": [
      "<class 'pandas.core.frame.DataFrame'>\n",
      "RangeIndex: 64295 entries, 0 to 64294\n",
      "Data columns (total 5 columns):\n",
      " #   Column                  Non-Null Count  Dtype  \n",
      "---  ------                  --------------  -----  \n",
      " 0   App                     64295 non-null  object \n",
      " 1   Translated_Review       37427 non-null  object \n",
      " 2   Sentiment               37432 non-null  object \n",
      " 3   Sentiment_Polarity      37432 non-null  float64\n",
      " 4   Sentiment_Subjectivity  37432 non-null  float64\n",
      "dtypes: float64(2), object(3)\n",
      "memory usage: 2.5+ MB\n"
     ]
    }
   ],
   "source": [
    "# checkng for the info of the second data set\n",
    "df2.info()"
   ]
  },
  {
   "cell_type": "markdown",
   "metadata": {},
   "source": [
    "there are 26868 null values for 'sentiment,sentiment_polarity,sentiment_subjectivity' each"
   ]
  },
  {
   "cell_type": "code",
   "execution_count": 9,
   "metadata": {
    "colab": {
     "base_uri": "https://localhost:8080/",
     "height": 250
    },
    "id": "SpIaUwWy1Axf",
    "outputId": "959270f0-0b8b-413f-92ec-0ea49937f12f"
   },
   "outputs": [
    {
     "data": {
      "text/html": [
       "<div>\n",
       "<style scoped>\n",
       "    .dataframe tbody tr th:only-of-type {\n",
       "        vertical-align: middle;\n",
       "    }\n",
       "\n",
       "    .dataframe tbody tr th {\n",
       "        vertical-align: top;\n",
       "    }\n",
       "\n",
       "    .dataframe thead th {\n",
       "        text-align: right;\n",
       "    }\n",
       "</style>\n",
       "<table border=\"1\" class=\"dataframe\">\n",
       "  <thead>\n",
       "    <tr style=\"text-align: right;\">\n",
       "      <th></th>\n",
       "      <th>App</th>\n",
       "      <th>Translated_Review</th>\n",
       "      <th>Sentiment</th>\n",
       "      <th>Sentiment_Polarity</th>\n",
       "      <th>Sentiment_Subjectivity</th>\n",
       "    </tr>\n",
       "  </thead>\n",
       "  <tbody>\n",
       "    <tr>\n",
       "      <th>0</th>\n",
       "      <td>10 Best Foods for You</td>\n",
       "      <td>I like eat delicious food. That's I'm cooking ...</td>\n",
       "      <td>Positive</td>\n",
       "      <td>1.00</td>\n",
       "      <td>0.533333</td>\n",
       "    </tr>\n",
       "    <tr>\n",
       "      <th>1</th>\n",
       "      <td>10 Best Foods for You</td>\n",
       "      <td>This help eating healthy exercise regular basis</td>\n",
       "      <td>Positive</td>\n",
       "      <td>0.25</td>\n",
       "      <td>0.288462</td>\n",
       "    </tr>\n",
       "    <tr>\n",
       "      <th>2</th>\n",
       "      <td>10 Best Foods for You</td>\n",
       "      <td>NaN</td>\n",
       "      <td>NaN</td>\n",
       "      <td>NaN</td>\n",
       "      <td>NaN</td>\n",
       "    </tr>\n",
       "    <tr>\n",
       "      <th>3</th>\n",
       "      <td>10 Best Foods for You</td>\n",
       "      <td>Works great especially going grocery store</td>\n",
       "      <td>Positive</td>\n",
       "      <td>0.40</td>\n",
       "      <td>0.875000</td>\n",
       "    </tr>\n",
       "    <tr>\n",
       "      <th>4</th>\n",
       "      <td>10 Best Foods for You</td>\n",
       "      <td>Best idea us</td>\n",
       "      <td>Positive</td>\n",
       "      <td>1.00</td>\n",
       "      <td>0.300000</td>\n",
       "    </tr>\n",
       "  </tbody>\n",
       "</table>\n",
       "</div>"
      ],
      "text/plain": [
       "                     App                                  Translated_Review  \\\n",
       "0  10 Best Foods for You  I like eat delicious food. That's I'm cooking ...   \n",
       "1  10 Best Foods for You    This help eating healthy exercise regular basis   \n",
       "2  10 Best Foods for You                                                NaN   \n",
       "3  10 Best Foods for You         Works great especially going grocery store   \n",
       "4  10 Best Foods for You                                       Best idea us   \n",
       "\n",
       "  Sentiment  Sentiment_Polarity  Sentiment_Subjectivity  \n",
       "0  Positive                1.00                0.533333  \n",
       "1  Positive                0.25                0.288462  \n",
       "2       NaN                 NaN                     NaN  \n",
       "3  Positive                0.40                0.875000  \n",
       "4  Positive                1.00                0.300000  "
      ]
     },
     "execution_count": 9,
     "metadata": {},
     "output_type": "execute_result"
    }
   ],
   "source": [
    "#checking the dataframe for second dataset \n",
    "df2.head()"
   ]
  },
  {
   "cell_type": "code",
   "execution_count": 10,
   "metadata": {
    "colab": {
     "base_uri": "https://localhost:8080/"
    },
    "id": "VzlhTJJn0_MG",
    "outputId": "9665028a-0452-473f-8040-61108922b049"
   },
   "outputs": [
    {
     "data": {
      "text/plain": [
       "(64295, 5)"
      ]
     },
     "execution_count": 10,
     "metadata": {},
     "output_type": "execute_result"
    }
   ],
   "source": [
    "#checking for the rows and columns of the second dataset there are (5 and 64295) respectively\n",
    "df2.shape"
   ]
  },
  {
   "cell_type": "code",
   "execution_count": 11,
   "metadata": {
    "colab": {
     "base_uri": "https://localhost:8080/"
    },
    "id": "aheinHZN07K3",
    "outputId": "7826938c-7585-4a63-d88d-85e38d5a045f"
   },
   "outputs": [
    {
     "data": {
      "text/plain": [
       "App                           0\n",
       "Translated_Review         26868\n",
       "Sentiment                 26863\n",
       "Sentiment_Polarity        26863\n",
       "Sentiment_Subjectivity    26863\n",
       "dtype: int64"
      ]
     },
     "execution_count": 11,
     "metadata": {},
     "output_type": "execute_result"
    }
   ],
   "source": [
    "#checking for the sum of the null in the second dataset\n",
    "df2.isnull().sum()"
   ]
  },
  {
   "cell_type": "code",
   "execution_count": 12,
   "metadata": {
    "colab": {
     "base_uri": "https://localhost:8080/"
    },
    "id": "D-_d8wrk2DBy",
    "outputId": "0949bf88-6e1c-4370-99cd-214a7931e5cc"
   },
   "outputs": [
    {
     "data": {
      "text/plain": [
       "0        False\n",
       "1        False\n",
       "2        False\n",
       "3        False\n",
       "4        False\n",
       "         ...  \n",
       "64290     True\n",
       "64291     True\n",
       "64292     True\n",
       "64293     True\n",
       "64294     True\n",
       "Length: 64295, dtype: bool"
      ]
     },
     "execution_count": 12,
     "metadata": {},
     "output_type": "execute_result"
    }
   ],
   "source": [
    "#checking for duplicate n the second dataset\n",
    "df2.duplicated()"
   ]
  },
  {
   "cell_type": "code",
   "execution_count": 13,
   "metadata": {
    "colab": {
     "base_uri": "https://localhost:8080/",
     "height": 461
    },
    "id": "PFtv-7up4yaO",
    "outputId": "5e8dea9c-3085-432f-8b9a-99af1a3efb03"
   },
   "outputs": [
    {
     "data": {
      "text/html": [
       "<div>\n",
       "<style scoped>\n",
       "    .dataframe tbody tr th:only-of-type {\n",
       "        vertical-align: middle;\n",
       "    }\n",
       "\n",
       "    .dataframe tbody tr th {\n",
       "        vertical-align: top;\n",
       "    }\n",
       "\n",
       "    .dataframe thead th {\n",
       "        text-align: right;\n",
       "    }\n",
       "</style>\n",
       "<table border=\"1\" class=\"dataframe\">\n",
       "  <thead>\n",
       "    <tr style=\"text-align: right;\">\n",
       "      <th></th>\n",
       "      <th>App</th>\n",
       "      <th>Category</th>\n",
       "      <th>Rating</th>\n",
       "      <th>Reviews</th>\n",
       "      <th>Size</th>\n",
       "      <th>Installs</th>\n",
       "      <th>Type</th>\n",
       "      <th>Price</th>\n",
       "      <th>Content Rating</th>\n",
       "      <th>Genres</th>\n",
       "      <th>Last Updated</th>\n",
       "      <th>Current Ver</th>\n",
       "      <th>Android Ver</th>\n",
       "      <th>Translated_Review</th>\n",
       "      <th>Sentiment</th>\n",
       "      <th>Sentiment_Polarity</th>\n",
       "      <th>Sentiment_Subjectivity</th>\n",
       "    </tr>\n",
       "  </thead>\n",
       "  <tbody>\n",
       "    <tr>\n",
       "      <th>0</th>\n",
       "      <td>Coloring book moana</td>\n",
       "      <td>ART_AND_DESIGN</td>\n",
       "      <td>3.9</td>\n",
       "      <td>967</td>\n",
       "      <td>14M</td>\n",
       "      <td>500,000+</td>\n",
       "      <td>Free</td>\n",
       "      <td>0</td>\n",
       "      <td>Everyone</td>\n",
       "      <td>Art &amp; Design;Pretend Play</td>\n",
       "      <td>January 15, 2018</td>\n",
       "      <td>2.0.0</td>\n",
       "      <td>4.0.3 and up</td>\n",
       "      <td>A kid's excessive ads. The types ads allowed a...</td>\n",
       "      <td>Negative</td>\n",
       "      <td>-0.250</td>\n",
       "      <td>1.000000</td>\n",
       "    </tr>\n",
       "    <tr>\n",
       "      <th>1</th>\n",
       "      <td>Coloring book moana</td>\n",
       "      <td>ART_AND_DESIGN</td>\n",
       "      <td>3.9</td>\n",
       "      <td>967</td>\n",
       "      <td>14M</td>\n",
       "      <td>500,000+</td>\n",
       "      <td>Free</td>\n",
       "      <td>0</td>\n",
       "      <td>Everyone</td>\n",
       "      <td>Art &amp; Design;Pretend Play</td>\n",
       "      <td>January 15, 2018</td>\n",
       "      <td>2.0.0</td>\n",
       "      <td>4.0.3 and up</td>\n",
       "      <td>It bad &gt;:(</td>\n",
       "      <td>Negative</td>\n",
       "      <td>-0.725</td>\n",
       "      <td>0.833333</td>\n",
       "    </tr>\n",
       "    <tr>\n",
       "      <th>2</th>\n",
       "      <td>Coloring book moana</td>\n",
       "      <td>ART_AND_DESIGN</td>\n",
       "      <td>3.9</td>\n",
       "      <td>967</td>\n",
       "      <td>14M</td>\n",
       "      <td>500,000+</td>\n",
       "      <td>Free</td>\n",
       "      <td>0</td>\n",
       "      <td>Everyone</td>\n",
       "      <td>Art &amp; Design;Pretend Play</td>\n",
       "      <td>January 15, 2018</td>\n",
       "      <td>2.0.0</td>\n",
       "      <td>4.0.3 and up</td>\n",
       "      <td>like</td>\n",
       "      <td>Neutral</td>\n",
       "      <td>0.000</td>\n",
       "      <td>0.000000</td>\n",
       "    </tr>\n",
       "    <tr>\n",
       "      <th>3</th>\n",
       "      <td>Coloring book moana</td>\n",
       "      <td>ART_AND_DESIGN</td>\n",
       "      <td>3.9</td>\n",
       "      <td>967</td>\n",
       "      <td>14M</td>\n",
       "      <td>500,000+</td>\n",
       "      <td>Free</td>\n",
       "      <td>0</td>\n",
       "      <td>Everyone</td>\n",
       "      <td>Art &amp; Design;Pretend Play</td>\n",
       "      <td>January 15, 2018</td>\n",
       "      <td>2.0.0</td>\n",
       "      <td>4.0.3 and up</td>\n",
       "      <td>NaN</td>\n",
       "      <td>NaN</td>\n",
       "      <td>NaN</td>\n",
       "      <td>NaN</td>\n",
       "    </tr>\n",
       "    <tr>\n",
       "      <th>4</th>\n",
       "      <td>Coloring book moana</td>\n",
       "      <td>ART_AND_DESIGN</td>\n",
       "      <td>3.9</td>\n",
       "      <td>967</td>\n",
       "      <td>14M</td>\n",
       "      <td>500,000+</td>\n",
       "      <td>Free</td>\n",
       "      <td>0</td>\n",
       "      <td>Everyone</td>\n",
       "      <td>Art &amp; Design;Pretend Play</td>\n",
       "      <td>January 15, 2018</td>\n",
       "      <td>2.0.0</td>\n",
       "      <td>4.0.3 and up</td>\n",
       "      <td>I love colors inspyering</td>\n",
       "      <td>Positive</td>\n",
       "      <td>0.500</td>\n",
       "      <td>0.600000</td>\n",
       "    </tr>\n",
       "  </tbody>\n",
       "</table>\n",
       "</div>"
      ],
      "text/plain": [
       "                   App        Category  Rating Reviews Size  Installs  Type  \\\n",
       "0  Coloring book moana  ART_AND_DESIGN     3.9     967  14M  500,000+  Free   \n",
       "1  Coloring book moana  ART_AND_DESIGN     3.9     967  14M  500,000+  Free   \n",
       "2  Coloring book moana  ART_AND_DESIGN     3.9     967  14M  500,000+  Free   \n",
       "3  Coloring book moana  ART_AND_DESIGN     3.9     967  14M  500,000+  Free   \n",
       "4  Coloring book moana  ART_AND_DESIGN     3.9     967  14M  500,000+  Free   \n",
       "\n",
       "  Price Content Rating                     Genres      Last Updated  \\\n",
       "0     0       Everyone  Art & Design;Pretend Play  January 15, 2018   \n",
       "1     0       Everyone  Art & Design;Pretend Play  January 15, 2018   \n",
       "2     0       Everyone  Art & Design;Pretend Play  January 15, 2018   \n",
       "3     0       Everyone  Art & Design;Pretend Play  January 15, 2018   \n",
       "4     0       Everyone  Art & Design;Pretend Play  January 15, 2018   \n",
       "\n",
       "  Current Ver   Android Ver  \\\n",
       "0       2.0.0  4.0.3 and up   \n",
       "1       2.0.0  4.0.3 and up   \n",
       "2       2.0.0  4.0.3 and up   \n",
       "3       2.0.0  4.0.3 and up   \n",
       "4       2.0.0  4.0.3 and up   \n",
       "\n",
       "                                   Translated_Review Sentiment  \\\n",
       "0  A kid's excessive ads. The types ads allowed a...  Negative   \n",
       "1                                         It bad >:(  Negative   \n",
       "2                                               like   Neutral   \n",
       "3                                                NaN       NaN   \n",
       "4                           I love colors inspyering  Positive   \n",
       "\n",
       "   Sentiment_Polarity  Sentiment_Subjectivity  \n",
       "0              -0.250                1.000000  \n",
       "1              -0.725                0.833333  \n",
       "2               0.000                0.000000  \n",
       "3                 NaN                     NaN  \n",
       "4               0.500                0.600000  "
      ]
     },
     "execution_count": 13,
     "metadata": {},
     "output_type": "execute_result"
    }
   ],
   "source": [
    "# mergeing the two dataset (df1,df2) to form df3\n",
    "df3 = pd.merge(df1,df2)\n",
    "df3.head()"
   ]
  },
  {
   "cell_type": "code",
   "execution_count": 14,
   "metadata": {
    "id": "KxK9mGM2T1Cn"
   },
   "outputs": [],
   "source": [
    "# Mergeing the two datasets\n",
    "df3.to_csv('Merge_Data.csv',index = False)"
   ]
  },
  {
   "cell_type": "markdown",
   "metadata": {
    "id": "6rQm7N50VnGX"
   },
   "source": [
    "# Reading the new dataset"
   ]
  },
  {
   "cell_type": "code",
   "execution_count": 15,
   "metadata": {
    "colab": {
     "base_uri": "https://localhost:8080/",
     "height": 461
    },
    "id": "Q4n_SYXJVKbh",
    "outputId": "a0eebf35-58b2-4e09-a4a7-482b15a1f996"
   },
   "outputs": [
    {
     "data": {
      "text/html": [
       "<div>\n",
       "<style scoped>\n",
       "    .dataframe tbody tr th:only-of-type {\n",
       "        vertical-align: middle;\n",
       "    }\n",
       "\n",
       "    .dataframe tbody tr th {\n",
       "        vertical-align: top;\n",
       "    }\n",
       "\n",
       "    .dataframe thead th {\n",
       "        text-align: right;\n",
       "    }\n",
       "</style>\n",
       "<table border=\"1\" class=\"dataframe\">\n",
       "  <thead>\n",
       "    <tr style=\"text-align: right;\">\n",
       "      <th></th>\n",
       "      <th>App</th>\n",
       "      <th>Category</th>\n",
       "      <th>Rating</th>\n",
       "      <th>Reviews</th>\n",
       "      <th>Size</th>\n",
       "      <th>Installs</th>\n",
       "      <th>Type</th>\n",
       "      <th>Price</th>\n",
       "      <th>Content Rating</th>\n",
       "      <th>Genres</th>\n",
       "      <th>Last Updated</th>\n",
       "      <th>Current Ver</th>\n",
       "      <th>Android Ver</th>\n",
       "      <th>Translated_Review</th>\n",
       "      <th>Sentiment</th>\n",
       "      <th>Sentiment_Polarity</th>\n",
       "      <th>Sentiment_Subjectivity</th>\n",
       "    </tr>\n",
       "  </thead>\n",
       "  <tbody>\n",
       "    <tr>\n",
       "      <th>0</th>\n",
       "      <td>Coloring book moana</td>\n",
       "      <td>ART_AND_DESIGN</td>\n",
       "      <td>3.9</td>\n",
       "      <td>967</td>\n",
       "      <td>14M</td>\n",
       "      <td>500,000+</td>\n",
       "      <td>Free</td>\n",
       "      <td>0</td>\n",
       "      <td>Everyone</td>\n",
       "      <td>Art &amp; Design;Pretend Play</td>\n",
       "      <td>January 15, 2018</td>\n",
       "      <td>2.0.0</td>\n",
       "      <td>4.0.3 and up</td>\n",
       "      <td>A kid's excessive ads. The types ads allowed a...</td>\n",
       "      <td>Negative</td>\n",
       "      <td>-0.250</td>\n",
       "      <td>1.000000</td>\n",
       "    </tr>\n",
       "    <tr>\n",
       "      <th>1</th>\n",
       "      <td>Coloring book moana</td>\n",
       "      <td>ART_AND_DESIGN</td>\n",
       "      <td>3.9</td>\n",
       "      <td>967</td>\n",
       "      <td>14M</td>\n",
       "      <td>500,000+</td>\n",
       "      <td>Free</td>\n",
       "      <td>0</td>\n",
       "      <td>Everyone</td>\n",
       "      <td>Art &amp; Design;Pretend Play</td>\n",
       "      <td>January 15, 2018</td>\n",
       "      <td>2.0.0</td>\n",
       "      <td>4.0.3 and up</td>\n",
       "      <td>It bad &gt;:(</td>\n",
       "      <td>Negative</td>\n",
       "      <td>-0.725</td>\n",
       "      <td>0.833333</td>\n",
       "    </tr>\n",
       "    <tr>\n",
       "      <th>2</th>\n",
       "      <td>Coloring book moana</td>\n",
       "      <td>ART_AND_DESIGN</td>\n",
       "      <td>3.9</td>\n",
       "      <td>967</td>\n",
       "      <td>14M</td>\n",
       "      <td>500,000+</td>\n",
       "      <td>Free</td>\n",
       "      <td>0</td>\n",
       "      <td>Everyone</td>\n",
       "      <td>Art &amp; Design;Pretend Play</td>\n",
       "      <td>January 15, 2018</td>\n",
       "      <td>2.0.0</td>\n",
       "      <td>4.0.3 and up</td>\n",
       "      <td>like</td>\n",
       "      <td>Neutral</td>\n",
       "      <td>0.000</td>\n",
       "      <td>0.000000</td>\n",
       "    </tr>\n",
       "    <tr>\n",
       "      <th>3</th>\n",
       "      <td>Coloring book moana</td>\n",
       "      <td>ART_AND_DESIGN</td>\n",
       "      <td>3.9</td>\n",
       "      <td>967</td>\n",
       "      <td>14M</td>\n",
       "      <td>500,000+</td>\n",
       "      <td>Free</td>\n",
       "      <td>0</td>\n",
       "      <td>Everyone</td>\n",
       "      <td>Art &amp; Design;Pretend Play</td>\n",
       "      <td>January 15, 2018</td>\n",
       "      <td>2.0.0</td>\n",
       "      <td>4.0.3 and up</td>\n",
       "      <td>NaN</td>\n",
       "      <td>NaN</td>\n",
       "      <td>NaN</td>\n",
       "      <td>NaN</td>\n",
       "    </tr>\n",
       "    <tr>\n",
       "      <th>4</th>\n",
       "      <td>Coloring book moana</td>\n",
       "      <td>ART_AND_DESIGN</td>\n",
       "      <td>3.9</td>\n",
       "      <td>967</td>\n",
       "      <td>14M</td>\n",
       "      <td>500,000+</td>\n",
       "      <td>Free</td>\n",
       "      <td>0</td>\n",
       "      <td>Everyone</td>\n",
       "      <td>Art &amp; Design;Pretend Play</td>\n",
       "      <td>January 15, 2018</td>\n",
       "      <td>2.0.0</td>\n",
       "      <td>4.0.3 and up</td>\n",
       "      <td>I love colors inspyering</td>\n",
       "      <td>Positive</td>\n",
       "      <td>0.500</td>\n",
       "      <td>0.600000</td>\n",
       "    </tr>\n",
       "  </tbody>\n",
       "</table>\n",
       "</div>"
      ],
      "text/plain": [
       "                   App        Category  Rating  Reviews Size  Installs  Type  \\\n",
       "0  Coloring book moana  ART_AND_DESIGN     3.9      967  14M  500,000+  Free   \n",
       "1  Coloring book moana  ART_AND_DESIGN     3.9      967  14M  500,000+  Free   \n",
       "2  Coloring book moana  ART_AND_DESIGN     3.9      967  14M  500,000+  Free   \n",
       "3  Coloring book moana  ART_AND_DESIGN     3.9      967  14M  500,000+  Free   \n",
       "4  Coloring book moana  ART_AND_DESIGN     3.9      967  14M  500,000+  Free   \n",
       "\n",
       "  Price Content Rating                     Genres      Last Updated  \\\n",
       "0     0       Everyone  Art & Design;Pretend Play  January 15, 2018   \n",
       "1     0       Everyone  Art & Design;Pretend Play  January 15, 2018   \n",
       "2     0       Everyone  Art & Design;Pretend Play  January 15, 2018   \n",
       "3     0       Everyone  Art & Design;Pretend Play  January 15, 2018   \n",
       "4     0       Everyone  Art & Design;Pretend Play  January 15, 2018   \n",
       "\n",
       "  Current Ver   Android Ver  \\\n",
       "0       2.0.0  4.0.3 and up   \n",
       "1       2.0.0  4.0.3 and up   \n",
       "2       2.0.0  4.0.3 and up   \n",
       "3       2.0.0  4.0.3 and up   \n",
       "4       2.0.0  4.0.3 and up   \n",
       "\n",
       "                                   Translated_Review Sentiment  \\\n",
       "0  A kid's excessive ads. The types ads allowed a...  Negative   \n",
       "1                                         It bad >:(  Negative   \n",
       "2                                               like   Neutral   \n",
       "3                                                NaN       NaN   \n",
       "4                           I love colors inspyering  Positive   \n",
       "\n",
       "   Sentiment_Polarity  Sentiment_Subjectivity  \n",
       "0              -0.250                1.000000  \n",
       "1              -0.725                0.833333  \n",
       "2               0.000                0.000000  \n",
       "3                 NaN                     NaN  \n",
       "4               0.500                0.600000  "
      ]
     },
     "execution_count": 15,
     "metadata": {},
     "output_type": "execute_result"
    }
   ],
   "source": [
    "# reading  of the newly save dataset\n",
    "df = pd.read_csv('Merge_Data.csv')\n",
    "df.head()"
   ]
  },
  {
   "cell_type": "code",
   "execution_count": 16,
   "metadata": {
    "colab": {
     "base_uri": "https://localhost:8080/"
    },
    "id": "bbejBR2JVKeA",
    "outputId": "fdd8659b-f6d2-4fd0-d833-0d73d5510a35"
   },
   "outputs": [
    {
     "data": {
      "text/plain": [
       "(122662, 17)"
      ]
     },
     "execution_count": 16,
     "metadata": {},
     "output_type": "execute_result"
    }
   ],
   "source": [
    "# checking for the row and columns of the newly merged dataset\n",
    "df.shape"
   ]
  },
  {
   "cell_type": "code",
   "execution_count": 17,
   "metadata": {
    "colab": {
     "base_uri": "https://localhost:8080/"
    },
    "id": "9MzFlgSq7r3e",
    "outputId": "3f0e64b9-f444-42fe-fa0e-50b681a2dddc"
   },
   "outputs": [
    {
     "data": {
      "text/plain": [
       "True     80965\n",
       "False    41697\n",
       "dtype: int64"
      ]
     },
     "execution_count": 17,
     "metadata": {},
     "output_type": "execute_result"
    }
   ],
   "source": [
    "# Cheching the counts of duplicate values in the dataset\n",
    "df.duplicated().value_counts()"
   ]
  },
  {
   "cell_type": "code",
   "execution_count": 18,
   "metadata": {
    "id": "UeMNJg_s-gIv"
   },
   "outputs": [],
   "source": [
    "# Droping the duplicate values\n",
    "df = df.drop_duplicates(keep = 'first')"
   ]
  },
  {
   "cell_type": "code",
   "execution_count": 19,
   "metadata": {
    "colab": {
     "base_uri": "https://localhost:8080/"
    },
    "id": "alj2uJtO-iMF",
    "outputId": "644b4c51-8a2c-4218-c3e3-1eb9dbc071df"
   },
   "outputs": [
    {
     "name": "stdout",
     "output_type": "stream",
     "text": [
      "<class 'pandas.core.frame.DataFrame'>\n",
      "Int64Index: 41697 entries, 0 to 122661\n",
      "Data columns (total 17 columns):\n",
      " #   Column                  Non-Null Count  Dtype  \n",
      "---  ------                  --------------  -----  \n",
      " 0   App                     41697 non-null  object \n",
      " 1   Category                41697 non-null  object \n",
      " 2   Rating                  41658 non-null  float64\n",
      " 3   Reviews                 41697 non-null  int64  \n",
      " 4   Size                    41697 non-null  object \n",
      " 5   Installs                41697 non-null  object \n",
      " 6   Type                    41697 non-null  object \n",
      " 7   Price                   41697 non-null  object \n",
      " 8   Content Rating          41697 non-null  object \n",
      " 9   Genres                  41697 non-null  object \n",
      " 10  Last Updated            41697 non-null  object \n",
      " 11  Current Ver             41697 non-null  object \n",
      " 12  Android Ver             41697 non-null  object \n",
      " 13  Translated_Review       40448 non-null  object \n",
      " 14  Sentiment               40456 non-null  object \n",
      " 15  Sentiment_Polarity      40456 non-null  float64\n",
      " 16  Sentiment_Subjectivity  40456 non-null  float64\n",
      "dtypes: float64(3), int64(1), object(13)\n",
      "memory usage: 5.7+ MB\n"
     ]
    }
   ],
   "source": [
    "df.info()"
   ]
  },
  {
   "cell_type": "code",
   "execution_count": 20,
   "metadata": {
    "colab": {
     "base_uri": "https://localhost:8080/"
    },
    "id": "4Omkp7Z5-imB",
    "outputId": "39ba5e99-fd2c-4383-82b8-72b98c2c094a"
   },
   "outputs": [
    {
     "data": {
      "text/plain": [
       "App                          0\n",
       "Category                     0\n",
       "Rating                      39\n",
       "Reviews                      0\n",
       "Size                         0\n",
       "Installs                     0\n",
       "Type                         0\n",
       "Price                        0\n",
       "Content Rating               0\n",
       "Genres                       0\n",
       "Last Updated                 0\n",
       "Current Ver                  0\n",
       "Android Ver                  0\n",
       "Translated_Review         1249\n",
       "Sentiment                 1241\n",
       "Sentiment_Polarity        1241\n",
       "Sentiment_Subjectivity    1241\n",
       "dtype: int64"
      ]
     },
     "execution_count": 20,
     "metadata": {},
     "output_type": "execute_result"
    }
   ],
   "source": [
    "# checking for the null values\n",
    "df.isnull().sum()"
   ]
  },
  {
   "cell_type": "code",
   "execution_count": 21,
   "metadata": {
    "id": "Q-hxgSGh-i13"
   },
   "outputs": [],
   "source": [
    "#droping the rows  with null values\n",
    "df.dropna(inplace = True)"
   ]
  },
  {
   "cell_type": "code",
   "execution_count": 22,
   "metadata": {
    "colab": {
     "base_uri": "https://localhost:8080/"
    },
    "id": "wnditbS9-j_J",
    "outputId": "67e84b7c-ab57-4fac-a565-4cc067e6df52"
   },
   "outputs": [
    {
     "data": {
      "text/plain": [
       "App                       0\n",
       "Category                  0\n",
       "Rating                    0\n",
       "Reviews                   0\n",
       "Size                      0\n",
       "Installs                  0\n",
       "Type                      0\n",
       "Price                     0\n",
       "Content Rating            0\n",
       "Genres                    0\n",
       "Last Updated              0\n",
       "Current Ver               0\n",
       "Android Ver               0\n",
       "Translated_Review         0\n",
       "Sentiment                 0\n",
       "Sentiment_Polarity        0\n",
       "Sentiment_Subjectivity    0\n",
       "dtype: int64"
      ]
     },
     "execution_count": 22,
     "metadata": {},
     "output_type": "execute_result"
    }
   ],
   "source": [
    "df.isnull().sum()"
   ]
  },
  {
   "cell_type": "code",
   "execution_count": 23,
   "metadata": {
    "colab": {
     "base_uri": "https://localhost:8080/",
     "height": 197
    },
    "id": "U80cDKE9YHS3",
    "outputId": "bd58cf45-ca28-49e1-f878-daf23afd4ad3"
   },
   "outputs": [
    {
     "data": {
      "text/html": [
       "<div>\n",
       "<style scoped>\n",
       "    .dataframe tbody tr th:only-of-type {\n",
       "        vertical-align: middle;\n",
       "    }\n",
       "\n",
       "    .dataframe tbody tr th {\n",
       "        vertical-align: top;\n",
       "    }\n",
       "\n",
       "    .dataframe thead th {\n",
       "        text-align: right;\n",
       "    }\n",
       "</style>\n",
       "<table border=\"1\" class=\"dataframe\">\n",
       "  <thead>\n",
       "    <tr style=\"text-align: right;\">\n",
       "      <th></th>\n",
       "      <th>App</th>\n",
       "      <th>Category</th>\n",
       "      <th>Rating</th>\n",
       "      <th>Reviews</th>\n",
       "      <th>Size</th>\n",
       "      <th>Installs</th>\n",
       "      <th>Type</th>\n",
       "      <th>Price</th>\n",
       "      <th>Content Rating</th>\n",
       "      <th>Genres</th>\n",
       "      <th>Last Updated</th>\n",
       "      <th>Current Ver</th>\n",
       "      <th>Android Ver</th>\n",
       "      <th>Translated_Review</th>\n",
       "      <th>Sentiment</th>\n",
       "      <th>Sentiment_Polarity</th>\n",
       "      <th>Sentiment_Subjectivity</th>\n",
       "    </tr>\n",
       "  </thead>\n",
       "  <tbody>\n",
       "    <tr>\n",
       "      <th>0</th>\n",
       "      <td>Coloring book moana</td>\n",
       "      <td>ART_AND_DESIGN</td>\n",
       "      <td>3.9</td>\n",
       "      <td>967</td>\n",
       "      <td>14M</td>\n",
       "      <td>500,000+</td>\n",
       "      <td>Free</td>\n",
       "      <td>0</td>\n",
       "      <td>Everyone</td>\n",
       "      <td>Art &amp; Design;Pretend Play</td>\n",
       "      <td>January 15, 2018</td>\n",
       "      <td>2.0.0</td>\n",
       "      <td>4.0.3 and up</td>\n",
       "      <td>A kid's excessive ads. The types ads allowed a...</td>\n",
       "      <td>Negative</td>\n",
       "      <td>-0.25</td>\n",
       "      <td>1.0</td>\n",
       "    </tr>\n",
       "  </tbody>\n",
       "</table>\n",
       "</div>"
      ],
      "text/plain": [
       "                   App        Category  Rating  Reviews Size  Installs  Type  \\\n",
       "0  Coloring book moana  ART_AND_DESIGN     3.9      967  14M  500,000+  Free   \n",
       "\n",
       "  Price Content Rating                     Genres      Last Updated  \\\n",
       "0     0       Everyone  Art & Design;Pretend Play  January 15, 2018   \n",
       "\n",
       "  Current Ver   Android Ver  \\\n",
       "0       2.0.0  4.0.3 and up   \n",
       "\n",
       "                                   Translated_Review Sentiment  \\\n",
       "0  A kid's excessive ads. The types ads allowed a...  Negative   \n",
       "\n",
       "   Sentiment_Polarity  Sentiment_Subjectivity  \n",
       "0               -0.25                     1.0  "
      ]
     },
     "execution_count": 23,
     "metadata": {},
     "output_type": "execute_result"
    }
   ],
   "source": [
    "df.head(1)"
   ]
  },
  {
   "cell_type": "markdown",
   "metadata": {
    "id": "_y_rgXyvZWXb"
   },
   "source": [
    "### checking the unique values in some columns "
   ]
  },
  {
   "cell_type": "code",
   "execution_count": 24,
   "metadata": {
    "colab": {
     "base_uri": "https://localhost:8080/"
    },
    "id": "cFphhKWVYHZ5",
    "outputId": "023cb2d3-d888-4c39-cd3c-6d4066919c66"
   },
   "outputs": [
    {
     "data": {
      "text/plain": [
       "array(['Coloring book moana', 'Garden Coloring Book',\n",
       "       'FlipaClip - Cartoon animation',\n",
       "       \"Boys Photo Editor - Six Pack & Men's Suit\",\n",
       "       'Colorfit - Drawing & Coloring', 'Animated Photo Editor',\n",
       "       'Anime Manga Coloring Book', 'Easy Origami Ideas',\n",
       "       'Floor Plan Creator',\n",
       "       'Canva: Poster, banner, card maker & graphic design',\n",
       "       'CDL Practice Test 2018 Edition', 'Free VIN Report for Used Cars',\n",
       "       'DMV Permit Practice Test 2018 Edition',\n",
       "       'Android Auto - Maps, Media, Messaging & Voice',\n",
       "       'Best Car Wallpapers', 'BEST CAR SOUNDS',\n",
       "       'AutoScout24 Switzerland – Find your new car',\n",
       "       'Fuelio: Gas log & costs',\n",
       "       'BestCam Selfie-selfie, beauty camera, photo editor',\n",
       "       'Hairstyles step by step', 'Filters for Selfie',\n",
       "       'Beauty Camera - Selfie Camera', 'Filters for B Live',\n",
       "       'Dresses Ideas & Fashions +3000', 'Amazon Kindle', 'Cool Reader',\n",
       "       'Dictionary - Merriam-Webster', 'Free Panda Radio Music',\n",
       "       'FBReader: Favorite Book Reader', 'AlReader -any text book reader',\n",
       "       'FamilySearch Tree', 'Ebook Reader', 'All Maths Formulas',\n",
       "       'Ancestry', 'HTC Help', 'English-Myanmar Dictionary',\n",
       "       'Golden Dictionary (EN-AR)', 'All Language Translator Free',\n",
       "       'Azpen eReader', 'Docs To Go™ Free Office Suite',\n",
       "       'Google My Business',\n",
       "       'Curriculum vitae App CV Builder Free Resume Maker',\n",
       "       'Google Primer', 'Facebook Pages Manager', 'Box', 'Call Blocker',\n",
       "       'Easy Installer - Apps On SD', 'Facebook Ads Manager',\n",
       "       'Genius Scan - PDF Scanner', 'Fast Scanner : Free PDF Scan',\n",
       "       'Google Ads', 'FreshBooks Classic',\n",
       "       'HipChat - Chat Built for Teams',\n",
       "       'Crew - Free Messaging and Scheduling',\n",
       "       'Asana: organize team projects', 'AdWords Express',\n",
       "       'Accounting App - Zoho Books', 'Cisco Webex Meetings',\n",
       "       'Cisco Webex Teams', 'DC Comics',\n",
       "       'Best Wallpapers Backgrounds(100,000+ 4K HD)', 'Gmail', 'Hangouts',\n",
       "       'Firefox Browser fast & private', 'Contacts', 'Browser 4G',\n",
       "       'Cricket Visual Voicemail', 'Firefox Focus: The privacy browser',\n",
       "       'Google Voice', 'Chrome Dev', 'Android Messages',\n",
       "       'Google Duo - High Quality Video Calls', 'AT&T Visual Voicemail',\n",
       "       'GMX Mail', 'Calls & Text by Mo+',\n",
       "       'GO SMS Pro - Messenger, Free Themes, Emoji', 'GroupMe',\n",
       "       'BBM - Free Calls & Messages', '2ndLine - Second Phone Number',\n",
       "       'CM Browser - Ad Blocker , Fast Download , Privacy',\n",
       "       'DU Browser—Browse fast & fun', 'Contacts+',\n",
       "       'ExDialer - Dialer & Contacts', 'Full Screen Caller ID',\n",
       "       'CallApp: Caller ID, Blocker & Phone Call Recorder',\n",
       "       'CIA - Caller ID & Call Blocker', 'Calls Blacklist - Call Blocker',\n",
       "       'Call Control - Call Blocker', 'Burner - Free Phone Number',\n",
       "       'Caller ID +', 'All Email Providers', 'GO Notifier',\n",
       "       'Hily: Dating, Chat, Match, Meet & Hook up',\n",
       "       'Hinge: Dating & Relationships', 'BBW Dating & Plus Size Chat',\n",
       "       'CMB Free Dating App',\n",
       "       'Free Dating App & Flirt Chat - Match with Singles',\n",
       "       'Black People Meet Singles Date',\n",
       "       'Free Dating App & Flirt Chat - Cheers',\n",
       "       'Free Dating Hook Up Messenger', 'BLK - Swipe. Match. Chat.',\n",
       "       'Cougar Dating Life : Date Older Women Sugar Mummy',\n",
       "       'Free Dating & Flirt Chat - Choice of Love',\n",
       "       'BeWild Free Dating & Chat App', 'FastMeet: Chat, Dating, Love',\n",
       "       'Free Dating App - YoCutie - Flirt, Chat & Meet',\n",
       "       'Dating for 50 plus Mature Singles – FINALLY',\n",
       "       'Christian Dating For Free App',\n",
       "       'Hide App, Private Dating, Safe Chat - PrivacyHider',\n",
       "       'Free Dating App - Meet Local Singles - Flirt Chat',\n",
       "       'Chat Rooms, Avatars, Date - Galaxy',\n",
       "       'Gay Sugar Daddy Dating & Hookup – Sudy Gay',\n",
       "       'BBWCupid - BBW Dating App', 'ChatVideo Meet new people',\n",
       "       'FlirtChat - ♥Free Dating/Flirting App♥',\n",
       "       'Herpes Dating: 1,000K+ Singles',\n",
       "       '95Live -SG#1 Live Streaming App', '2RedBeans',\n",
       "       'BiggerCity: Chat for gay bears, chubs & chasers',\n",
       "       'Herpes Positive Singles Dating',\n",
       "       'BBW Dating & Curvy Singles Chat- LargeFriends',\n",
       "       'Hitwe - meet people and chat', 'FERZU - Furries Social Network',\n",
       "       '2Date Dating App, Love and matching', 'Free Live Talk-Video Call',\n",
       "       'Duolingo: Learn Languages Free', 'Babbel – Learn Languages',\n",
       "       'Flippy Campus - Buy & sell on campus at a discount',\n",
       "       'ABC Preschool Free', 'English with Lingualeo', 'Brilliant',\n",
       "       'C++ Tutorials', 'C++ Programming', 'C Programming',\n",
       "       'GMAT Question Bank', 'GRE Tutor', 'GRE Flashcards',\n",
       "       'GMAT Math Flashcards', 'GRE Prep & Practice by Magoosh',\n",
       "       'Babbel – Learn Spanish', 'HomeWork', 'Common Core',\n",
       "       'Homework Planner', 'Edmodo',\n",
       "       'HelloTalk — Chat, Speak & Learn Foreign Languages',\n",
       "       'Canvas Student', 'EasyBib: Citation Generator', 'Hotstar', 'H TV',\n",
       "       'DStv Now', 'BBC Media Player', 'Amazon Prime Video',\n",
       "       'Cinemark Theatres', 'Fandango Movies - Times + Tickets',\n",
       "       'Harkins Theatres', 'AMC Theatres', 'Food Network',\n",
       "       'Cooking Channel', 'Animal Planet GO',\n",
       "       'Crunchyroll - Everything Anime',\n",
       "       'Acorn TV: World-class TV from Britain and Beyond',\n",
       "       'HISTORY: Watch TV Show Full Episodes & Specials',\n",
       "       'FOX NOW - On Demand & Live TV',\n",
       "       'A&E - Watch Full Episodes of TV Shows', 'BET NOW - Watch Shows',\n",
       "       'Comedy Central', 'CW Seed', 'HBO GO: Stream with TV Package',\n",
       "       'FOX', 'Hamilton — The Official App', 'Funny Pics',\n",
       "       'Colorfy: Coloring Book for Adults - Free', 'All Events in City',\n",
       "       'DroidAdmin for Android - Advice', 'Happy Birthday Songs Offline',\n",
       "       'Gametime - Tickets to Sports, Concerts, Theater',\n",
       "       'Goldstar: Live Event Tickets', 'Citibanamex Movil',\n",
       "       'Bualuang mBanking', 'BBVA Spain', 'Ecobank Mobile Banking',\n",
       "       'Banorte Movil', 'Credit Karma', 'BZWBK24 mobile',\n",
       "       'GCash - Buy Load, Pay Bills, Send Money', 'Google Pay',\n",
       "       'Even - organize your money, get paid early',\n",
       "       'Digit Save Money Automatically', 'Acorns - Invest Spare Change',\n",
       "       'Expense IQ Money Manager', 'Experian - Free Credit Report',\n",
       "       'Branch', 'CreditWise from Capital One', 'Credit Sesame',\n",
       "       'Fresh EBT - Food Stamp Balance',\n",
       "       'CNBC: Breaking Business News & Live Market Data',\n",
       "       'Bloomberg Professional', 'E*TRADE Mobile', 'Fox Business',\n",
       "       'Current debit card and app made for teens', 'Betterment',\n",
       "       'Citizens Bank Mobile Banking', 'GoBank', 'BBVA Compass Banking',\n",
       "       'BankMobile Vibe App', 'ACE Elite',\n",
       "       'Associated Credit Union Mobile', 'Bank of America Mobile Banking',\n",
       "       'Discover Mobile', 'Amex Mobile', 'Citi Mobile®', 'Chase Mobile',\n",
       "       'HDFC Bank MobileBanking', 'Barclays US for Android',\n",
       "       'Easy Recipes', 'Debonairs Pizza', \"Dunkin' Donuts\",\n",
       "       'Grubhub: Food Delivery', \"Domino's Pizza USA\", 'Dairy Queen',\n",
       "       'Healthy Recipes Free', 'Cookbook Recipes', 'Easy Healthy Recipes',\n",
       "       'Allrecipes Dinner Spinner', 'Cookpad',\n",
       "       'BigOven Recipes, Meal Planner, Grocery List & More',\n",
       "       'Foursquare City Guide', 'Eat24 Food Delivery & Takeout',\n",
       "       'BeyondMenu Food Delivery', 'EatStreet Food Delivery App',\n",
       "       'Caviar - Food Delivery', 'DoorDash - Food Delivery',\n",
       "       'Home Workout - No Equipment',\n",
       "       '30 Day Fitness Challenge - Workout at Home',\n",
       "       'Home Workout for Men - Bodybuilding',\n",
       "       'Fat Burning Workout - Home Weight lose', 'Fitbit',\n",
       "       'Cycling - Bike Tracker', 'Abs Training-Burn belly fat',\n",
       "       'Calorie Counter - EasyFit free', 'Garmin Connect™',\n",
       "       'BetterMe: Weight Loss Workouts',\n",
       "       'Bike Computer - GPS Cycling Tracker',\n",
       "       'Calorie Counter - MyFitnessPal', '8fit Workouts & Meal Planner',\n",
       "       'Couch to 10K Running Trainer',\n",
       "       'Home workouts - fat burning, abs, legs, arms,chest',\n",
       "       'Fabulous: Motivate Me! Meditate, Relax, Sleep',\n",
       "       '7 Minute Workout',\n",
       "       'Freeletics: Personal Trainer & Fitness Workouts',\n",
       "       'Daily Workouts - Exercise Fitness Routine Trainer',\n",
       "       'Google Fit - Fitness Tracking', 'Daily Yoga - Yoga Fitness Plans',\n",
       "       'Down Dog: Great Yoga Anywhere', '21-Day Meditation Experience',\n",
       "       'Calm - Meditate, Sleep, Relax',\n",
       "       'Headspace: Meditation & Mindfulness',\n",
       "       'Best Ovulation Tracker Fertility Calendar App Glow',\n",
       "       'Eve Period Tracker - Love, Sex & Relationships App',\n",
       "       'Couch to 5K by RunDouble',\n",
       "       'Fooducate Healthy Weight Loss & Calorie Counter',\n",
       "       'Calorie Counter - MyNetDiary', '10 Best Foods for You',\n",
       "       'Calorie Counter - Macros', 'Health and Nutrition Guide',\n",
       "       'Calorie Counter & Diet Tracker', 'Food Calorie Calculator',\n",
       "       'Eat Fit - Diet and Health Free', 'Happify',\n",
       "       'Binaural Beats Therapy', 'Brain Waves - Binaural Beats',\n",
       "       '7 Cups: Anxiety & Stress Chat', 'Apartments & Rentals - Zillow',\n",
       "       'Homes.com 🏠 For Sale, Rent',\n",
       "       'Apartment List: Housing, Apt, and Property Rentals',\n",
       "       'Gold Butterfly Keyboard Theme',\n",
       "       'Apartment, Home Rental Search: Realtor.com Rentals',\n",
       "       'DIY On A Budget',\n",
       "       'Free Foreclosure Real Estate Search by USHUD.com',\n",
       "       'Home Security Camera WardenCam - reuse old phones',\n",
       "       'Apartments.com Rental Search', 'Alfred Home Security Camera',\n",
       "       'Home Decor Showpiece Art making: Medium Difficulty',\n",
       "       'ColorSnap® Visualizer', 'Apartment Decorating Ideas',\n",
       "       'Bathroom Decorating Ideas', 'Homesnap Real Estate & Rentals',\n",
       "       'Aviary Effects: Classic', 'Chakra Cleansing',\n",
       "       'Aviary Stickers: Free Pack', 'Binaural Beats Meditation',\n",
       "       'Essential Resources', 'Apk Installer',\n",
       "       'Cool Popular Ringtones 2018 🔥', 'Barcode Scanner', 'EyeCloud',\n",
       "       'Easy Hair Style Design', 'Easy Makeup Tutorials',\n",
       "       'Horoscopes – Daily Zodiac Horoscope and Astrology', 'Entel',\n",
       "       'Diary with lock', 'FOSSIL Q: DESIGN YOUR DIAL',\n",
       "       'Family Locator - GPS Tracker', 'HTC Speak', 'H&M',\n",
       "       'Anime Avatar Creator: Make Your Own Avatar',\n",
       "       'Beautiful Design Birthday Cake', 'H Pack', 'Fashion in Vogue',\n",
       "       'Big Days - Events Countdown', 'DIY Garden Ideas', 'Brit + Co',\n",
       "       'Homestyler Interior Design & Decorating Ideas', 'Etta Homes',\n",
       "       'Home Scouting® MLS Mobile', 'Housing-Real Estate & Property',\n",
       "       'Bed Time Fan - White Noise Sleep Sounds',\n",
       "       '7 Day Food Journal Challenge', 'Candy Crush Saga',\n",
       "       'Bubble Shooter', 'Hello Kitty Nail Salon', 'Clash Royale',\n",
       "       'Helix Jump', 'Block Puzzle', 'Angry Birds Rio',\n",
       "       'Candy Crush Soda Saga', 'Clash of Clans',\n",
       "       'Block Puzzle Classic Legend !', '8 Ball Pool',\n",
       "       'Bubble Witch 3 Saga', 'Granny', 'Angry Birds Classic',\n",
       "       'Flow Free', 'Fishdom', 'Galaxy Attack: Alien Shooter',\n",
       "       'Bubble Shooter 2', 'Barbie™ Fashion Closet',\n",
       "       'Candy Crush Jelly Saga', 'Hill Climb Racing', 'Gardenscapes',\n",
       "       'Farm Heroes Saga', 'Cut the Rope FULL FREE', 'Cooking Fever',\n",
       "       'Garena Free Fire', 'Bowmasters', 'Dream League Soccer 2018',\n",
       "       'Fruits Bomb', 'Hill Climb Racing 2', 'Farm Fruit Pop: Party Time',\n",
       "       'Color by Number – New Coloring Book',\n",
       "       'Extreme Car Driving Simulator', 'Color Road', 'Draw In',\n",
       "       'Baseball Boy!', 'Episode - Choose Your Story', 'Hello Stars',\n",
       "       'Flip the Gun - Simulator Game', 'Harry Potter: Hogwarts Mystery',\n",
       "       'Grim Soul: Dark Fantasy Survival', 'DRAGON BALL LEGENDS',\n",
       "       'Disney Heroes: Battle Mode', 'Homescapes', 'Hero Hunters',\n",
       "       \"Cooking Madness - A Chef's Restaurant Games\",\n",
       "       'Dino War: Rise of Beasts', 'Guns of Glory',\n",
       "       'Final Fantasy XV: A New Empire', 'Chapters: Interactive Stories',\n",
       "       'Honkai Impact 3rd', 'Farming Simulator 18',\n",
       "       'Call of Duty:Black Ops Zombies', 'Angry Birds 2',\n",
       "       'Fallout Shelter', 'Best Fiends - Free Puzzle Game',\n",
       "       'Choices: Stories You Play', 'Game of Thrones: Conquest™',\n",
       "       'FINAL FANTASY BRAVE EXVIUS', 'Fate/Grand Order (English)',\n",
       "       'Dungeon Hunter Champions: Epic Online Action RPG', 'Doodle Jump',\n",
       "       'Crossy Road', 'Dude Perfect 2', \"Alto's Adventure\",\n",
       "       'DEER HUNTER 2018',\n",
       "       'DEAD TARGET: FPS Zombie Apocalypse Survival Games',\n",
       "       'Anger of stick 5 : zombie', 'CATS: Crash Arena Turbo Stars',\n",
       "       'DINO HUNTER: DEADLY SHORES', 'Extreme Match', 'Agar.io',\n",
       "       'Battlelands Royale', 'Arrow.io', 'BEYBLADE BURST app',\n",
       "       'Dragon Hills', 'DC Super Hero Girls™',\n",
       "       'Dinosaur Simulator: Dino World', 'GUNSHIP BATTLE: Helicopter 3D',\n",
       "       'Bubble Shooter Genies', 'Blossom Blast Saga', 'Candy Bomb',\n",
       "       'Gems or jewels ?', 'Fruit Block - Puzzle Legend',\n",
       "       'Bubble Shooter Space', '1LINE – One Line with One Touch',\n",
       "       'Dog Run - Pet Dog Simulator', 'Coloring & Learn',\n",
       "       'Educational Games 4 Kids', 'Candy Pop Story', 'Candy Smash',\n",
       "       'Happy Fruits Bomb - Cube Blast', 'Baby Panda Care',\n",
       "       'Baby puzzles', 'Garden Fruit Legend', 'Candy Day',\n",
       "       'ABC Kids - Tracing & Phonics', 'Barbie Magical Fashion',\n",
       "       'Farming Simulator 14', 'Educational Games for Kids',\n",
       "       'Hot Wheels: Race Off',\n",
       "       'Baby Tiger Care - My Cute Virtual Pet Friend',\n",
       "       'DisneyNOW – TV Shows & Games',\n",
       "       'Drawing for Kids Learning Games for Toddlers age 3',\n",
       "       'Baby Panda’s Juice Shop', 'Dr. Panda Restaurant 3',\n",
       "       'Baby ABC in box! Kids alphabet games for toddlers!',\n",
       "       'Happy Street', 'Dr. Panda Town: Vacation',\n",
       "       'Fuzzy Seasons: Animal Forest',\n",
       "       'Basketball FRVR - Shoot the Hoop and Slam Dunk!',\n",
       "       'Extreme Racing 2 - Real driving RC cars game!',\n",
       "       'Disney Magic Kingdoms: Build Your Own Magical Park',\n",
       "       'Equestria Girls', 'Doctor Pets', 'Frozen Free Fall',\n",
       "       'Dominos Game ✔️', 'Checkers ✔️', 'All-in-One Mahjong 3 FREE',\n",
       "       'DreamWorks Friends', \"Dr. Panda & Toto's Treehouse\",\n",
       "       'Fun Kid Racing - Motocross', 'Barbie Life™',\n",
       "       'Hello Kitty Lunchbox', \"COOKING MAMA Let's Cook!\",\n",
       "       'Fun Kid Racing', 'ABCmouse.com', 'Essential Anatomy 3',\n",
       "       'Diabetes & Diet Tracker', 'GoodRx Drug Prices and Coupons',\n",
       "       'FollowMyHealth®', 'Blood Pressure', 'Doctor On Demand',\n",
       "       'BioLife Plasma Services', 'Anthem Anywhere', 'Blood Donor',\n",
       "       '1800 Contacts - Lens Store', 'Blood Pressure Log - MyDiary',\n",
       "       'CVS Caremark', 'Ada - Your Health Guide', 'All Mental disorders',\n",
       "       'Delta Dental', 'Drugs.com Medication Guide', 'HealtheLife',\n",
       "       'Anatomy Learning - 3D Atlas', 'Baritastic - Bariatric Tracker',\n",
       "       'Epocrates Plus', 'Banfield Pet Health Tracker',\n",
       "       \"Davis's Drug Guide for Nurses\", 'Diabetes:M',\n",
       "       'HESI A2 Pocket Prep', \"Davis's Drug Guide\", 'Free Hypnosis',\n",
       "       'Dosecast - Medication Reminder', 'Anthem BC Anywhere',\n",
       "       'High Blood Pressure Symptoms', 'Blood Pressure(BP) Diary',\n",
       "       'Airway Ex - Intubate. Anesthetize. Train.',\n",
       "       'BELONG Beating Cancer Together', 'ConnectLine', 'Facebook',\n",
       "       'Facebook Lite', 'All Social Networks', 'Google+',\n",
       "       'Hide Something - Photo, Video', 'Amino: Communities and Chats',\n",
       "       'Facebook Local', 'HTC Social Plugin - Facebook',\n",
       "       'Family GPS tracker KidControl + GPS by SMS Locator',\n",
       "       'Badoo - Free Chat & Dating App',\n",
       "       'Free phone calls, free texting SMS on free number', 'Blogger',\n",
       "       \"Bloglovin'\", 'Blogaway for Android (Blogger)', 'Banjo',\n",
       "       'Frontback - Social Photos', 'Couple - Relationship App',\n",
       "       'Dating App, Flirt & Chat : W-Match', 'Amazon for Tablets',\n",
       "       'AliExpress - Smarter Shopping, Better Living', 'Amazon Shopping',\n",
       "       'Flipp - Weekly Shopping', 'GS SHOP', 'Family Dollar', '11st',\n",
       "       'Flipkart Online Shopping App', 'CheckPoints 🏆 Rewards App',\n",
       "       'Extreme Coupon Finder', 'Checkout 51: Grocery coupons',\n",
       "       'Gyft - Mobile Gift Card Wallet',\n",
       "       'Groupon - Shop Deals, Discounts & Coupons',\n",
       "       'Ebates: Cash Back, Coupons, Rewards & Savings',\n",
       "       'FidMe Loyalty Cards & Deals at Grocery Supermarket', 'HauteLook',\n",
       "       'Etsy: Handmade & Vintage Goods', 'ASOS',\n",
       "       'Find&Save - Local Shopping', 'Boxed Wholesale',\n",
       "       'FreePrints – Free Photos Delivered',\n",
       "       'Groovebook Photo Books & Gifts', 'Google Photos',\n",
       "       'HD Camera - Best Cam with filters & panorama',\n",
       "       'Face Filter, Selfie Editor - Sweet Camera',\n",
       "       'Adobe Photoshop Express:Photo Editor Collage Maker',\n",
       "       'HD Camera - Quick Snap Photo & Video',\n",
       "       'B612 - Beauty & Filter Camera', 'HD Camera',\n",
       "       'Garden Photo Frames - Garden Photo Editor',\n",
       "       'BeautyPlus - Easy Photo Editor & Selfie Camera',\n",
       "       'DSLR Camera Hd Ultra Professional',\n",
       "       'Candy selfie - photo editor, live filter camera',\n",
       "       'Blur Image Background Editor (Blur Photo Editor)', 'Flickr',\n",
       "       'Cymera Camera- Photo Editor, Filter,Collage,Layout',\n",
       "       'Candy Camera - selfie, beauty camera, photo editor',\n",
       "       'Blur Image Background', 'HD Camera Ultra',\n",
       "       'Cameringo Lite. Filters Camera', 'HD Camera Pro for Android',\n",
       "       'HD Camera for Android', 'GoPro (formerly Capture)',\n",
       "       'Beauty Makeup Snappy Collage Photo Editor - Lidow',\n",
       "       'High-Speed Camera (GIF,Burst)', 'EyeEm - Camera & Photo Filter',\n",
       "       'FilterGrid - Cam&Photo Editor', 'Color Touch Effects',\n",
       "       'Font Studio- Photo Texts Image', 'Add Text To Photo',\n",
       "       'Free Sports TV', 'FIFA - Tournaments, Soccer News & Live Scores',\n",
       "       'Football Live Scores', 'BeSoccer - Soccer Live Score',\n",
       "       'CBS Sports App - Scores, News, Stats & Watch Live', 'BBC Sport',\n",
       "       'All Football - Latest News & Videos', 'Eurosport',\n",
       "       'All Football GO- Live Score, Games', 'Championat',\n",
       "       'Goal Live Scores',\n",
       "       'Hole19: Golf GPS App, Rangefinder & Scorecard',\n",
       "       'CBS Sports Fantasy', 'Golf Channel',\n",
       "       'GolfNow: Tee Time Deals at Golf Courses, Golf GPS',\n",
       "       'Golf GPS by SwingxSwing', 'Golfshot: Golf GPS + Tee Times',\n",
       "       'Golf GPS Rangefinder: Golf Pad', 'GolfLogix GPS + Putt Breaks',\n",
       "       'Golfshot Plus: Golf GPS', 'FanDuel: Daily Fantasy Sports',\n",
       "       'DraftKings - Daily Fantasy Sports',\n",
       "       'Fantasy Football Manager (FPL)', 'Fantasy Football',\n",
       "       'FOX Sports: Live Streaming, Scores & News',\n",
       "       '850 Sports News Digest', '365Scores - Live Scores',\n",
       "       'Cricbuzz - Live Cricket Scores & News',\n",
       "       'Fantasy Football & NFL News',\n",
       "       'Expedia Hotels, Flights & Car Rental Travel Deals',\n",
       "       'Hopper - Watch & Book Flights',\n",
       "       'CityMaps2Go Plan Trips Travel Guide Offline Maps',\n",
       "       'Hotels.com: Book Hotel Rooms & Find Vacation Deals',\n",
       "       'Booking.com Travel Deals',\n",
       "       'Hostelworld: Hostels & Cheap Hotels Travel App',\n",
       "       'Google Trips - Travel Planner', 'Airbnb', 'GPS Map Free',\n",
       "       'Google Earth', 'GasBuddy: Find Cheap Gas',\n",
       "       'AT&T Navigator: Maps, Traffic', 'Google Street View', 'AirAsia',\n",
       "       'Goibibo - Flight Hotel Bus Car IRCTC Booking App', 'Allegiant',\n",
       "       'Amtrak', 'Flight & Hotel Booking App - ixigo',\n",
       "       'Foursquare Swarm: Check In', 'Flightradar24 Flight Tracker',\n",
       "       'Fly Delta', '2GIS: directory & navigator', 'American Airlines',\n",
       "       'Find Dining Restaurant Finder', 'Hipmunk Hotels & Flights',\n",
       "       'CWT To Go', 'British Airways', 'Cheap Flights & Hotels momondo',\n",
       "       'CheapTickets – Hotels, Flights & Travel Deals', 'Flights',\n",
       "       'Cheapflights – Flight Search', 'Choice Hotels',\n",
       "       'Couchsurfing Travel App', 'Hotwire Hotel & Car Rental App',\n",
       "       'HotelTonight: Book amazing deals at great hotels',\n",
       "       'Hotels Combined - Cheap deals', 'Agoda – Hotel Booking Deals',\n",
       "       'Ascape VR: 360° Virtual Travel',\n",
       "       'Cheap hotel deals and discounts — Hotellook',\n",
       "       'GPS Status & Toolbox', 'Airport + Flight Tracker Radar',\n",
       "       'DreamTrips', 'Google', 'Google Translate',\n",
       "       'Cache Cleaner-DU Speed Booster (booster & cleaner)',\n",
       "       'Device Help', 'Account Manager', 'File Manager',\n",
       "       'Calculator - free calculator, multi calculator app',\n",
       "       'ASUS Sound Recorder',\n",
       "       'Files Go by Google: Free up space on your phone',\n",
       "       'File Manager -- Take Command of Your Files Easily',\n",
       "       'HTC Lock Screen', 'Gboard - the Google Keyboard',\n",
       "       'AT&T Smart Wi-Fi', 'HTC Sense Input', 'App vault', 'DuraSpeed',\n",
       "       'HTC Sense Input-AR', 'Digital Alarm Clock', 'Alarm Clock Free',\n",
       "       'Alarm Clock', 'High-Powered Flashlight', 'Flashlight & LED Torch',\n",
       "       'Color Flashlight', 'Flashlight', 'CM Flashlight (Compass, SOS)',\n",
       "       'Flashlight HD LED', 'Flashlight - Torch LED Light',\n",
       "       'Brightest LED Flashlight', 'Brightest Flashlight Free ®',\n",
       "       'Fraction Calculator Plus Free', 'Calculator Plus Free',\n",
       "       'CALCU™ Stylish Calculator Free', 'Calculator with Percent (Free)',\n",
       "       'Graphing Calculator', 'ConvertPad - Unit Converter',\n",
       "       'Age Calculator', 'EzCalculator', 'Hideman VPN', 'Fast Secure VPN',\n",
       "       'Free & Premium VPN - FinchVPN',\n",
       "       'Hotspot Shield Free VPN Proxy & Wi-Fi Security',\n",
       "       'FREEDOME VPN Unlimited anonymous Wifi Security',\n",
       "       'GO Keyboard - Cute Emojis, Themes and GIFs',\n",
       "       'Google Handwriting Input', 'CM Locker - Security Lockscreen',\n",
       "       'AppLock - Fingerprint', '3D Live Neon Weed Launcher',\n",
       "       'Evie Launcher', 'Golden Launcher',\n",
       "       'CM Launcher 3D - Theme, Wallpapers, Efficient',\n",
       "       '4K Wallpapers and Ultra HD Backgrounds',\n",
       "       'Birds Sounds Ringtones & Wallpapers',\n",
       "       'Funny Alarm Clock Ringtones', 'Diamond Zipper Lock Screen',\n",
       "       'Backgrounds (HD Wallpapers)',\n",
       "       'APUS Launcher - Theme, Wallpaper, Hide Apps', 'Apex Launcher',\n",
       "       'Goku Wallpaper Art', 'Door Lock Screen',\n",
       "       'ASUS Cover for ZenFone 2',\n",
       "       'Colorful Glitter Neon Butterfly Keyboard Theme',\n",
       "       'FUN Keyboard – Emoji Keyboard, Sticker,Theme & GIF',\n",
       "       'Freeme Launcher—Stylish Theme', 'Beautiful Widgets Pro',\n",
       "       'Beautiful Widgets Free', 'HD Widgets', 'DashClock Widget',\n",
       "       'Fancy Widgets', 'Best Wallpapers QHD',\n",
       "       'Dog Licks Screen Wallpaper', 'Flowers Live Wallpaper',\n",
       "       'Galactic Core Free Wallpaper', 'Asteroids 3D live wallpaper',\n",
       "       'Backgrounds HD (Wallpapers)', 'Butterfly Live Wallpaper',\n",
       "       'Horses Live Wallpaper', 'Buzz Launcher-Smart&Free Theme',\n",
       "       'BIG Launcher', 'GO Keyboard - Emoticon keyboard, Free Theme, GIF',\n",
       "       '2018Emoji Keyboard 😂 Emoticons Lite -sticker&gif',\n",
       "       'All-In-One Toolbox: Cleaner, Booster, App Manager',\n",
       "       'Adobe Acrobat Reader',\n",
       "       'AVG Cleaner – Speed, Battery & Memory Booster', 'Chrome Beta',\n",
       "       'Google PDF Viewer', 'Calculator - unit converter', 'Google Keep',\n",
       "       'Archos File Manager', 'ASUS SuperNote', 'HTC File Manager',\n",
       "       'Dropbox', 'ASUS Quick Memo', 'HTC Calendar',\n",
       "       'ASUS Calling Screen', 'Content Transfer',\n",
       "       'Evernote – Organizer, Planner for Notes & Memos', 'HTC Mail',\n",
       "       'Advanced Task Killer', 'Do It Later: Tasks & To-Dos',\n",
       "       \"Hacker's Keyboard\", '7 Weeks - Habit & Goal Tracker',\n",
       "       'Any.do: To-do list, Calendar, Reminders & Planner',\n",
       "       'Easy Voice Recorder', 'Dashlane Free Password Manager',\n",
       "       'File Browser by Astro (File Manager)', 'File Explorer',\n",
       "       'AndroZip™ FREE File Manager', 'Google Slides',\n",
       "       'ColorNote Notepad Notes', 'Calendar+ Schedule Planner App',\n",
       "       'Calendar Widget Month + Agenda', 'DigiCal Calendar Agenda',\n",
       "       'Business Calendar 2', 'G Cloud Backup', 'Amazon Drive',\n",
       "       'Baby Panda Learns Shapes',\n",
       "       'Family Album Mitene: Private Photo & Video Sharing',\n",
       "       'Family GPS Tracker and Chat + Baby Monitor Online',\n",
       "       'Baby Name Together',\n",
       "       'Amazon FreeTime – Kids’ Videos, Books, & TV shows',\n",
       "       'Baby Panda Musical Genius', 'Baby Monitor',\n",
       "       'Daniel Tiger for Parents',\n",
       "       'AccuWeather: Daily Forecast & Live Weather Reports',\n",
       "       'Free live weather on screen', 'APE Weather ( Live Forecast)',\n",
       "       'GO Weather - Widget, Theme, Wallpaper, Efficient', 'HTC Weather',\n",
       "       'ForecaWeather', 'All Video Downloader 2018', 'HD Video Player',\n",
       "       'HD Movie Video Player', 'HTC Service － DLNA',\n",
       "       'HTC Service—Video Player', 'Droid Zap by Motorola', 'HTC Gallery',\n",
       "       'BluTV', 'Fox News – Breaking News, Live Video & News Alerts',\n",
       "       'BBC News', 'Free TV Shows App:News, TV Series, Episode, Movies',\n",
       "       'CNN Breaking US & World News',\n",
       "       'Dailyhunt (Newshunt) - Latest News, Viral Videos',\n",
       "       'ARY NEWS URDU', 'Google News',\n",
       "       'Breaking News, Local news, Attacks and Alerts Free', 'ARY NEWS',\n",
       "       'Flipboard: News For Our Time', 'BeyondPod Podcast Manager',\n",
       "       'BuzzFeed: News, Tasty, Quizzes', 'Fast News', 'Financial Times',\n",
       "       'Digg', 'Bloomberg: Market & Financial News',\n",
       "       'Haystack TV: Local & World News - Free',\n",
       "       'ABC News - US & World News', 'AP Mobile - Breaking News',\n",
       "       'AC - Tips & News for Android™', 'CBS News',\n",
       "       'AOL - News, Mail & Video', 'BaconReader for Reddit',\n",
       "       'Air Traffic', 'Atlan3D Navigation: Korea navigator',\n",
       "       'Czech Public Transport IDOS', 'GPS Speedometer and Odometer',\n",
       "       'GPS Traffic Speedcam Route Planner by ViaMichelin',\n",
       "       'GPS Speedometer, Distance Meter', 'FindShip',\n",
       "       'A Call From Santa Claus!', 'A Word A Day', 'Akinator',\n",
       "       'Dog Sim Online: Raise a Family',\n",
       "       'Color by Number - Draw Sandbox Pixel Art', 'A+ Mobile',\n",
       "       'Build a Bridge!', 'Find a Way: Addictive Puzzle',\n",
       "       'Comptia A+ 220-901 & 220-902', 'Azar', '4 in a Row',\n",
       "       'Asphalt 8: Airborne', 'Basketball Stars',\n",
       "       'Fake Call - Fake Caller ID', 'Four In A Line Free',\n",
       "       'AutoCAD - DWG Viewer & Editor', 'Fortune City - A Finance App',\n",
       "       'Draw A Stickman', 'Be A Legend: Soccer', 'Bible',\n",
       "       'Cat Sim Online: Play with Cats', 'Four In A Line', 'Hay Day',\n",
       "       'Fruit Ninja®',\n",
       "       'DU Recorder – Screen Recorder, Video Editor, Live', 'Bad Piggies',\n",
       "       'Dumb Ways to Die 2: The Games',\n",
       "       'AD - Nieuws, Sport, Regio & Entertainment', 'AppLock',\n",
       "       'Diary with lock password', 'Avakin Life - 3D virtual world',\n",
       "       'A+ Gallery - Photos & Videos'], dtype=object)"
      ]
     },
     "execution_count": 24,
     "metadata": {},
     "output_type": "execute_result"
    }
   ],
   "source": [
    "df['App'].unique()"
   ]
  },
  {
   "cell_type": "code",
   "execution_count": null,
   "metadata": {},
   "outputs": [],
   "source": []
  },
  {
   "cell_type": "code",
   "execution_count": 25,
   "metadata": {
    "colab": {
     "base_uri": "https://localhost:8080/"
    },
    "id": "xoEm9mFzYHct",
    "outputId": "8ede2d2e-ec10-4717-c80c-d8387255c2fb"
   },
   "outputs": [
    {
     "data": {
      "text/plain": [
       "array(['ART_AND_DESIGN', 'FAMILY', 'AUTO_AND_VEHICLES', 'BEAUTY',\n",
       "       'BOOKS_AND_REFERENCE', 'BUSINESS', 'COMMUNICATION', 'COMICS',\n",
       "       'DATING', 'EDUCATION', 'ENTERTAINMENT', 'EVENTS', 'FINANCE',\n",
       "       'FOOD_AND_DRINK', 'HEALTH_AND_FITNESS', 'HOUSE_AND_HOME',\n",
       "       'LIBRARIES_AND_DEMO', 'LIFESTYLE', 'GAME', 'SPORTS', 'MEDICAL',\n",
       "       'SOCIAL', 'SHOPPING', 'PHOTOGRAPHY', 'TRAVEL_AND_LOCAL', 'TOOLS',\n",
       "       'PERSONALIZATION', 'PRODUCTIVITY', 'PARENTING', 'WEATHER',\n",
       "       'VIDEO_PLAYERS', 'NEWS_AND_MAGAZINES', 'MAPS_AND_NAVIGATION'],\n",
       "      dtype=object)"
      ]
     },
     "execution_count": 25,
     "metadata": {},
     "output_type": "execute_result"
    }
   ],
   "source": [
    "df['Category'].unique()"
   ]
  },
  {
   "cell_type": "code",
   "execution_count": 27,
   "metadata": {
    "colab": {
     "base_uri": "https://localhost:8080/"
    },
    "id": "2oGp78TgYHiC",
    "outputId": "faa56100-e0d6-4b61-8d5b-222f88a4f5b1"
   },
   "outputs": [
    {
     "data": {
      "text/plain": [
       "array([3.9, 4.4, 4.3, 4.1, 4.7, 4.5, 4.2, 4.9, 4.6, 4. , 3.5, 3.8, 3.7,\n",
       "       3.3, 3.4, 3. , 3.6, 4.8, 3.1, 3.2, 2.7, 2.6])"
      ]
     },
     "execution_count": 27,
     "metadata": {},
     "output_type": "execute_result"
    }
   ],
   "source": [
    "df['Rating'].unique()"
   ]
  },
  {
   "cell_type": "code",
   "execution_count": 28,
   "metadata": {
    "colab": {
     "base_uri": "https://localhost:8080/"
    },
    "id": "U_sGRS-cYHk4",
    "outputId": "660084a8-f36e-401a-b949-61f7ef7ffe9d"
   },
   "outputs": [
    {
     "data": {
      "text/plain": [
       "array([    967,     974,   13791, ...,  179139, 1275373,  223941],\n",
       "      dtype=int64)"
      ]
     },
     "execution_count": 28,
     "metadata": {},
     "output_type": "execute_result"
    }
   ],
   "source": [
    "df['Reviews'].unique()"
   ]
  },
  {
   "cell_type": "code",
   "execution_count": 29,
   "metadata": {
    "colab": {
     "base_uri": "https://localhost:8080/"
    },
    "id": "-QgJqqC-YHoH",
    "outputId": "81eea1d0-12a9-4d37-af4e-a7da61a8af13"
   },
   "outputs": [
    {
     "data": {
      "text/plain": [
       "array(['14M', '33M', '39M', '12M', '25M', '6.1M', '11M',\n",
       "       'Varies with device', '24M', '17M', '2.4M', '27M', '16M', '2.9M',\n",
       "       '38M', '21M', '8.2M', '4.2M', '5.9M', '37M', '6.8M', '10M', '2.1M',\n",
       "       '42M', '3.9M', '18M', '3.2M', '20M', '26M', '48M', '8.5M', '28M',\n",
       "       '46M', '7.8M', '6.6M', '5.1M', '4.0M', '32M', '4.7M', '2.7M',\n",
       "       '118k', '7.3M', '695k', '56M', '29M', '40M', '3.1M', '5.0M', '31M',\n",
       "       '8.0M', '7.9M', '13M', '7.2M', '41M', '2.8M', '15M', '44M', '8.1M',\n",
       "       '4.5M', '7.4M', '1.9M', '1.8M', '2.3M', '5.2M', '1.2M', '5.6M',\n",
       "       '72M', '9.6M', '23M', '19M', '43M', '9.5M', '8.9M', '65M', '22M',\n",
       "       '3.8M', '8.4M', '58M', '50M', '45M', '53M', '68M', '66M', '35M',\n",
       "       '76M', '9.4M', '6.9M', '4.3M', '67M', '5.5M', '3.3M', '3.6M',\n",
       "       '7.5M', '9.1M', '8.3M', '7.0M', '77M', '5.7M', '5.3M', '30M',\n",
       "       '232k', '99M', '624k', '95M', '8.5k', '292k', '55M', '4.4M', '36M',\n",
       "       '3.0M', '1.7M', '7.7M', '74M', '97M', '98M', '4.9M', '52M', '78M',\n",
       "       '59M', '85M', '63M', '70M', '71M', '49M', '82M', '73M', '86M',\n",
       "       '81M', '96M', '57M', '93M', '83M', '60M', '54M', '61M', '75M',\n",
       "       '51M', '91M', '2.6M', '6.4M', '2.0M', '1.5M', '62M', '4.1M',\n",
       "       '9.3M', '6.2M', '9.7M', '8.7M', '47M', '1.6M', '9.8M', '6.0M',\n",
       "       '6.5M', '88M', '4.6M', '7.6M', '10.0M', '1.3M', '9.9M', '3.5M',\n",
       "       '853k', '7.1M', '9.2M', '720k', '6.3M', '5.4M', '92M', '94M'],\n",
       "      dtype=object)"
      ]
     },
     "execution_count": 29,
     "metadata": {},
     "output_type": "execute_result"
    }
   ],
   "source": [
    "df['Size'].unique()"
   ]
  },
  {
   "cell_type": "code",
   "execution_count": 30,
   "metadata": {
    "colab": {
     "base_uri": "https://localhost:8080/"
    },
    "id": "WxZWJVrRYHq8",
    "outputId": "2be2f625-897f-40e1-dde7-db765efd52d6"
   },
   "outputs": [
    {
     "data": {
      "text/plain": [
       "array(['500,000+', '1,000,000+', '5,000,000+', '100,000+', '10,000,000+',\n",
       "       '100,000,000+', '50,000,000+', '10,000+', '1,000,000,000+',\n",
       "       '500,000,000+', '50,000+', '1,000+'], dtype=object)"
      ]
     },
     "execution_count": 30,
     "metadata": {},
     "output_type": "execute_result"
    }
   ],
   "source": [
    "df['Installs'].unique()"
   ]
  },
  {
   "cell_type": "code",
   "execution_count": 31,
   "metadata": {
    "colab": {
     "base_uri": "https://localhost:8080/"
    },
    "id": "Xvy31zA0YHue",
    "outputId": "f7960820-d194-4df9-f62b-c6b547ac265b"
   },
   "outputs": [
    {
     "data": {
      "text/plain": [
       "array(['Free', 'Paid'], dtype=object)"
      ]
     },
     "execution_count": 31,
     "metadata": {},
     "output_type": "execute_result"
    }
   ],
   "source": [
    "df['Type'].unique()"
   ]
  },
  {
   "cell_type": "code",
   "execution_count": 32,
   "metadata": {
    "colab": {
     "base_uri": "https://localhost:8080/"
    },
    "id": "MXIzTfIlYOY7",
    "outputId": "92ee779e-7171-464d-86d1-83dd2f433744"
   },
   "outputs": [
    {
     "name": "stdout",
     "output_type": "stream",
     "text": [
      "Everyone\n",
      "Teen\n",
      "Mature 17+\n",
      "Everyone 10+\n",
      "Adults only 18+\n"
     ]
    }
   ],
   "source": [
    "for a in df['Content Rating'].unique():\n",
    "  print(a)"
   ]
  },
  {
   "cell_type": "code",
   "execution_count": 34,
   "metadata": {
    "colab": {
     "base_uri": "https://localhost:8080/"
    },
    "id": "Kd1ZKKMmYOfC",
    "outputId": "b25b307f-641c-4070-abce-1fafed0f41ad"
   },
   "outputs": [
    {
     "data": {
      "text/plain": [
       "array(['Negative', 'Neutral', 'Positive'], dtype=object)"
      ]
     },
     "execution_count": 34,
     "metadata": {},
     "output_type": "execute_result"
    }
   ],
   "source": [
    "df['Sentiment'].unique()"
   ]
  },
  {
   "cell_type": "code",
   "execution_count": 35,
   "metadata": {
    "id": "HXorWPQsXlr9"
   },
   "outputs": [
    {
     "data": {
      "text/plain": [
       "array(['0', 0, '$4.99', '$6.99', '$3.99', '$11.99', '$9.99', '$29.99',\n",
       "       '$2.49', '$0.99'], dtype=object)"
      ]
     },
     "execution_count": 35,
     "metadata": {},
     "output_type": "execute_result"
    }
   ],
   "source": [
    "df['Price'].unique()"
   ]
  },
  {
   "cell_type": "markdown",
   "metadata": {
    "id": "fwrEmeAoXmqJ"
   },
   "source": [
    "### Type casting and removing the unwanted variables from each columns"
   ]
  },
  {
   "cell_type": "code",
   "execution_count": 36,
   "metadata": {
    "colab": {
     "base_uri": "https://localhost:8080/"
    },
    "id": "lvaVFGjGGP5D",
    "outputId": "542fc6ff-86fe-44ad-96a0-23b1e7ea13f5"
   },
   "outputs": [
    {
     "data": {
      "text/plain": [
       "0    ART AND DESIGN\n",
       "1    ART AND DESIGN\n",
       "2    ART AND DESIGN\n",
       "4    ART AND DESIGN\n",
       "5    ART AND DESIGN\n",
       "Name: Category, dtype: object"
      ]
     },
     "execution_count": 36,
     "metadata": {},
     "output_type": "execute_result"
    }
   ],
   "source": [
    "# Removing underscore in the 'category' column\n",
    "df['Category'] = df['Category'].str.replace('_', ' ')\n",
    "df['Category'].head()"
   ]
  },
  {
   "cell_type": "code",
   "execution_count": 37,
   "metadata": {
    "id": "GzfIIC9IYOih"
   },
   "outputs": [],
   "source": [
    "# converting 'Reviews' values to integer \n",
    "# df['Reviews'] = df['Reviews'].apply(lambda x : int(x)) the lambda code can also be used\n",
    "df['Reviews'] = df['Reviews'].astype(int)"
   ]
  },
  {
   "cell_type": "code",
   "execution_count": 38,
   "metadata": {
    "colab": {
     "base_uri": "https://localhost:8080/"
    },
    "id": "tDz6tLbMYOnc",
    "outputId": "8bef130b-efe3-48bd-aa74-9bba76c91235"
   },
   "outputs": [
    {
     "data": {
      "text/plain": [
       "dtype('int32')"
      ]
     },
     "execution_count": 38,
     "metadata": {},
     "output_type": "execute_result"
    }
   ],
   "source": [
    "df['Reviews'].dtype"
   ]
  },
  {
   "cell_type": "code",
   "execution_count": 39,
   "metadata": {
    "id": "9sFAcW7lYOqn"
   },
   "outputs": [],
   "source": [
    "# removing the character values in 'Size' and converting 'Size' values to float\n",
    "df['Size'] = df['Size'].apply(lambda x : str(x).replace('M', '') if 'M' in str(x) else (x) )\n",
    "df['Size'] = df['Size'].apply(lambda x : float(str(x).replace('k', '')) / 1024 if 'k' in str(x) else (x))\n",
    "df['Size'] = df['Size'].apply(lambda x : str(x).replace('Varies with device', '0') if 'Varies with device' in str(x) else(x))\n",
    "df['Size'] = df['Size'].astype(float)"
   ]
  },
  {
   "cell_type": "code",
   "execution_count": 40,
   "metadata": {
    "colab": {
     "base_uri": "https://localhost:8080/"
    },
    "id": "MrEJ-FyOYOtx",
    "outputId": "fa7cf36d-898a-4211-e7fa-67bc88b7f489"
   },
   "outputs": [
    {
     "data": {
      "text/plain": [
       "dtype('float64')"
      ]
     },
     "execution_count": 40,
     "metadata": {},
     "output_type": "execute_result"
    }
   ],
   "source": [
    "#checking if the dtype of 'size'has change to float after convertion\n",
    "df['Size'].dtype"
   ]
  },
  {
   "cell_type": "code",
   "execution_count": 41,
   "metadata": {
    "id": "AK7rsXzqKvql"
   },
   "outputs": [],
   "source": [
    "# Removing the + sign in 'Installs' column and converting the dtype to int\n",
    "df['Installs'] = df['Installs'].str.replace(',','')\n",
    "df['Installs'] = df['Installs'].str.strip('+')\n",
    "df['Installs'] = df['Installs'].astype(int)\n"
   ]
  },
  {
   "cell_type": "code",
   "execution_count": 42,
   "metadata": {},
   "outputs": [],
   "source": [
    "#stripping the $ sign off fron price \n",
    "df['Price'] = df['Price'].str.strip('$')\n",
    "df['Price'] = df['Price'].astype(float)"
   ]
  },
  {
   "cell_type": "code",
   "execution_count": null,
   "metadata": {},
   "outputs": [],
   "source": [
    "#rename of 'price' to 'price ($)'"
   ]
  },
  {
   "cell_type": "code",
   "execution_count": 44,
   "metadata": {},
   "outputs": [
    {
     "name": "stdout",
     "output_type": "stream",
     "text": [
      "<class 'pandas.core.frame.DataFrame'>\n",
      "Int64Index: 40410 entries, 0 to 122661\n",
      "Data columns (total 17 columns):\n",
      " #   Column                  Non-Null Count  Dtype  \n",
      "---  ------                  --------------  -----  \n",
      " 0   App                     40410 non-null  object \n",
      " 1   Category                40410 non-null  object \n",
      " 2   Rating                  40410 non-null  float64\n",
      " 3   Reviews                 40410 non-null  int32  \n",
      " 4   Size                    40410 non-null  float64\n",
      " 5   Installs                40410 non-null  int32  \n",
      " 6   Type                    40410 non-null  object \n",
      " 7   Price                   30357 non-null  float64\n",
      " 8   Content Rating          40410 non-null  object \n",
      " 9   Genres                  40410 non-null  object \n",
      " 10  Last Updated            40410 non-null  object \n",
      " 11  Current Ver             40410 non-null  object \n",
      " 12  Android Ver             40410 non-null  object \n",
      " 13  Translated_Review       40410 non-null  object \n",
      " 14  Sentiment               40410 non-null  object \n",
      " 15  Sentiment_Polarity      40410 non-null  float64\n",
      " 16  Sentiment_Subjectivity  40410 non-null  float64\n",
      "dtypes: float64(5), int32(2), object(10)\n",
      "memory usage: 5.2+ MB\n"
     ]
    }
   ],
   "source": [
    "df.info()"
   ]
  },
  {
   "cell_type": "code",
   "execution_count": 45,
   "metadata": {
    "colab": {
     "base_uri": "https://localhost:8080/",
     "height": 300
    },
    "id": "7a1R3Xx9YO2G",
    "outputId": "8308a33e-e141-4abb-fbe0-0bbb7cf05aea"
   },
   "outputs": [
    {
     "data": {
      "text/html": [
       "<div>\n",
       "<style scoped>\n",
       "    .dataframe tbody tr th:only-of-type {\n",
       "        vertical-align: middle;\n",
       "    }\n",
       "\n",
       "    .dataframe tbody tr th {\n",
       "        vertical-align: top;\n",
       "    }\n",
       "\n",
       "    .dataframe thead th {\n",
       "        text-align: right;\n",
       "    }\n",
       "</style>\n",
       "<table border=\"1\" class=\"dataframe\">\n",
       "  <thead>\n",
       "    <tr style=\"text-align: right;\">\n",
       "      <th></th>\n",
       "      <th>Rating</th>\n",
       "      <th>Reviews</th>\n",
       "      <th>Size</th>\n",
       "      <th>Installs</th>\n",
       "      <th>Price</th>\n",
       "      <th>Sentiment_Polarity</th>\n",
       "      <th>Sentiment_Subjectivity</th>\n",
       "    </tr>\n",
       "  </thead>\n",
       "  <tbody>\n",
       "    <tr>\n",
       "      <th>count</th>\n",
       "      <td>40410.000000</td>\n",
       "      <td>4.041000e+04</td>\n",
       "      <td>40410.000000</td>\n",
       "      <td>4.041000e+04</td>\n",
       "      <td>30357.000000</td>\n",
       "      <td>40410.000000</td>\n",
       "      <td>40410.000000</td>\n",
       "    </tr>\n",
       "    <tr>\n",
       "      <th>mean</th>\n",
       "      <td>4.324870</td>\n",
       "      <td>2.197498e+06</td>\n",
       "      <td>21.459570</td>\n",
       "      <td>5.902115e+07</td>\n",
       "      <td>0.102276</td>\n",
       "      <td>0.168089</td>\n",
       "      <td>0.495124</td>\n",
       "    </tr>\n",
       "    <tr>\n",
       "      <th>std</th>\n",
       "      <td>0.285914</td>\n",
       "      <td>7.454746e+06</td>\n",
       "      <td>27.290244</td>\n",
       "      <td>1.713685e+08</td>\n",
       "      <td>1.304376</td>\n",
       "      <td>0.343181</td>\n",
       "      <td>0.250381</td>\n",
       "    </tr>\n",
       "    <tr>\n",
       "      <th>min</th>\n",
       "      <td>2.600000</td>\n",
       "      <td>4.600000e+01</td>\n",
       "      <td>0.000000</td>\n",
       "      <td>1.000000e+03</td>\n",
       "      <td>0.000000</td>\n",
       "      <td>-1.000000</td>\n",
       "      <td>0.000000</td>\n",
       "    </tr>\n",
       "    <tr>\n",
       "      <th>25%</th>\n",
       "      <td>4.200000</td>\n",
       "      <td>1.703000e+04</td>\n",
       "      <td>0.000000</td>\n",
       "      <td>1.000000e+06</td>\n",
       "      <td>0.000000</td>\n",
       "      <td>0.000000</td>\n",
       "      <td>0.373737</td>\n",
       "    </tr>\n",
       "    <tr>\n",
       "      <th>50%</th>\n",
       "      <td>4.400000</td>\n",
       "      <td>1.114500e+05</td>\n",
       "      <td>9.500000</td>\n",
       "      <td>1.000000e+07</td>\n",
       "      <td>0.000000</td>\n",
       "      <td>0.136364</td>\n",
       "      <td>0.512963</td>\n",
       "    </tr>\n",
       "    <tr>\n",
       "      <th>75%</th>\n",
       "      <td>4.500000</td>\n",
       "      <td>1.468638e+06</td>\n",
       "      <td>33.000000</td>\n",
       "      <td>5.000000e+07</td>\n",
       "      <td>0.000000</td>\n",
       "      <td>0.387772</td>\n",
       "      <td>0.645833</td>\n",
       "    </tr>\n",
       "    <tr>\n",
       "      <th>max</th>\n",
       "      <td>4.900000</td>\n",
       "      <td>7.815831e+07</td>\n",
       "      <td>99.000000</td>\n",
       "      <td>1.000000e+09</td>\n",
       "      <td>29.990000</td>\n",
       "      <td>1.000000</td>\n",
       "      <td>1.000000</td>\n",
       "    </tr>\n",
       "  </tbody>\n",
       "</table>\n",
       "</div>"
      ],
      "text/plain": [
       "             Rating       Reviews          Size      Installs         Price  \\\n",
       "count  40410.000000  4.041000e+04  40410.000000  4.041000e+04  30357.000000   \n",
       "mean       4.324870  2.197498e+06     21.459570  5.902115e+07      0.102276   \n",
       "std        0.285914  7.454746e+06     27.290244  1.713685e+08      1.304376   \n",
       "min        2.600000  4.600000e+01      0.000000  1.000000e+03      0.000000   \n",
       "25%        4.200000  1.703000e+04      0.000000  1.000000e+06      0.000000   \n",
       "50%        4.400000  1.114500e+05      9.500000  1.000000e+07      0.000000   \n",
       "75%        4.500000  1.468638e+06     33.000000  5.000000e+07      0.000000   \n",
       "max        4.900000  7.815831e+07     99.000000  1.000000e+09     29.990000   \n",
       "\n",
       "       Sentiment_Polarity  Sentiment_Subjectivity  \n",
       "count        40410.000000            40410.000000  \n",
       "mean             0.168089                0.495124  \n",
       "std              0.343181                0.250381  \n",
       "min             -1.000000                0.000000  \n",
       "25%              0.000000                0.373737  \n",
       "50%              0.136364                0.512963  \n",
       "75%              0.387772                0.645833  \n",
       "max              1.000000                1.000000  "
      ]
     },
     "execution_count": 45,
     "metadata": {},
     "output_type": "execute_result"
    }
   ],
   "source": [
    "df.describe()"
   ]
  },
  {
   "cell_type": "code",
   "execution_count": 46,
   "metadata": {
    "id": "i71D6briYO4-"
   },
   "outputs": [
    {
     "data": {
      "text/plain": [
       "0        2018-01-15\n",
       "1        2018-01-15\n",
       "2        2018-01-15\n",
       "4        2018-01-15\n",
       "5        2018-01-15\n",
       "            ...    \n",
       "122646   2018-08-06\n",
       "122652   2018-08-06\n",
       "122659   2018-08-06\n",
       "122660   2018-08-06\n",
       "122661   2018-08-06\n",
       "Name: Last Updated, Length: 40410, dtype: datetime64[ns]"
      ]
     },
     "execution_count": 46,
     "metadata": {},
     "output_type": "execute_result"
    }
   ],
   "source": [
    "df['Last Updated'] = pd.to_datetime(df['Last Updated'])\n",
    "df['Last Updated']"
   ]
  },
  {
   "cell_type": "markdown",
   "metadata": {
    "id": "r_uH_2_nZN0J"
   },
   "source": [
    "### Exploring the dataset"
   ]
  },
  {
   "cell_type": "code",
   "execution_count": 47,
   "metadata": {
    "colab": {
     "base_uri": "https://localhost:8080/",
     "height": 263
    },
    "id": "8t7VZpTPYO-s",
    "outputId": "e420f7d5-d19b-4e18-bf94-f5aac5335e76"
   },
   "outputs": [
    {
     "data": {
      "text/html": [
       "<div>\n",
       "<style scoped>\n",
       "    .dataframe tbody tr th:only-of-type {\n",
       "        vertical-align: middle;\n",
       "    }\n",
       "\n",
       "    .dataframe tbody tr th {\n",
       "        vertical-align: top;\n",
       "    }\n",
       "\n",
       "    .dataframe thead th {\n",
       "        text-align: right;\n",
       "    }\n",
       "</style>\n",
       "<table border=\"1\" class=\"dataframe\">\n",
       "  <thead>\n",
       "    <tr style=\"text-align: right;\">\n",
       "      <th></th>\n",
       "      <th>App</th>\n",
       "      <th>Category</th>\n",
       "      <th>Rating</th>\n",
       "      <th>Reviews</th>\n",
       "      <th>Size</th>\n",
       "      <th>Installs</th>\n",
       "      <th>Type</th>\n",
       "      <th>Price</th>\n",
       "      <th>Content Rating</th>\n",
       "      <th>Genres</th>\n",
       "      <th>Last Updated</th>\n",
       "      <th>Current Ver</th>\n",
       "      <th>Android Ver</th>\n",
       "      <th>Translated_Review</th>\n",
       "      <th>Sentiment</th>\n",
       "      <th>Sentiment_Polarity</th>\n",
       "      <th>Sentiment_Subjectivity</th>\n",
       "    </tr>\n",
       "  </thead>\n",
       "  <tbody>\n",
       "    <tr>\n",
       "      <th>0</th>\n",
       "      <td>Coloring book moana</td>\n",
       "      <td>ART AND DESIGN</td>\n",
       "      <td>3.9</td>\n",
       "      <td>967</td>\n",
       "      <td>14.0</td>\n",
       "      <td>500000</td>\n",
       "      <td>Free</td>\n",
       "      <td>0.0</td>\n",
       "      <td>Everyone</td>\n",
       "      <td>Art &amp; Design;Pretend Play</td>\n",
       "      <td>2018-01-15</td>\n",
       "      <td>2.0.0</td>\n",
       "      <td>4.0.3 and up</td>\n",
       "      <td>A kid's excessive ads. The types ads allowed a...</td>\n",
       "      <td>Negative</td>\n",
       "      <td>-0.250</td>\n",
       "      <td>1.000000</td>\n",
       "    </tr>\n",
       "    <tr>\n",
       "      <th>1</th>\n",
       "      <td>Coloring book moana</td>\n",
       "      <td>ART AND DESIGN</td>\n",
       "      <td>3.9</td>\n",
       "      <td>967</td>\n",
       "      <td>14.0</td>\n",
       "      <td>500000</td>\n",
       "      <td>Free</td>\n",
       "      <td>0.0</td>\n",
       "      <td>Everyone</td>\n",
       "      <td>Art &amp; Design;Pretend Play</td>\n",
       "      <td>2018-01-15</td>\n",
       "      <td>2.0.0</td>\n",
       "      <td>4.0.3 and up</td>\n",
       "      <td>It bad &gt;:(</td>\n",
       "      <td>Negative</td>\n",
       "      <td>-0.725</td>\n",
       "      <td>0.833333</td>\n",
       "    </tr>\n",
       "  </tbody>\n",
       "</table>\n",
       "</div>"
      ],
      "text/plain": [
       "                   App        Category  Rating  Reviews  Size  Installs  Type  \\\n",
       "0  Coloring book moana  ART AND DESIGN     3.9      967  14.0    500000  Free   \n",
       "1  Coloring book moana  ART AND DESIGN     3.9      967  14.0    500000  Free   \n",
       "\n",
       "   Price Content Rating                     Genres Last Updated Current Ver  \\\n",
       "0    0.0       Everyone  Art & Design;Pretend Play   2018-01-15       2.0.0   \n",
       "1    0.0       Everyone  Art & Design;Pretend Play   2018-01-15       2.0.0   \n",
       "\n",
       "    Android Ver                                  Translated_Review Sentiment  \\\n",
       "0  4.0.3 and up  A kid's excessive ads. The types ads allowed a...  Negative   \n",
       "1  4.0.3 and up                                         It bad >:(  Negative   \n",
       "\n",
       "   Sentiment_Polarity  Sentiment_Subjectivity  \n",
       "0              -0.250                1.000000  \n",
       "1              -0.725                0.833333  "
      ]
     },
     "execution_count": 47,
     "metadata": {},
     "output_type": "execute_result"
    }
   ],
   "source": [
    "df.head(2)"
   ]
  },
  {
   "cell_type": "markdown",
   "metadata": {
    "id": "c0zbLgyBp3kv"
   },
   "source": [
    "## Visualization Phase"
   ]
  },
  {
   "cell_type": "markdown",
   "metadata": {},
   "source": [
    "#### 1 Which app is the most rated?"
   ]
  },
  {
   "cell_type": "code",
   "execution_count": 48,
   "metadata": {
    "colab": {
     "base_uri": "https://localhost:8080/"
    },
    "id": "cbwcVLG-YPEC",
    "outputId": "dea56fae-0869-4a42-89aa-1020d32f76a5"
   },
   "outputs": [
    {
     "data": {
      "text/plain": [
       "App                             Rating\n",
       "8 Ball Pool                     4.5       672\n",
       "Helix Jump                      4.2       558\n",
       "Angry Birds Classic             4.4       535\n",
       "Bowmasters                      4.7       485\n",
       "Google Photos                   4.5       404\n",
       "Clash Royale                    4.6       384\n",
       "Bubble Shooter                  4.5       375\n",
       "DRAGON BALL LEGENDS             4.6       325\n",
       "Calorie Counter - MyFitnessPal  4.6       297\n",
       "Adobe Acrobat Reader            4.3       294\n",
       "Name: Rating, dtype: int64"
      ]
     },
     "execution_count": 48,
     "metadata": {},
     "output_type": "execute_result"
    }
   ],
   "source": [
    "# App and rating would be plotted against each other; group by function would be used to find the highest(top 10)\n",
    "# Grouping two columns ['App','Ratings']\n",
    "most_rating_by_app = df.groupby('App')['Rating'].value_counts().sort_values(ascending = False).head(10)\n",
    "most_rating_by_app\n"
   ]
  },
  {
   "cell_type": "code",
   "execution_count": 49,
   "metadata": {
    "colab": {
     "base_uri": "https://localhost:8080/",
     "height": 298
    },
    "id": "C_tRIAyAYPHD",
    "outputId": "6e43363d-ad6d-4442-ab86-eff77fa8d692"
   },
   "outputs": [
    {
     "data": {
      "image/png": "[encoded data removed]",
      "text/plain": [
       "<Figure size 576x432 with 1 Axes>"
      ]
     },
     "metadata": {
      "needs_background": "light"
     },
     "output_type": "display_data"
    }
   ],
   "source": [
    "most_rating_by_app.plot(kind ='barh', xlabel = 'App', ylabel = 'Rating', title = 'Most Rated App', figsize =(8,6));"
   ]
  },
  {
   "cell_type": "code",
   "execution_count": 50,
   "metadata": {
    "id": "68i8_8K84GgG"
   },
   "outputs": [],
   "source": [
    "# The above barh chart shows that '8 ball Pool' is the most rated."
   ]
  },
  {
   "cell_type": "markdown",
   "metadata": {},
   "source": [
    "#### 2. Get the free and paid apps with their ratings"
   ]
  },
  {
   "cell_type": "code",
   "execution_count": 51,
   "metadata": {
    "colab": {
     "base_uri": "https://localhost:8080/"
    },
    "id": "EJAU_1Df4EuB",
    "outputId": "d42a02c9-d257-410d-bb04-9aaed64e013f"
   },
   "outputs": [
    {
     "data": {
      "text/plain": [
       "8 Ball Pool                       672\n",
       "Helix Jump                        558\n",
       "Angry Birds Classic               535\n",
       "Bowmasters                        485\n",
       "Bubble Shooter                    450\n",
       "Google Photos                     404\n",
       "Clash Royale                      384\n",
       "DRAGON BALL LEGENDS               325\n",
       "Calorie Counter - MyFitnessPal    297\n",
       "Adobe Acrobat Reader              294\n",
       "Name: App, dtype: int64"
      ]
     },
     "execution_count": 51,
     "metadata": {},
     "output_type": "execute_result"
    }
   ],
   "source": [
    "df['App'].value_counts().head(10)"
   ]
  },
  {
   "cell_type": "code",
   "execution_count": 52,
   "metadata": {
    "colab": {
     "base_uri": "https://localhost:8080/",
     "height": 363
    },
    "id": "mPkHzMNM4D95",
    "outputId": "a3e1bf8c-b6f0-4dc1-96fa-e73baaf37777"
   },
   "outputs": [
    {
     "data": {
      "text/html": [
       "<div>\n",
       "<style scoped>\n",
       "    .dataframe tbody tr th:only-of-type {\n",
       "        vertical-align: middle;\n",
       "    }\n",
       "\n",
       "    .dataframe tbody tr th {\n",
       "        vertical-align: top;\n",
       "    }\n",
       "\n",
       "    .dataframe thead th {\n",
       "        text-align: right;\n",
       "    }\n",
       "</style>\n",
       "<table border=\"1\" class=\"dataframe\">\n",
       "  <thead>\n",
       "    <tr style=\"text-align: right;\">\n",
       "      <th></th>\n",
       "      <th>Type</th>\n",
       "      <th>Rating</th>\n",
       "    </tr>\n",
       "  </thead>\n",
       "  <tbody>\n",
       "    <tr>\n",
       "      <th>0</th>\n",
       "      <td>Free</td>\n",
       "      <td>3.9</td>\n",
       "    </tr>\n",
       "    <tr>\n",
       "      <th>1</th>\n",
       "      <td>Free</td>\n",
       "      <td>3.9</td>\n",
       "    </tr>\n",
       "    <tr>\n",
       "      <th>2</th>\n",
       "      <td>Free</td>\n",
       "      <td>3.9</td>\n",
       "    </tr>\n",
       "    <tr>\n",
       "      <th>4</th>\n",
       "      <td>Free</td>\n",
       "      <td>3.9</td>\n",
       "    </tr>\n",
       "    <tr>\n",
       "      <th>5</th>\n",
       "      <td>Free</td>\n",
       "      <td>3.9</td>\n",
       "    </tr>\n",
       "    <tr>\n",
       "      <th>7</th>\n",
       "      <td>Free</td>\n",
       "      <td>3.9</td>\n",
       "    </tr>\n",
       "    <tr>\n",
       "      <th>8</th>\n",
       "      <td>Free</td>\n",
       "      <td>3.9</td>\n",
       "    </tr>\n",
       "    <tr>\n",
       "      <th>9</th>\n",
       "      <td>Free</td>\n",
       "      <td>3.9</td>\n",
       "    </tr>\n",
       "    <tr>\n",
       "      <th>10</th>\n",
       "      <td>Free</td>\n",
       "      <td>3.9</td>\n",
       "    </tr>\n",
       "    <tr>\n",
       "      <th>11</th>\n",
       "      <td>Free</td>\n",
       "      <td>3.9</td>\n",
       "    </tr>\n",
       "  </tbody>\n",
       "</table>\n",
       "</div>"
      ],
      "text/plain": [
       "    Type  Rating\n",
       "0   Free     3.9\n",
       "1   Free     3.9\n",
       "2   Free     3.9\n",
       "4   Free     3.9\n",
       "5   Free     3.9\n",
       "7   Free     3.9\n",
       "8   Free     3.9\n",
       "9   Free     3.9\n",
       "10  Free     3.9\n",
       "11  Free     3.9"
      ]
     },
     "execution_count": 52,
     "metadata": {},
     "output_type": "execute_result"
    }
   ],
   "source": [
    "#Selecting two columns to perform a bi-variate analysis\n",
    "free_paid_app = df[['Type', 'Rating']]\n",
    "free_paid_app.head(10)"
   ]
  },
  {
   "cell_type": "code",
   "execution_count": 53,
   "metadata": {
    "colab": {
     "base_uri": "https://localhost:8080/",
     "height": 458
    },
    "id": "cLWdEFBC4Den",
    "outputId": "191afd15-cc4d-4e37-9942-11a34aa29faa"
   },
   "outputs": [
    {
     "data": {
      "image/png": "[encoded data removed]",
      "text/plain": [
       "<Figure size 1008x504 with 1 Axes>"
      ]
     },
     "metadata": {
      "needs_background": "light"
     },
     "output_type": "display_data"
    }
   ],
   "source": [
    "# Visualizing free and paid apps with their Ratings\n",
    "plt.figure(figsize = (14, 7))\n",
    "sns.countplot(x = 'Rating', data = free_paid_app, hue = 'Type', palette = 'viridis' )\n",
    "plt.title('Free and Paid App with their Rating');"
   ]
  },
  {
   "cell_type": "code",
   "execution_count": 54,
   "metadata": {
    "id": "ZfUg5xCCJl5D"
   },
   "outputs": [],
   "source": [
    "# the above chart shows that both free and paid apps were rated high but the number of people using free apps are more compared to paid apps"
   ]
  },
  {
   "cell_type": "markdown",
   "metadata": {},
   "source": [
    "#### 3. Which category uses the paid app?"
   ]
  },
  {
   "cell_type": "code",
   "execution_count": 55,
   "metadata": {
    "colab": {
     "base_uri": "https://localhost:8080/",
     "height": 298
    },
    "id": "EMdwR5qXJmM3",
    "outputId": "b502bba2-18de-493f-dbd7-a9aa72ec04ff"
   },
   "outputs": [
    {
     "data": {
      "text/html": [
       "<div>\n",
       "<style scoped>\n",
       "    .dataframe tbody tr th:only-of-type {\n",
       "        vertical-align: middle;\n",
       "    }\n",
       "\n",
       "    .dataframe tbody tr th {\n",
       "        vertical-align: top;\n",
       "    }\n",
       "\n",
       "    .dataframe thead th {\n",
       "        text-align: right;\n",
       "    }\n",
       "</style>\n",
       "<table border=\"1\" class=\"dataframe\">\n",
       "  <thead>\n",
       "    <tr style=\"text-align: right;\">\n",
       "      <th></th>\n",
       "      <th>App</th>\n",
       "      <th>Category</th>\n",
       "      <th>Rating</th>\n",
       "      <th>Reviews</th>\n",
       "      <th>Size</th>\n",
       "      <th>Installs</th>\n",
       "      <th>Type</th>\n",
       "      <th>Price</th>\n",
       "      <th>Content Rating</th>\n",
       "      <th>Genres</th>\n",
       "      <th>Last Updated</th>\n",
       "      <th>Current Ver</th>\n",
       "      <th>Android Ver</th>\n",
       "      <th>Translated_Review</th>\n",
       "      <th>Sentiment</th>\n",
       "      <th>Sentiment_Polarity</th>\n",
       "      <th>Sentiment_Subjectivity</th>\n",
       "    </tr>\n",
       "  </thead>\n",
       "  <tbody>\n",
       "    <tr>\n",
       "      <th>66940</th>\n",
       "      <td>Farming Simulator 18</td>\n",
       "      <td>GAME</td>\n",
       "      <td>4.5</td>\n",
       "      <td>18125</td>\n",
       "      <td>15.0</td>\n",
       "      <td>100000</td>\n",
       "      <td>Paid</td>\n",
       "      <td>4.99</td>\n",
       "      <td>Everyone</td>\n",
       "      <td>Simulation;Education</td>\n",
       "      <td>2018-07-09</td>\n",
       "      <td>Varies with device</td>\n",
       "      <td>4.4 and up</td>\n",
       "      <td>Great game!!!!! When I got game great, recentl...</td>\n",
       "      <td>Negative</td>\n",
       "      <td>-0.209091</td>\n",
       "      <td>0.631818</td>\n",
       "    </tr>\n",
       "    <tr>\n",
       "      <th>66941</th>\n",
       "      <td>Farming Simulator 18</td>\n",
       "      <td>GAME</td>\n",
       "      <td>4.5</td>\n",
       "      <td>18125</td>\n",
       "      <td>15.0</td>\n",
       "      <td>100000</td>\n",
       "      <td>Paid</td>\n",
       "      <td>4.99</td>\n",
       "      <td>Everyone</td>\n",
       "      <td>Simulation;Education</td>\n",
       "      <td>2018-07-09</td>\n",
       "      <td>Varies with device</td>\n",
       "      <td>4.4 and up</td>\n",
       "      <td>Very good, better graphics would better (more ...</td>\n",
       "      <td>Positive</td>\n",
       "      <td>0.552000</td>\n",
       "      <td>0.586000</td>\n",
       "    </tr>\n",
       "  </tbody>\n",
       "</table>\n",
       "</div>"
      ],
      "text/plain": [
       "                        App Category  Rating  Reviews  Size  Installs  Type  \\\n",
       "66940  Farming Simulator 18     GAME     4.5    18125  15.0    100000  Paid   \n",
       "66941  Farming Simulator 18     GAME     4.5    18125  15.0    100000  Paid   \n",
       "\n",
       "       Price Content Rating                Genres Last Updated  \\\n",
       "66940   4.99       Everyone  Simulation;Education   2018-07-09   \n",
       "66941   4.99       Everyone  Simulation;Education   2018-07-09   \n",
       "\n",
       "              Current Ver Android Ver  \\\n",
       "66940  Varies with device  4.4 and up   \n",
       "66941  Varies with device  4.4 and up   \n",
       "\n",
       "                                       Translated_Review Sentiment  \\\n",
       "66940  Great game!!!!! When I got game great, recentl...  Negative   \n",
       "66941  Very good, better graphics would better (more ...  Positive   \n",
       "\n",
       "       Sentiment_Polarity  Sentiment_Subjectivity  \n",
       "66940           -0.209091                0.631818  \n",
       "66941            0.552000                0.586000  "
      ]
     },
     "execution_count": 55,
     "metadata": {},
     "output_type": "execute_result"
    }
   ],
   "source": [
    "# subsetting to get dataset with paid apps only\n",
    "paidApp = df[df['Type']=='Paid']\n",
    "paidApp.head(2)\n"
   ]
  },
  {
   "cell_type": "code",
   "execution_count": 56,
   "metadata": {
    "colab": {
     "base_uri": "https://localhost:8080/"
    },
    "id": "aUdrBJ9kP-aq",
    "outputId": "ad196cd3-12fd-468d-91bf-281ac41508ff"
   },
   "outputs": [
    {
     "data": {
      "text/plain": [
       "array(['GAME', 'FAMILY', 'MEDICAL', 'SPORTS', 'PERSONALIZATION'],\n",
       "      dtype=object)"
      ]
     },
     "execution_count": 56,
     "metadata": {},
     "output_type": "execute_result"
    }
   ],
   "source": [
    "#checking for the unique values\n",
    "paidApp['Category'].unique()"
   ]
  },
  {
   "cell_type": "code",
   "execution_count": 57,
   "metadata": {
    "colab": {
     "base_uri": "https://localhost:8080/"
    },
    "id": "BMTO44Y5htgJ",
    "outputId": "541b4cc7-bcfa-43a4-90ba-962ee95c52ff"
   },
   "outputs": [
    {
     "data": {
      "text/plain": [
       "PERSONALIZATION    139\n",
       "MEDICAL             77\n",
       "FAMILY              72\n",
       "GAME                42\n",
       "SPORTS              40\n",
       "Name: Category, dtype: int64"
      ]
     },
     "execution_count": 57,
     "metadata": {},
     "output_type": "execute_result"
    }
   ],
   "source": [
    "paidApp['Category'].value_counts()"
   ]
  },
  {
   "cell_type": "code",
   "execution_count": 58,
   "metadata": {
    "colab": {
     "base_uri": "https://localhost:8080/",
     "height": 466
    },
    "id": "6CSnqps8iGrH",
    "outputId": "78095408-ca61-467c-d511-24bc1e22338a"
   },
   "outputs": [
    {
     "data": {
      "image/png": "[encoded data removed]",
      "text/plain": [
       "<Figure size 1080x576 with 1 Axes>"
      ]
     },
     "metadata": {},
     "output_type": "display_data"
    }
   ],
   "source": [
    "# using pie chat to visualize the catigory\n",
    "plt.figure(figsize= (15,8))\n",
    "plt.pie(paidApp['Category'].value_counts(),\n",
    "        labels = paidApp['Category'].value_counts().index,\n",
    "        startangle=90,\n",
    "        autopct = '%1.1f%%'\n",
    "        )\n",
    "plt.legend();"
   ]
  },
  {
   "cell_type": "markdown",
   "metadata": {},
   "source": [
    "#### 4.What are the top 10 Paid Apps and their category"
   ]
  },
  {
   "cell_type": "code",
   "execution_count": 59,
   "metadata": {},
   "outputs": [
    {
     "data": {
      "text/plain": [
       "Category         App                           \n",
       "FAMILY           Dr. Panda & Toto's Treehouse      72\n",
       "PERSONALIZATION  HD Widgets                        62\n",
       "MEDICAL          Essential Anatomy 3               40\n",
       "PERSONALIZATION  BIG Launcher                      40\n",
       "SPORTS           Golfshot Plus: Golf GPS           40\n",
       "GAME             Farming Simulator 18              39\n",
       "MEDICAL          Diabetes & Diet Tracker           37\n",
       "PERSONALIZATION  Beautiful Widgets Pro             37\n",
       "GAME             Call of Duty:Black Ops Zombies     3\n",
       "Name: App, dtype: int64"
      ]
     },
     "execution_count": 59,
     "metadata": {},
     "output_type": "execute_result"
    }
   ],
   "source": [
    "# grouping the category and app to get the top 10 paid apps and their category\n",
    "paid_category = paidApp.groupby('Category')['App'].value_counts().sort_values(ascending = False).head(10)\n",
    "paid_category"
   ]
  },
  {
   "cell_type": "code",
   "execution_count": 60,
   "metadata": {},
   "outputs": [
    {
     "data": {
      "image/png": "[encoded data removed]",
      "text/plain": [
       "<Figure size 720x360 with 1 Axes>"
      ]
     },
     "metadata": {
      "needs_background": "light"
     },
     "output_type": "display_data"
    }
   ],
   "source": [
    "plot = paid_category.plot.bar(figsize=(10, 5),color='Blue')"
   ]
  },
  {
   "cell_type": "markdown",
   "metadata": {
    "colab": {
     "base_uri": "https://localhost:8080/"
    },
    "id": "i6lNzzqkJmcp",
    "outputId": "a9b1128e-a185-4b11-b20f-0cc845d6883a"
   },
   "source": [
    "#### 5.which categories of app is mostly downloaded with respect to the content rating(everyone, teen.......)?"
   ]
  },
  {
   "cell_type": "code",
   "execution_count": 61,
   "metadata": {},
   "outputs": [
    {
     "data": {
      "text/html": [
       "<div>\n",
       "<style scoped>\n",
       "    .dataframe tbody tr th:only-of-type {\n",
       "        vertical-align: middle;\n",
       "    }\n",
       "\n",
       "    .dataframe tbody tr th {\n",
       "        vertical-align: top;\n",
       "    }\n",
       "\n",
       "    .dataframe thead th {\n",
       "        text-align: right;\n",
       "    }\n",
       "</style>\n",
       "<table border=\"1\" class=\"dataframe\">\n",
       "  <thead>\n",
       "    <tr style=\"text-align: right;\">\n",
       "      <th>Content Rating</th>\n",
       "      <th>Adults only 18+</th>\n",
       "      <th>Everyone</th>\n",
       "      <th>Everyone 10+</th>\n",
       "      <th>Mature 17+</th>\n",
       "      <th>Teen</th>\n",
       "    </tr>\n",
       "    <tr>\n",
       "      <th>Category</th>\n",
       "      <th></th>\n",
       "      <th></th>\n",
       "      <th></th>\n",
       "      <th></th>\n",
       "      <th></th>\n",
       "    </tr>\n",
       "  </thead>\n",
       "  <tbody>\n",
       "    <tr>\n",
       "      <th>ART AND DESIGN</th>\n",
       "      <td>0.0</td>\n",
       "      <td>354.0</td>\n",
       "      <td>0.0</td>\n",
       "      <td>0.0</td>\n",
       "      <td>0.0</td>\n",
       "    </tr>\n",
       "    <tr>\n",
       "      <th>AUTO AND VEHICLES</th>\n",
       "      <td>0.0</td>\n",
       "      <td>252.0</td>\n",
       "      <td>0.0</td>\n",
       "      <td>0.0</td>\n",
       "      <td>31.0</td>\n",
       "    </tr>\n",
       "    <tr>\n",
       "      <th>BEAUTY</th>\n",
       "      <td>0.0</td>\n",
       "      <td>288.0</td>\n",
       "      <td>0.0</td>\n",
       "      <td>29.0</td>\n",
       "      <td>0.0</td>\n",
       "    </tr>\n",
       "    <tr>\n",
       "      <th>BOOKS AND REFERENCE</th>\n",
       "      <td>0.0</td>\n",
       "      <td>443.0</td>\n",
       "      <td>0.0</td>\n",
       "      <td>0.0</td>\n",
       "      <td>268.0</td>\n",
       "    </tr>\n",
       "    <tr>\n",
       "      <th>BUSINESS</th>\n",
       "      <td>0.0</td>\n",
       "      <td>803.0</td>\n",
       "      <td>0.0</td>\n",
       "      <td>0.0</td>\n",
       "      <td>0.0</td>\n",
       "    </tr>\n",
       "    <tr>\n",
       "      <th>COMICS</th>\n",
       "      <td>0.0</td>\n",
       "      <td>0.0</td>\n",
       "      <td>0.0</td>\n",
       "      <td>0.0</td>\n",
       "      <td>80.0</td>\n",
       "    </tr>\n",
       "    <tr>\n",
       "      <th>COMMUNICATION</th>\n",
       "      <td>0.0</td>\n",
       "      <td>1198.0</td>\n",
       "      <td>0.0</td>\n",
       "      <td>90.0</td>\n",
       "      <td>0.0</td>\n",
       "    </tr>\n",
       "    <tr>\n",
       "      <th>DATING</th>\n",
       "      <td>0.0</td>\n",
       "      <td>66.0</td>\n",
       "      <td>0.0</td>\n",
       "      <td>1345.0</td>\n",
       "      <td>76.0</td>\n",
       "    </tr>\n",
       "    <tr>\n",
       "      <th>EDUCATION</th>\n",
       "      <td>0.0</td>\n",
       "      <td>737.0</td>\n",
       "      <td>0.0</td>\n",
       "      <td>0.0</td>\n",
       "      <td>0.0</td>\n",
       "    </tr>\n",
       "    <tr>\n",
       "      <th>ENTERTAINMENT</th>\n",
       "      <td>0.0</td>\n",
       "      <td>246.0</td>\n",
       "      <td>0.0</td>\n",
       "      <td>39.0</td>\n",
       "      <td>582.0</td>\n",
       "    </tr>\n",
       "    <tr>\n",
       "      <th>EVENTS</th>\n",
       "      <td>0.0</td>\n",
       "      <td>116.0</td>\n",
       "      <td>0.0</td>\n",
       "      <td>0.0</td>\n",
       "      <td>40.0</td>\n",
       "    </tr>\n",
       "    <tr>\n",
       "      <th>FAMILY</th>\n",
       "      <td>0.0</td>\n",
       "      <td>2775.0</td>\n",
       "      <td>266.0</td>\n",
       "      <td>0.0</td>\n",
       "      <td>509.0</td>\n",
       "    </tr>\n",
       "    <tr>\n",
       "      <th>FINANCE</th>\n",
       "      <td>0.0</td>\n",
       "      <td>1581.0</td>\n",
       "      <td>0.0</td>\n",
       "      <td>0.0</td>\n",
       "      <td>0.0</td>\n",
       "    </tr>\n",
       "    <tr>\n",
       "      <th>FOOD AND DRINK</th>\n",
       "      <td>0.0</td>\n",
       "      <td>557.0</td>\n",
       "      <td>0.0</td>\n",
       "      <td>0.0</td>\n",
       "      <td>105.0</td>\n",
       "    </tr>\n",
       "    <tr>\n",
       "      <th>GAME</th>\n",
       "      <td>0.0</td>\n",
       "      <td>6325.0</td>\n",
       "      <td>699.0</td>\n",
       "      <td>200.0</td>\n",
       "      <td>2103.0</td>\n",
       "    </tr>\n",
       "    <tr>\n",
       "      <th>HEALTH AND FITNESS</th>\n",
       "      <td>0.0</td>\n",
       "      <td>1719.0</td>\n",
       "      <td>95.0</td>\n",
       "      <td>0.0</td>\n",
       "      <td>74.0</td>\n",
       "    </tr>\n",
       "    <tr>\n",
       "      <th>HOUSE AND HOME</th>\n",
       "      <td>0.0</td>\n",
       "      <td>471.0</td>\n",
       "      <td>0.0</td>\n",
       "      <td>0.0</td>\n",
       "      <td>33.0</td>\n",
       "    </tr>\n",
       "    <tr>\n",
       "      <th>LIBRARIES AND DEMO</th>\n",
       "      <td>0.0</td>\n",
       "      <td>332.0</td>\n",
       "      <td>0.0</td>\n",
       "      <td>0.0</td>\n",
       "      <td>0.0</td>\n",
       "    </tr>\n",
       "    <tr>\n",
       "      <th>LIFESTYLE</th>\n",
       "      <td>0.0</td>\n",
       "      <td>897.0</td>\n",
       "      <td>35.0</td>\n",
       "      <td>0.0</td>\n",
       "      <td>9.0</td>\n",
       "    </tr>\n",
       "    <tr>\n",
       "      <th>MAPS AND NAVIGATION</th>\n",
       "      <td>0.0</td>\n",
       "      <td>189.0</td>\n",
       "      <td>0.0</td>\n",
       "      <td>0.0</td>\n",
       "      <td>0.0</td>\n",
       "    </tr>\n",
       "    <tr>\n",
       "      <th>MEDICAL</th>\n",
       "      <td>0.0</td>\n",
       "      <td>1193.0</td>\n",
       "      <td>0.0</td>\n",
       "      <td>40.0</td>\n",
       "      <td>37.0</td>\n",
       "    </tr>\n",
       "    <tr>\n",
       "      <th>NEWS AND MAGAZINES</th>\n",
       "      <td>0.0</td>\n",
       "      <td>193.0</td>\n",
       "      <td>440.0</td>\n",
       "      <td>33.0</td>\n",
       "      <td>231.0</td>\n",
       "    </tr>\n",
       "    <tr>\n",
       "      <th>PARENTING</th>\n",
       "      <td>0.0</td>\n",
       "      <td>256.0</td>\n",
       "      <td>0.0</td>\n",
       "      <td>0.0</td>\n",
       "      <td>0.0</td>\n",
       "    </tr>\n",
       "    <tr>\n",
       "      <th>PERSONALIZATION</th>\n",
       "      <td>0.0</td>\n",
       "      <td>984.0</td>\n",
       "      <td>46.0</td>\n",
       "      <td>2.0</td>\n",
       "      <td>159.0</td>\n",
       "    </tr>\n",
       "    <tr>\n",
       "      <th>PHOTOGRAPHY</th>\n",
       "      <td>0.0</td>\n",
       "      <td>1489.0</td>\n",
       "      <td>0.0</td>\n",
       "      <td>39.0</td>\n",
       "      <td>0.0</td>\n",
       "    </tr>\n",
       "    <tr>\n",
       "      <th>PRODUCTIVITY</th>\n",
       "      <td>0.0</td>\n",
       "      <td>1655.0</td>\n",
       "      <td>0.0</td>\n",
       "      <td>0.0</td>\n",
       "      <td>0.0</td>\n",
       "    </tr>\n",
       "    <tr>\n",
       "      <th>SHOPPING</th>\n",
       "      <td>0.0</td>\n",
       "      <td>511.0</td>\n",
       "      <td>0.0</td>\n",
       "      <td>0.0</td>\n",
       "      <td>481.0</td>\n",
       "    </tr>\n",
       "    <tr>\n",
       "      <th>SOCIAL</th>\n",
       "      <td>0.0</td>\n",
       "      <td>303.0</td>\n",
       "      <td>0.0</td>\n",
       "      <td>209.0</td>\n",
       "      <td>463.0</td>\n",
       "    </tr>\n",
       "    <tr>\n",
       "      <th>SPORTS</th>\n",
       "      <td>35.0</td>\n",
       "      <td>1531.0</td>\n",
       "      <td>0.0</td>\n",
       "      <td>11.0</td>\n",
       "      <td>33.0</td>\n",
       "    </tr>\n",
       "    <tr>\n",
       "      <th>TOOLS</th>\n",
       "      <td>0.0</td>\n",
       "      <td>1662.0</td>\n",
       "      <td>0.0</td>\n",
       "      <td>0.0</td>\n",
       "      <td>0.0</td>\n",
       "    </tr>\n",
       "    <tr>\n",
       "      <th>TRAVEL AND LOCAL</th>\n",
       "      <td>0.0</td>\n",
       "      <td>1623.0</td>\n",
       "      <td>0.0</td>\n",
       "      <td>40.0</td>\n",
       "      <td>102.0</td>\n",
       "    </tr>\n",
       "    <tr>\n",
       "      <th>VIDEO PLAYERS</th>\n",
       "      <td>0.0</td>\n",
       "      <td>302.0</td>\n",
       "      <td>0.0</td>\n",
       "      <td>0.0</td>\n",
       "      <td>24.0</td>\n",
       "    </tr>\n",
       "    <tr>\n",
       "      <th>WEATHER</th>\n",
       "      <td>0.0</td>\n",
       "      <td>226.0</td>\n",
       "      <td>0.0</td>\n",
       "      <td>0.0</td>\n",
       "      <td>0.0</td>\n",
       "    </tr>\n",
       "  </tbody>\n",
       "</table>\n",
       "</div>"
      ],
      "text/plain": [
       "Content Rating       Adults only 18+  Everyone  Everyone 10+  Mature 17+  \\\n",
       "Category                                                                   \n",
       "ART AND DESIGN                   0.0     354.0           0.0         0.0   \n",
       "AUTO AND VEHICLES                0.0     252.0           0.0         0.0   \n",
       "BEAUTY                           0.0     288.0           0.0        29.0   \n",
       "BOOKS AND REFERENCE              0.0     443.0           0.0         0.0   \n",
       "BUSINESS                         0.0     803.0           0.0         0.0   \n",
       "COMICS                           0.0       0.0           0.0         0.0   \n",
       "COMMUNICATION                    0.0    1198.0           0.0        90.0   \n",
       "DATING                           0.0      66.0           0.0      1345.0   \n",
       "EDUCATION                        0.0     737.0           0.0         0.0   \n",
       "ENTERTAINMENT                    0.0     246.0           0.0        39.0   \n",
       "EVENTS                           0.0     116.0           0.0         0.0   \n",
       "FAMILY                           0.0    2775.0         266.0         0.0   \n",
       "FINANCE                          0.0    1581.0           0.0         0.0   \n",
       "FOOD AND DRINK                   0.0     557.0           0.0         0.0   \n",
       "GAME                             0.0    6325.0         699.0       200.0   \n",
       "HEALTH AND FITNESS               0.0    1719.0          95.0         0.0   \n",
       "HOUSE AND HOME                   0.0     471.0           0.0         0.0   \n",
       "LIBRARIES AND DEMO               0.0     332.0           0.0         0.0   \n",
       "LIFESTYLE                        0.0     897.0          35.0         0.0   \n",
       "MAPS AND NAVIGATION              0.0     189.0           0.0         0.0   \n",
       "MEDICAL                          0.0    1193.0           0.0        40.0   \n",
       "NEWS AND MAGAZINES               0.0     193.0         440.0        33.0   \n",
       "PARENTING                        0.0     256.0           0.0         0.0   \n",
       "PERSONALIZATION                  0.0     984.0          46.0         2.0   \n",
       "PHOTOGRAPHY                      0.0    1489.0           0.0        39.0   \n",
       "PRODUCTIVITY                     0.0    1655.0           0.0         0.0   \n",
       "SHOPPING                         0.0     511.0           0.0         0.0   \n",
       "SOCIAL                           0.0     303.0           0.0       209.0   \n",
       "SPORTS                          35.0    1531.0           0.0        11.0   \n",
       "TOOLS                            0.0    1662.0           0.0         0.0   \n",
       "TRAVEL AND LOCAL                 0.0    1623.0           0.0        40.0   \n",
       "VIDEO PLAYERS                    0.0     302.0           0.0         0.0   \n",
       "WEATHER                          0.0     226.0           0.0         0.0   \n",
       "\n",
       "Content Rating         Teen  \n",
       "Category                     \n",
       "ART AND DESIGN          0.0  \n",
       "AUTO AND VEHICLES      31.0  \n",
       "BEAUTY                  0.0  \n",
       "BOOKS AND REFERENCE   268.0  \n",
       "BUSINESS                0.0  \n",
       "COMICS                 80.0  \n",
       "COMMUNICATION           0.0  \n",
       "DATING                 76.0  \n",
       "EDUCATION               0.0  \n",
       "ENTERTAINMENT         582.0  \n",
       "EVENTS                 40.0  \n",
       "FAMILY                509.0  \n",
       "FINANCE                 0.0  \n",
       "FOOD AND DRINK        105.0  \n",
       "GAME                 2103.0  \n",
       "HEALTH AND FITNESS     74.0  \n",
       "HOUSE AND HOME         33.0  \n",
       "LIBRARIES AND DEMO      0.0  \n",
       "LIFESTYLE               9.0  \n",
       "MAPS AND NAVIGATION     0.0  \n",
       "MEDICAL                37.0  \n",
       "NEWS AND MAGAZINES    231.0  \n",
       "PARENTING               0.0  \n",
       "PERSONALIZATION       159.0  \n",
       "PHOTOGRAPHY             0.0  \n",
       "PRODUCTIVITY            0.0  \n",
       "SHOPPING              481.0  \n",
       "SOCIAL                463.0  \n",
       "SPORTS                 33.0  \n",
       "TOOLS                   0.0  \n",
       "TRAVEL AND LOCAL      102.0  \n",
       "VIDEO PLAYERS          24.0  \n",
       "WEATHER                 0.0  "
      ]
     },
     "execution_count": 61,
     "metadata": {},
     "output_type": "execute_result"
    }
   ],
   "source": [
    "rate =df.groupby(\"Category\")[\"Content Rating\"].value_counts().unstack().fillna(0)\n",
    "rate"
   ]
  },
  {
   "cell_type": "code",
   "execution_count": 62,
   "metadata": {},
   "outputs": [
    {
     "data": {
      "text/html": [
       "<div>\n",
       "<style scoped>\n",
       "    .dataframe tbody tr th:only-of-type {\n",
       "        vertical-align: middle;\n",
       "    }\n",
       "\n",
       "    .dataframe tbody tr th {\n",
       "        vertical-align: top;\n",
       "    }\n",
       "\n",
       "    .dataframe thead th {\n",
       "        text-align: right;\n",
       "    }\n",
       "</style>\n",
       "<table border=\"1\" class=\"dataframe\">\n",
       "  <thead>\n",
       "    <tr style=\"text-align: right;\">\n",
       "      <th></th>\n",
       "      <th>Everyone</th>\n",
       "    </tr>\n",
       "    <tr>\n",
       "      <th>Category</th>\n",
       "      <th></th>\n",
       "    </tr>\n",
       "  </thead>\n",
       "  <tbody>\n",
       "    <tr>\n",
       "      <th>GAME</th>\n",
       "      <td>6325.0</td>\n",
       "    </tr>\n",
       "    <tr>\n",
       "      <th>FAMILY</th>\n",
       "      <td>2775.0</td>\n",
       "    </tr>\n",
       "    <tr>\n",
       "      <th>HEALTH AND FITNESS</th>\n",
       "      <td>1719.0</td>\n",
       "    </tr>\n",
       "    <tr>\n",
       "      <th>TOOLS</th>\n",
       "      <td>1662.0</td>\n",
       "    </tr>\n",
       "    <tr>\n",
       "      <th>PRODUCTIVITY</th>\n",
       "      <td>1655.0</td>\n",
       "    </tr>\n",
       "  </tbody>\n",
       "</table>\n",
       "</div>"
      ],
      "text/plain": [
       "                    Everyone\n",
       "Category                    \n",
       "GAME                  6325.0\n",
       "FAMILY                2775.0\n",
       "HEALTH AND FITNESS    1719.0\n",
       "TOOLS                 1662.0\n",
       "PRODUCTIVITY          1655.0"
      ]
     },
     "execution_count": 62,
     "metadata": {},
     "output_type": "execute_result"
    }
   ],
   "source": [
    "everyone =rate.sort_values('Everyone',ascending = False)\n",
    "#everyone[\"Everyone\"].nlargest(n=10)\n",
    "every = everyone[\"Everyone\"]\n",
    "every = pd.DataFrame(every)\n",
    "every.columns = [\"Everyone\"]\n",
    "every.head(5)"
   ]
  },
  {
   "cell_type": "code",
   "execution_count": 63,
   "metadata": {},
   "outputs": [
    {
     "data": {
      "image/png": "[encoded data removed]",
      "text/plain": [
       "<Figure size 1080x720 with 1 Axes>"
      ]
     },
     "metadata": {},
     "output_type": "display_data"
    }
   ],
   "source": [
    "plt.figure(figsize= (15,10))\n",
    "plt.pie(every['Everyone'].head(5),\n",
    "        labels = every['Everyone'].head(5).index,\n",
    "        startangle=90,\n",
    "        autopct = '%1.1f%%'\n",
    "        )\n",
    "plt.legend();"
   ]
  },
  {
   "cell_type": "markdown",
   "metadata": {},
   "source": [
    "#### 6 what are their review on the app based on the sentiment"
   ]
  },
  {
   "cell_type": "code",
   "execution_count": 64,
   "metadata": {
    "id": "DFZGHHqziCZ2"
   },
   "outputs": [
    {
     "data": {
      "text/html": [
       "<div>\n",
       "<style scoped>\n",
       "    .dataframe tbody tr th:only-of-type {\n",
       "        vertical-align: middle;\n",
       "    }\n",
       "\n",
       "    .dataframe tbody tr th {\n",
       "        vertical-align: top;\n",
       "    }\n",
       "\n",
       "    .dataframe thead th {\n",
       "        text-align: right;\n",
       "    }\n",
       "</style>\n",
       "<table border=\"1\" class=\"dataframe\">\n",
       "  <thead>\n",
       "    <tr style=\"text-align: right;\">\n",
       "      <th></th>\n",
       "      <th></th>\n",
       "      <th>senti_app</th>\n",
       "    </tr>\n",
       "    <tr>\n",
       "      <th>App</th>\n",
       "      <th>Sentiment</th>\n",
       "      <th></th>\n",
       "    </tr>\n",
       "  </thead>\n",
       "  <tbody>\n",
       "    <tr>\n",
       "      <th>Helix Jump</th>\n",
       "      <th>Positive</th>\n",
       "      <td>378</td>\n",
       "    </tr>\n",
       "    <tr>\n",
       "      <th rowspan=\"2\" valign=\"top\">8 Ball Pool</th>\n",
       "      <th>Positive</th>\n",
       "      <td>336</td>\n",
       "    </tr>\n",
       "    <tr>\n",
       "      <th>Negative</th>\n",
       "      <td>322</td>\n",
       "    </tr>\n",
       "    <tr>\n",
       "      <th>Google Photos</th>\n",
       "      <th>Positive</th>\n",
       "      <td>304</td>\n",
       "    </tr>\n",
       "    <tr>\n",
       "      <th>Angry Birds Classic</th>\n",
       "      <th>Negative</th>\n",
       "      <td>295</td>\n",
       "    </tr>\n",
       "  </tbody>\n",
       "</table>\n",
       "</div>"
      ],
      "text/plain": [
       "                               senti_app\n",
       "App                 Sentiment           \n",
       "Helix Jump          Positive         378\n",
       "8 Ball Pool         Positive         336\n",
       "                    Negative         322\n",
       "Google Photos       Positive         304\n",
       "Angry Birds Classic Negative         295"
      ]
     },
     "execution_count": 64,
     "metadata": {},
     "output_type": "execute_result"
    }
   ],
   "source": [
    "senti_by_app = df.groupby('App')['Sentiment'].value_counts().sort_values(ascending = False).head(10)\n",
    "senti_by_app= pd.DataFrame(senti_by_app)\n",
    "senti_by_app.columns=['senti_app']\n",
    "senti_by_app.head()"
   ]
  },
  {
   "cell_type": "code",
   "execution_count": 65,
   "metadata": {},
   "outputs": [
    {
     "data": {
      "image/png": "[encoded data removed]",
      "text/plain": [
       "<Figure size 720x576 with 1 Axes>"
      ]
     },
     "metadata": {
      "needs_background": "light"
     },
     "output_type": "display_data"
    }
   ],
   "source": [
    "senti_by_app.plot(kind ='barh', xlabel = 'App', ylabel = 'Sentiment',title='senti_by_app', figsize = (10,8));"
   ]
  },
  {
   "cell_type": "markdown",
   "metadata": {
    "colab": {
     "base_uri": "https://localhost:8080/",
     "height": 206
    },
    "id": "YTKnI7IFUjBa",
    "outputId": "a6e475cf-ccfc-4eb0-9a88-98108d61c6c6"
   },
   "source": [
    "#### 7.what was the max and min size of paid and free app?"
   ]
  },
  {
   "cell_type": "code",
   "execution_count": 66,
   "metadata": {},
   "outputs": [
    {
     "data": {
      "text/html": [
       "<div>\n",
       "<style scoped>\n",
       "    .dataframe tbody tr th:only-of-type {\n",
       "        vertical-align: middle;\n",
       "    }\n",
       "\n",
       "    .dataframe tbody tr th {\n",
       "        vertical-align: top;\n",
       "    }\n",
       "\n",
       "    .dataframe thead th {\n",
       "        text-align: right;\n",
       "    }\n",
       "</style>\n",
       "<table border=\"1\" class=\"dataframe\">\n",
       "  <thead>\n",
       "    <tr style=\"text-align: right;\">\n",
       "      <th></th>\n",
       "      <th>Size</th>\n",
       "    </tr>\n",
       "    <tr>\n",
       "      <th>App</th>\n",
       "      <th></th>\n",
       "    </tr>\n",
       "  </thead>\n",
       "  <tbody>\n",
       "    <tr>\n",
       "      <th>Hero Hunters</th>\n",
       "      <td>99.0</td>\n",
       "    </tr>\n",
       "    <tr>\n",
       "      <th>Chakra Cleansing</th>\n",
       "      <td>99.0</td>\n",
       "    </tr>\n",
       "    <tr>\n",
       "      <th>Clash of Clans</th>\n",
       "      <td>98.0</td>\n",
       "    </tr>\n",
       "    <tr>\n",
       "      <th>Angry Birds Classic</th>\n",
       "      <td>97.0</td>\n",
       "    </tr>\n",
       "    <tr>\n",
       "      <th>Game of Thrones: Conquest™</th>\n",
       "      <td>97.0</td>\n",
       "    </tr>\n",
       "  </tbody>\n",
       "</table>\n",
       "</div>"
      ],
      "text/plain": [
       "                            Size\n",
       "App                             \n",
       "Hero Hunters                99.0\n",
       "Chakra Cleansing            99.0\n",
       "Clash of Clans              98.0\n",
       "Angry Birds Classic         97.0\n",
       "Game of Thrones: Conquest™  97.0"
      ]
     },
     "execution_count": 66,
     "metadata": {},
     "output_type": "execute_result"
    }
   ],
   "source": [
    "# 7 what is the maximum and miniumum size(Mb) of app\n",
    "app_install = df.groupby('App')['Size'].max().sort_values(ascending = False)\n",
    "app_install = pd.DataFrame(app_install)\n",
    "app_install.head()"
   ]
  },
  {
   "cell_type": "code",
   "execution_count": 67,
   "metadata": {},
   "outputs": [
    {
     "data": {
      "image/png": "[encoded data removed]",
      "text/plain": [
       "<Figure size 720x576 with 1 Axes>"
      ]
     },
     "metadata": {
      "needs_background": "light"
     },
     "output_type": "display_data"
    }
   ],
   "source": [
    "# Apps that have the max size\n",
    "plt.figure(figsize= (10,8))\n",
    "app_install.head(10).unstack().plot().plot( stack = True)\n",
    "plt.xticks(rotation =90)\n",
    "plt.title('minimum size of app')\n",
    "plt.show()"
   ]
  },
  {
   "cell_type": "code",
   "execution_count": 68,
   "metadata": {},
   "outputs": [
    {
     "data": {
      "text/html": [
       "<div>\n",
       "<style scoped>\n",
       "    .dataframe tbody tr th:only-of-type {\n",
       "        vertical-align: middle;\n",
       "    }\n",
       "\n",
       "    .dataframe tbody tr th {\n",
       "        vertical-align: top;\n",
       "    }\n",
       "\n",
       "    .dataframe thead th {\n",
       "        text-align: right;\n",
       "    }\n",
       "</style>\n",
       "<table border=\"1\" class=\"dataframe\">\n",
       "  <thead>\n",
       "    <tr style=\"text-align: right;\">\n",
       "      <th></th>\n",
       "      <th>Size</th>\n",
       "    </tr>\n",
       "    <tr>\n",
       "      <th>App</th>\n",
       "      <th></th>\n",
       "    </tr>\n",
       "  </thead>\n",
       "  <tbody>\n",
       "    <tr>\n",
       "      <th>Calls Blacklist - Call Blocker</th>\n",
       "      <td>0.0</td>\n",
       "    </tr>\n",
       "    <tr>\n",
       "      <th>Calculator Plus Free</th>\n",
       "      <td>0.0</td>\n",
       "    </tr>\n",
       "    <tr>\n",
       "      <th>Calculator - unit converter</th>\n",
       "      <td>0.0</td>\n",
       "    </tr>\n",
       "    <tr>\n",
       "      <th>Housing-Real Estate &amp; Property</th>\n",
       "      <td>0.0</td>\n",
       "    </tr>\n",
       "  </tbody>\n",
       "</table>\n",
       "</div>"
      ],
      "text/plain": [
       "                                Size\n",
       "App                                 \n",
       "Calls Blacklist - Call Blocker   0.0\n",
       "Calculator Plus Free             0.0\n",
       "Calculator - unit converter      0.0\n",
       "Housing-Real Estate & Property   0.0"
      ]
     },
     "execution_count": 68,
     "metadata": {},
     "output_type": "execute_result"
    }
   ],
   "source": [
    "# App that have the min size\n",
    "app_installs = df.groupby('App')['Size'].min().sort_values()\n",
    "app_installs = pd.DataFrame(app_install)\n",
    "app_installs.tail(4)"
   ]
  },
  {
   "cell_type": "code",
   "execution_count": 69,
   "metadata": {},
   "outputs": [
    {
     "data": {
      "image/png": "[encoded data removed]",
      "text/plain": [
       "<Figure size 720x576 with 1 Axes>"
      ]
     },
     "metadata": {
      "needs_background": "light"
     },
     "output_type": "display_data"
    }
   ],
   "source": [
    "#Apps that have the min size\n",
    "plt.figure(figsize= (10,8))\n",
    "app_installs.tail(4).unstack().plot().plot( stack = True)\n",
    "plt.xticks(rotation =90)\n",
    "plt.title('minimum size of app')\n",
    "plt.show()"
   ]
  },
  {
   "cell_type": "code",
   "execution_count": null,
   "metadata": {},
   "outputs": [],
   "source": [
    "\n"
   ]
  },
  {
   "cell_type": "markdown",
   "metadata": {},
   "source": [
    "#### 8.Which app category has the highest installation Between paid and free app?"
   ]
  },
  {
   "cell_type": "code",
   "execution_count": 70,
   "metadata": {},
   "outputs": [
    {
     "data": {
      "text/html": [
       "<div>\n",
       "<style scoped>\n",
       "    .dataframe tbody tr th:only-of-type {\n",
       "        vertical-align: middle;\n",
       "    }\n",
       "\n",
       "    .dataframe tbody tr th {\n",
       "        vertical-align: top;\n",
       "    }\n",
       "\n",
       "    .dataframe thead th {\n",
       "        text-align: right;\n",
       "    }\n",
       "</style>\n",
       "<table border=\"1\" class=\"dataframe\">\n",
       "  <thead>\n",
       "    <tr style=\"text-align: right;\">\n",
       "      <th></th>\n",
       "      <th>App</th>\n",
       "      <th>Category</th>\n",
       "      <th>Rating</th>\n",
       "      <th>Reviews</th>\n",
       "      <th>Size</th>\n",
       "      <th>Installs</th>\n",
       "      <th>Type</th>\n",
       "      <th>Price</th>\n",
       "      <th>Content Rating</th>\n",
       "      <th>Genres</th>\n",
       "      <th>Last Updated</th>\n",
       "      <th>Current Ver</th>\n",
       "      <th>Android Ver</th>\n",
       "      <th>Translated_Review</th>\n",
       "      <th>Sentiment</th>\n",
       "      <th>Sentiment_Polarity</th>\n",
       "      <th>Sentiment_Subjectivity</th>\n",
       "    </tr>\n",
       "  </thead>\n",
       "  <tbody>\n",
       "    <tr>\n",
       "      <th>66940</th>\n",
       "      <td>Farming Simulator 18</td>\n",
       "      <td>GAME</td>\n",
       "      <td>4.5</td>\n",
       "      <td>18125</td>\n",
       "      <td>15.0</td>\n",
       "      <td>100000</td>\n",
       "      <td>Paid</td>\n",
       "      <td>4.99</td>\n",
       "      <td>Everyone</td>\n",
       "      <td>Simulation;Education</td>\n",
       "      <td>2018-07-09</td>\n",
       "      <td>Varies with device</td>\n",
       "      <td>4.4 and up</td>\n",
       "      <td>Great game!!!!! When I got game great, recentl...</td>\n",
       "      <td>Negative</td>\n",
       "      <td>-0.209091</td>\n",
       "      <td>0.631818</td>\n",
       "    </tr>\n",
       "    <tr>\n",
       "      <th>66941</th>\n",
       "      <td>Farming Simulator 18</td>\n",
       "      <td>GAME</td>\n",
       "      <td>4.5</td>\n",
       "      <td>18125</td>\n",
       "      <td>15.0</td>\n",
       "      <td>100000</td>\n",
       "      <td>Paid</td>\n",
       "      <td>4.99</td>\n",
       "      <td>Everyone</td>\n",
       "      <td>Simulation;Education</td>\n",
       "      <td>2018-07-09</td>\n",
       "      <td>Varies with device</td>\n",
       "      <td>4.4 and up</td>\n",
       "      <td>Very good, better graphics would better (more ...</td>\n",
       "      <td>Positive</td>\n",
       "      <td>0.552000</td>\n",
       "      <td>0.586000</td>\n",
       "    </tr>\n",
       "  </tbody>\n",
       "</table>\n",
       "</div>"
      ],
      "text/plain": [
       "                        App Category  Rating  Reviews  Size  Installs  Type  \\\n",
       "66940  Farming Simulator 18     GAME     4.5    18125  15.0    100000  Paid   \n",
       "66941  Farming Simulator 18     GAME     4.5    18125  15.0    100000  Paid   \n",
       "\n",
       "       Price Content Rating                Genres Last Updated  \\\n",
       "66940   4.99       Everyone  Simulation;Education   2018-07-09   \n",
       "66941   4.99       Everyone  Simulation;Education   2018-07-09   \n",
       "\n",
       "              Current Ver Android Ver  \\\n",
       "66940  Varies with device  4.4 and up   \n",
       "66941  Varies with device  4.4 and up   \n",
       "\n",
       "                                       Translated_Review Sentiment  \\\n",
       "66940  Great game!!!!! When I got game great, recentl...  Negative   \n",
       "66941  Very good, better graphics would better (more ...  Positive   \n",
       "\n",
       "       Sentiment_Polarity  Sentiment_Subjectivity  \n",
       "66940           -0.209091                0.631818  \n",
       "66941            0.552000                0.586000  "
      ]
     },
     "execution_count": 70,
     "metadata": {},
     "output_type": "execute_result"
    }
   ],
   "source": [
    "paidApp.head(2)"
   ]
  },
  {
   "cell_type": "code",
   "execution_count": 71,
   "metadata": {},
   "outputs": [
    {
     "data": {
      "text/plain": [
       "Category         Installs\n",
       "PERSONALIZATION  1000000     99\n",
       "FAMILY           50000       72\n",
       "GAME             100000      42\n",
       "MEDICAL          50000       40\n",
       "PERSONALIZATION  10000       40\n",
       "SPORTS           50000       40\n",
       "MEDICAL          1000        37\n",
       "Name: Installs, dtype: int64"
      ]
     },
     "execution_count": 71,
     "metadata": {},
     "output_type": "execute_result"
    }
   ],
   "source": [
    "highest_paid_app_installs = paidApp.groupby('Category')['Installs'].value_counts().sort_values(ascending=False)\n",
    "highest_paid_app_installs"
   ]
  },
  {
   "cell_type": "code",
   "execution_count": 72,
   "metadata": {},
   "outputs": [
    {
     "data": {
      "image/png": "[encoded data removed]",
      "text/plain": [
       "<Figure size 720x576 with 1 Axes>"
      ]
     },
     "metadata": {
      "needs_background": "light"
     },
     "output_type": "display_data"
    }
   ],
   "source": [
    "plot = highest_paid_app_installs.plot.barh(figsize =(10,8),color='Blue')\n",
    "plt.xlabel('Category')\n",
    "plt.ylabel('Installs')\n",
    "plt.title('Paid App category with higest Installation')\n",
    "plt.show()"
   ]
  },
  {
   "cell_type": "code",
   "execution_count": 73,
   "metadata": {},
   "outputs": [],
   "source": [
    "# the above chart shows that personalization category was the highest installed in terms of paid apps"
   ]
  },
  {
   "cell_type": "code",
   "execution_count": 74,
   "metadata": {},
   "outputs": [
    {
     "data": {
      "text/html": [
       "<div>\n",
       "<style scoped>\n",
       "    .dataframe tbody tr th:only-of-type {\n",
       "        vertical-align: middle;\n",
       "    }\n",
       "\n",
       "    .dataframe tbody tr th {\n",
       "        vertical-align: top;\n",
       "    }\n",
       "\n",
       "    .dataframe thead th {\n",
       "        text-align: right;\n",
       "    }\n",
       "</style>\n",
       "<table border=\"1\" class=\"dataframe\">\n",
       "  <thead>\n",
       "    <tr style=\"text-align: right;\">\n",
       "      <th></th>\n",
       "      <th>App</th>\n",
       "      <th>Category</th>\n",
       "      <th>Rating</th>\n",
       "      <th>Reviews</th>\n",
       "      <th>Size</th>\n",
       "      <th>Installs</th>\n",
       "      <th>Type</th>\n",
       "      <th>Price</th>\n",
       "      <th>Content Rating</th>\n",
       "      <th>Genres</th>\n",
       "      <th>Last Updated</th>\n",
       "      <th>Current Ver</th>\n",
       "      <th>Android Ver</th>\n",
       "      <th>Translated_Review</th>\n",
       "      <th>Sentiment</th>\n",
       "      <th>Sentiment_Polarity</th>\n",
       "      <th>Sentiment_Subjectivity</th>\n",
       "    </tr>\n",
       "  </thead>\n",
       "  <tbody>\n",
       "    <tr>\n",
       "      <th>0</th>\n",
       "      <td>Coloring book moana</td>\n",
       "      <td>ART AND DESIGN</td>\n",
       "      <td>3.9</td>\n",
       "      <td>967</td>\n",
       "      <td>14.0</td>\n",
       "      <td>500000</td>\n",
       "      <td>Free</td>\n",
       "      <td>0.0</td>\n",
       "      <td>Everyone</td>\n",
       "      <td>Art &amp; Design;Pretend Play</td>\n",
       "      <td>2018-01-15</td>\n",
       "      <td>2.0.0</td>\n",
       "      <td>4.0.3 and up</td>\n",
       "      <td>A kid's excessive ads. The types ads allowed a...</td>\n",
       "      <td>Negative</td>\n",
       "      <td>-0.250</td>\n",
       "      <td>1.000000</td>\n",
       "    </tr>\n",
       "    <tr>\n",
       "      <th>1</th>\n",
       "      <td>Coloring book moana</td>\n",
       "      <td>ART AND DESIGN</td>\n",
       "      <td>3.9</td>\n",
       "      <td>967</td>\n",
       "      <td>14.0</td>\n",
       "      <td>500000</td>\n",
       "      <td>Free</td>\n",
       "      <td>0.0</td>\n",
       "      <td>Everyone</td>\n",
       "      <td>Art &amp; Design;Pretend Play</td>\n",
       "      <td>2018-01-15</td>\n",
       "      <td>2.0.0</td>\n",
       "      <td>4.0.3 and up</td>\n",
       "      <td>It bad &gt;:(</td>\n",
       "      <td>Negative</td>\n",
       "      <td>-0.725</td>\n",
       "      <td>0.833333</td>\n",
       "    </tr>\n",
       "  </tbody>\n",
       "</table>\n",
       "</div>"
      ],
      "text/plain": [
       "                   App        Category  Rating  Reviews  Size  Installs  Type  \\\n",
       "0  Coloring book moana  ART AND DESIGN     3.9      967  14.0    500000  Free   \n",
       "1  Coloring book moana  ART AND DESIGN     3.9      967  14.0    500000  Free   \n",
       "\n",
       "   Price Content Rating                     Genres Last Updated Current Ver  \\\n",
       "0    0.0       Everyone  Art & Design;Pretend Play   2018-01-15       2.0.0   \n",
       "1    0.0       Everyone  Art & Design;Pretend Play   2018-01-15       2.0.0   \n",
       "\n",
       "    Android Ver                                  Translated_Review Sentiment  \\\n",
       "0  4.0.3 and up  A kid's excessive ads. The types ads allowed a...  Negative   \n",
       "1  4.0.3 and up                                         It bad >:(  Negative   \n",
       "\n",
       "   Sentiment_Polarity  Sentiment_Subjectivity  \n",
       "0              -0.250                1.000000  \n",
       "1              -0.725                0.833333  "
      ]
     },
     "execution_count": 74,
     "metadata": {},
     "output_type": "execute_result"
    }
   ],
   "source": [
    "# subseting for free app\n",
    "free_app = df[df['Type'] == 'Free']\n",
    "free_app.head(2)"
   ]
  },
  {
   "cell_type": "code",
   "execution_count": 75,
   "metadata": {},
   "outputs": [
    {
     "data": {
      "text/html": [
       "<div>\n",
       "<style scoped>\n",
       "    .dataframe tbody tr th:only-of-type {\n",
       "        vertical-align: middle;\n",
       "    }\n",
       "\n",
       "    .dataframe tbody tr th {\n",
       "        vertical-align: top;\n",
       "    }\n",
       "\n",
       "    .dataframe thead th {\n",
       "        text-align: right;\n",
       "    }\n",
       "</style>\n",
       "<table border=\"1\" class=\"dataframe\">\n",
       "  <thead>\n",
       "    <tr style=\"text-align: right;\">\n",
       "      <th></th>\n",
       "      <th></th>\n",
       "      <th>Instalation Counts</th>\n",
       "    </tr>\n",
       "    <tr>\n",
       "      <th>Category</th>\n",
       "      <th>Installs</th>\n",
       "      <th></th>\n",
       "    </tr>\n",
       "  </thead>\n",
       "  <tbody>\n",
       "    <tr>\n",
       "      <th rowspan=\"5\" valign=\"top\">ART AND DESIGN</th>\n",
       "      <th>100000</th>\n",
       "      <td>127</td>\n",
       "    </tr>\n",
       "    <tr>\n",
       "      <th>1000000</th>\n",
       "      <td>90</td>\n",
       "    </tr>\n",
       "    <tr>\n",
       "      <th>500000</th>\n",
       "      <td>58</td>\n",
       "    </tr>\n",
       "    <tr>\n",
       "      <th>5000000</th>\n",
       "      <td>41</td>\n",
       "    </tr>\n",
       "    <tr>\n",
       "      <th>10000000</th>\n",
       "      <td>38</td>\n",
       "    </tr>\n",
       "    <tr>\n",
       "      <th rowspan=\"3\" valign=\"top\">AUTO AND VEHICLES</th>\n",
       "      <th>100000</th>\n",
       "      <td>131</td>\n",
       "    </tr>\n",
       "    <tr>\n",
       "      <th>1000000</th>\n",
       "      <td>121</td>\n",
       "    </tr>\n",
       "    <tr>\n",
       "      <th>10000000</th>\n",
       "      <td>31</td>\n",
       "    </tr>\n",
       "    <tr>\n",
       "      <th rowspan=\"2\" valign=\"top\">BEAUTY</th>\n",
       "      <th>500000</th>\n",
       "      <td>111</td>\n",
       "    </tr>\n",
       "    <tr>\n",
       "      <th>100000</th>\n",
       "      <td>107</td>\n",
       "    </tr>\n",
       "  </tbody>\n",
       "</table>\n",
       "</div>"
      ],
      "text/plain": [
       "                            Instalation Counts\n",
       "Category          Installs                    \n",
       "ART AND DESIGN    100000                   127\n",
       "                  1000000                   90\n",
       "                  500000                    58\n",
       "                  5000000                   41\n",
       "                  10000000                  38\n",
       "AUTO AND VEHICLES 100000                   131\n",
       "                  1000000                  121\n",
       "                  10000000                  31\n",
       "BEAUTY            500000                   111\n",
       "                  100000                   107"
      ]
     },
     "execution_count": 75,
     "metadata": {},
     "output_type": "execute_result"
    }
   ],
   "source": [
    "#creating new data frame for free app\n",
    "free_app_installs = free_app.groupby('Category')['Installs'].value_counts()\n",
    "free_app_installs = pd.DataFrame(free_app_installs)\n",
    "free_app_installs.columns = ['Instalation Counts']\n",
    "free_app_installs.head(10)"
   ]
  },
  {
   "cell_type": "code",
   "execution_count": 76,
   "metadata": {},
   "outputs": [
    {
     "data": {
      "text/html": [
       "<div>\n",
       "<style scoped>\n",
       "    .dataframe tbody tr th:only-of-type {\n",
       "        vertical-align: middle;\n",
       "    }\n",
       "\n",
       "    .dataframe tbody tr th {\n",
       "        vertical-align: top;\n",
       "    }\n",
       "\n",
       "    .dataframe thead th {\n",
       "        text-align: right;\n",
       "    }\n",
       "</style>\n",
       "<table border=\"1\" class=\"dataframe\">\n",
       "  <thead>\n",
       "    <tr style=\"text-align: right;\">\n",
       "      <th></th>\n",
       "      <th></th>\n",
       "      <th>Instalation Counts</th>\n",
       "    </tr>\n",
       "    <tr>\n",
       "      <th>Category</th>\n",
       "      <th>Installs</th>\n",
       "      <th></th>\n",
       "    </tr>\n",
       "  </thead>\n",
       "  <tbody>\n",
       "    <tr>\n",
       "      <th rowspan=\"4\" valign=\"top\">GAME</th>\n",
       "      <th>100000000</th>\n",
       "      <td>4051</td>\n",
       "    </tr>\n",
       "    <tr>\n",
       "      <th>10000000</th>\n",
       "      <td>2127</td>\n",
       "    </tr>\n",
       "    <tr>\n",
       "      <th>50000000</th>\n",
       "      <td>1432</td>\n",
       "    </tr>\n",
       "    <tr>\n",
       "      <th>5000000</th>\n",
       "      <td>1035</td>\n",
       "    </tr>\n",
       "    <tr>\n",
       "      <th>FAMILY</th>\n",
       "      <th>10000000</th>\n",
       "      <td>1025</td>\n",
       "    </tr>\n",
       "    <tr>\n",
       "      <th>FINANCE</th>\n",
       "      <th>1000000</th>\n",
       "      <td>634</td>\n",
       "    </tr>\n",
       "    <tr>\n",
       "      <th>PRODUCTIVITY</th>\n",
       "      <th>10000000</th>\n",
       "      <td>632</td>\n",
       "    </tr>\n",
       "    <tr>\n",
       "      <th>FAMILY</th>\n",
       "      <th>1000000</th>\n",
       "      <td>613</td>\n",
       "    </tr>\n",
       "    <tr>\n",
       "      <th>TOOLS</th>\n",
       "      <th>10000000</th>\n",
       "      <td>586</td>\n",
       "    </tr>\n",
       "    <tr>\n",
       "      <th>SPORTS</th>\n",
       "      <th>1000000</th>\n",
       "      <td>563</td>\n",
       "    </tr>\n",
       "  </tbody>\n",
       "</table>\n",
       "</div>"
      ],
      "text/plain": [
       "                        Instalation Counts\n",
       "Category     Installs                     \n",
       "GAME         100000000                4051\n",
       "             10000000                 2127\n",
       "             50000000                 1432\n",
       "             5000000                  1035\n",
       "FAMILY       10000000                 1025\n",
       "FINANCE      1000000                   634\n",
       "PRODUCTIVITY 10000000                  632\n",
       "FAMILY       1000000                   613\n",
       "TOOLS        10000000                  586\n",
       "SPORTS       1000000                   563"
      ]
     },
     "execution_count": 76,
     "metadata": {},
     "output_type": "execute_result"
    }
   ],
   "source": [
    "# checking for highest installed\n",
    "highest_free_app_installs = pd.DataFrame(free_app_installs.sort_values(by=['Instalation Counts'], ascending = False)).head(10)\n",
    "highest_free_app_installs"
   ]
  },
  {
   "cell_type": "code",
   "execution_count": 77,
   "metadata": {},
   "outputs": [
    {
     "data": {
      "image/png": "[encoded data removed]",
      "text/plain": [
       "<Figure size 720x576 with 1 Axes>"
      ]
     },
     "metadata": {
      "needs_background": "light"
     },
     "output_type": "display_data"
    }
   ],
   "source": [
    "plot = highest_free_app_installs.plot.barh(figsize =(10,8),color='Blue')\n",
    "plt.xlabel('Category')\n",
    "plt.ylabel('Installs')\n",
    "plt.title('free App category with higest Installation')\n",
    "plt.show();"
   ]
  },
  {
   "cell_type": "code",
   "execution_count": 78,
   "metadata": {},
   "outputs": [],
   "source": [
    "# the above chart shows that game category was the highest installed in terms of free apps."
   ]
  },
  {
   "cell_type": "markdown",
   "metadata": {},
   "source": [
    "#### 9.What percentage of the apps are free and paid?What percentage of the apps are free and paid?"
   ]
  },
  {
   "cell_type": "code",
   "execution_count": 79,
   "metadata": {},
   "outputs": [
    {
     "data": {
      "text/html": [
       "<div>\n",
       "<style scoped>\n",
       "    .dataframe tbody tr th:only-of-type {\n",
       "        vertical-align: middle;\n",
       "    }\n",
       "\n",
       "    .dataframe tbody tr th {\n",
       "        vertical-align: top;\n",
       "    }\n",
       "\n",
       "    .dataframe thead th {\n",
       "        text-align: right;\n",
       "    }\n",
       "</style>\n",
       "<table border=\"1\" class=\"dataframe\">\n",
       "  <thead>\n",
       "    <tr style=\"text-align: right;\">\n",
       "      <th></th>\n",
       "      <th>sub_values</th>\n",
       "      <th>counts</th>\n",
       "    </tr>\n",
       "  </thead>\n",
       "  <tbody>\n",
       "    <tr>\n",
       "      <th>0</th>\n",
       "      <td>Free</td>\n",
       "      <td>40040</td>\n",
       "    </tr>\n",
       "    <tr>\n",
       "      <th>1</th>\n",
       "      <td>Paid</td>\n",
       "      <td>370</td>\n",
       "    </tr>\n",
       "  </tbody>\n",
       "</table>\n",
       "</div>"
      ],
      "text/plain": [
       "  sub_values  counts\n",
       "0       Free   40040\n",
       "1       Paid     370"
      ]
     },
     "execution_count": 79,
     "metadata": {},
     "output_type": "execute_result"
    }
   ],
   "source": [
    "free_to_paid = df['Type'].value_counts().rename_axis('sub_values').reset_index(name='counts')\n",
    "free_to_paid"
   ]
  },
  {
   "cell_type": "code",
   "execution_count": 80,
   "metadata": {},
   "outputs": [],
   "source": [
    "xlabel = free_to_paid.sub_values\n",
    "ylabel = free_to_paid.counts\n",
    "#autopact(autopercentage) fxn returns list of strings used to label the wedge with their numerical values"
   ]
  },
  {
   "cell_type": "code",
   "execution_count": 81,
   "metadata": {},
   "outputs": [
    {
     "data": {
      "image/png": "[encoded data removed]",
      "text/plain": [
       "<Figure size 432x288 with 1 Axes>"
      ]
     },
     "metadata": {},
     "output_type": "display_data"
    }
   ],
   "source": [
    "#visualising the pie chart\n",
    "fig = plt.figure()\n",
    "ax = fig.add_axes([0,0,1,1])\n",
    "ax.axis('equal')\n",
    "ax.pie(ylabel, labels = xlabel, autopct='%1.2f%%')\n",
    "plt.title('percentage of free to paid app')\n",
    "plt.legend();\n",
    "plt.show;"
   ]
  },
  {
   "cell_type": "markdown",
   "metadata": {},
   "source": [
    "#### 10. What category of app has been most downloaded?"
   ]
  },
  {
   "cell_type": "code",
   "execution_count": 82,
   "metadata": {},
   "outputs": [
    {
     "data": {
      "text/html": [
       "<div>\n",
       "<style scoped>\n",
       "    .dataframe tbody tr th:only-of-type {\n",
       "        vertical-align: middle;\n",
       "    }\n",
       "\n",
       "    .dataframe tbody tr th {\n",
       "        vertical-align: top;\n",
       "    }\n",
       "\n",
       "    .dataframe thead th {\n",
       "        text-align: right;\n",
       "    }\n",
       "</style>\n",
       "<table border=\"1\" class=\"dataframe\">\n",
       "  <thead>\n",
       "    <tr style=\"text-align: right;\">\n",
       "      <th></th>\n",
       "      <th>App</th>\n",
       "      <th>Installs</th>\n",
       "    </tr>\n",
       "  </thead>\n",
       "  <tbody>\n",
       "    <tr>\n",
       "      <th>0</th>\n",
       "      <td>Coloring book moana</td>\n",
       "      <td>500000</td>\n",
       "    </tr>\n",
       "    <tr>\n",
       "      <th>1</th>\n",
       "      <td>Coloring book moana</td>\n",
       "      <td>500000</td>\n",
       "    </tr>\n",
       "    <tr>\n",
       "      <th>2</th>\n",
       "      <td>Coloring book moana</td>\n",
       "      <td>500000</td>\n",
       "    </tr>\n",
       "    <tr>\n",
       "      <th>4</th>\n",
       "      <td>Coloring book moana</td>\n",
       "      <td>500000</td>\n",
       "    </tr>\n",
       "    <tr>\n",
       "      <th>5</th>\n",
       "      <td>Coloring book moana</td>\n",
       "      <td>500000</td>\n",
       "    </tr>\n",
       "    <tr>\n",
       "      <th>7</th>\n",
       "      <td>Coloring book moana</td>\n",
       "      <td>500000</td>\n",
       "    </tr>\n",
       "    <tr>\n",
       "      <th>8</th>\n",
       "      <td>Coloring book moana</td>\n",
       "      <td>500000</td>\n",
       "    </tr>\n",
       "    <tr>\n",
       "      <th>9</th>\n",
       "      <td>Coloring book moana</td>\n",
       "      <td>500000</td>\n",
       "    </tr>\n",
       "    <tr>\n",
       "      <th>10</th>\n",
       "      <td>Coloring book moana</td>\n",
       "      <td>500000</td>\n",
       "    </tr>\n",
       "    <tr>\n",
       "      <th>11</th>\n",
       "      <td>Coloring book moana</td>\n",
       "      <td>500000</td>\n",
       "    </tr>\n",
       "  </tbody>\n",
       "</table>\n",
       "</div>"
      ],
      "text/plain": [
       "                    App  Installs\n",
       "0   Coloring book moana    500000\n",
       "1   Coloring book moana    500000\n",
       "2   Coloring book moana    500000\n",
       "4   Coloring book moana    500000\n",
       "5   Coloring book moana    500000\n",
       "7   Coloring book moana    500000\n",
       "8   Coloring book moana    500000\n",
       "9   Coloring book moana    500000\n",
       "10  Coloring book moana    500000\n",
       "11  Coloring book moana    500000"
      ]
     },
     "execution_count": 82,
     "metadata": {},
     "output_type": "execute_result"
    }
   ],
   "source": [
    "install_app = df[['App', 'Installs']]\n",
    "install_app.head(10)"
   ]
  },
  {
   "cell_type": "code",
   "execution_count": 83,
   "metadata": {},
   "outputs": [
    {
     "data": {
      "text/plain": [
       "App                             Installs  \n",
       "8 Ball Pool                     100000000     672\n",
       "Helix Jump                      100000000     558\n",
       "Angry Birds Classic             100000000     535\n",
       "Bowmasters                      50000000      485\n",
       "Google Photos                   1000000000    404\n",
       "Clash Royale                    100000000     384\n",
       "DRAGON BALL LEGENDS             5000000       325\n",
       "Bubble Shooter                  10000000      300\n",
       "Calorie Counter - MyFitnessPal  50000000      297\n",
       "Adobe Acrobat Reader            100000000     294\n",
       "Name: Installs, dtype: int64"
      ]
     },
     "execution_count": 83,
     "metadata": {},
     "output_type": "execute_result"
    }
   ],
   "source": [
    "install_app = df.groupby('App')['Installs'].value_counts().sort_values(ascending = False).head(10)\n",
    "install_app"
   ]
  },
  {
   "cell_type": "code",
   "execution_count": 84,
   "metadata": {},
   "outputs": [
    {
     "data": {
      "image/png": "[encoded data removed]",
      "text/plain": [
       "<Figure size 432x288 with 1 Axes>"
      ]
     },
     "metadata": {
      "needs_background": "light"
     },
     "output_type": "display_data"
    }
   ],
   "source": [
    "install_app.plot(kind='barh')\n",
    "plt.ylabel('App')\n",
    "plt.xlabel('installs')\n",
    "plt.title('Most downloaded app')\n",
    "plt.rcParams['figure.figsize'] = (13,6)"
   ]
  },
  {
   "cell_type": "markdown",
   "metadata": {},
   "source": [
    "#### 11.Plot a graph showing count and content rating."
   ]
  },
  {
   "cell_type": "code",
   "execution_count": 85,
   "metadata": {},
   "outputs": [
    {
     "data": {
      "text/plain": [
       "Everyone           31277\n",
       "Teen                5440\n",
       "Mature 17+          2077\n",
       "Everyone 10+        1581\n",
       "Adults only 18+       35\n",
       "Name: Content Rating, dtype: int64"
      ]
     },
     "execution_count": 85,
     "metadata": {},
     "output_type": "execute_result"
    }
   ],
   "source": [
    "counts_ofcontent_rating = df['Content Rating'].value_counts()\n",
    "counts_ofcontent_rating"
   ]
  },
  {
   "cell_type": "code",
   "execution_count": 86,
   "metadata": {},
   "outputs": [
    {
     "data": {
      "image/png": "[encoded data removed]",
      "text/plain": [
       "<Figure size 864x432 with 1 Axes>"
      ]
     },
     "metadata": {
      "needs_background": "light"
     },
     "output_type": "display_data"
    }
   ],
   "source": [
    "# Chart showing the counts and content rating\n",
    "plt.figure(figsize =(12, 6))\n",
    "counts_ofcontent_rating.plot(kind = 'bar')\n",
    "plt.xlabel('Content Rating')\n",
    "plt.title('Show of counts of Content Rating')\n",
    "plt.show()"
   ]
  },
  {
   "cell_type": "markdown",
   "metadata": {},
   "source": [
    "#### 12.Top 5 expensive apps in the google play store."
   ]
  },
  {
   "cell_type": "code",
   "execution_count": 87,
   "metadata": {},
   "outputs": [
    {
     "data": {
      "text/html": [
       "<div>\n",
       "<style scoped>\n",
       "    .dataframe tbody tr th:only-of-type {\n",
       "        vertical-align: middle;\n",
       "    }\n",
       "\n",
       "    .dataframe tbody tr th {\n",
       "        vertical-align: top;\n",
       "    }\n",
       "\n",
       "    .dataframe thead th {\n",
       "        text-align: right;\n",
       "    }\n",
       "</style>\n",
       "<table border=\"1\" class=\"dataframe\">\n",
       "  <thead>\n",
       "    <tr style=\"text-align: right;\">\n",
       "      <th></th>\n",
       "      <th>App</th>\n",
       "      <th>Category</th>\n",
       "      <th>Rating</th>\n",
       "      <th>Reviews</th>\n",
       "      <th>Size</th>\n",
       "      <th>Installs</th>\n",
       "      <th>Type</th>\n",
       "      <th>Price</th>\n",
       "      <th>Content Rating</th>\n",
       "      <th>Genres</th>\n",
       "      <th>Last Updated</th>\n",
       "      <th>Current Ver</th>\n",
       "      <th>Android Ver</th>\n",
       "      <th>Translated_Review</th>\n",
       "      <th>Sentiment</th>\n",
       "      <th>Sentiment_Polarity</th>\n",
       "      <th>Sentiment_Subjectivity</th>\n",
       "    </tr>\n",
       "  </thead>\n",
       "  <tbody>\n",
       "    <tr>\n",
       "      <th>66940</th>\n",
       "      <td>Farming Simulator 18</td>\n",
       "      <td>GAME</td>\n",
       "      <td>4.5</td>\n",
       "      <td>18125</td>\n",
       "      <td>15.0</td>\n",
       "      <td>100000</td>\n",
       "      <td>Paid</td>\n",
       "      <td>4.99</td>\n",
       "      <td>Everyone</td>\n",
       "      <td>Simulation;Education</td>\n",
       "      <td>2018-07-09</td>\n",
       "      <td>Varies with device</td>\n",
       "      <td>4.4 and up</td>\n",
       "      <td>Great game!!!!! When I got game great, recentl...</td>\n",
       "      <td>Negative</td>\n",
       "      <td>-0.209091</td>\n",
       "      <td>0.631818</td>\n",
       "    </tr>\n",
       "    <tr>\n",
       "      <th>66941</th>\n",
       "      <td>Farming Simulator 18</td>\n",
       "      <td>GAME</td>\n",
       "      <td>4.5</td>\n",
       "      <td>18125</td>\n",
       "      <td>15.0</td>\n",
       "      <td>100000</td>\n",
       "      <td>Paid</td>\n",
       "      <td>4.99</td>\n",
       "      <td>Everyone</td>\n",
       "      <td>Simulation;Education</td>\n",
       "      <td>2018-07-09</td>\n",
       "      <td>Varies with device</td>\n",
       "      <td>4.4 and up</td>\n",
       "      <td>Very good, better graphics would better (more ...</td>\n",
       "      <td>Positive</td>\n",
       "      <td>0.552000</td>\n",
       "      <td>0.586000</td>\n",
       "    </tr>\n",
       "    <tr>\n",
       "      <th>66942</th>\n",
       "      <td>Farming Simulator 18</td>\n",
       "      <td>GAME</td>\n",
       "      <td>4.5</td>\n",
       "      <td>18125</td>\n",
       "      <td>15.0</td>\n",
       "      <td>100000</td>\n",
       "      <td>Paid</td>\n",
       "      <td>4.99</td>\n",
       "      <td>Everyone</td>\n",
       "      <td>Simulation;Education</td>\n",
       "      <td>2018-07-09</td>\n",
       "      <td>Varies with device</td>\n",
       "      <td>4.4 and up</td>\n",
       "      <td>Love game, gyroscope controls work. It gets st...</td>\n",
       "      <td>Positive</td>\n",
       "      <td>0.215238</td>\n",
       "      <td>0.451429</td>\n",
       "    </tr>\n",
       "  </tbody>\n",
       "</table>\n",
       "</div>"
      ],
      "text/plain": [
       "                        App Category  Rating  Reviews  Size  Installs  Type  \\\n",
       "66940  Farming Simulator 18     GAME     4.5    18125  15.0    100000  Paid   \n",
       "66941  Farming Simulator 18     GAME     4.5    18125  15.0    100000  Paid   \n",
       "66942  Farming Simulator 18     GAME     4.5    18125  15.0    100000  Paid   \n",
       "\n",
       "       Price Content Rating                Genres Last Updated  \\\n",
       "66940   4.99       Everyone  Simulation;Education   2018-07-09   \n",
       "66941   4.99       Everyone  Simulation;Education   2018-07-09   \n",
       "66942   4.99       Everyone  Simulation;Education   2018-07-09   \n",
       "\n",
       "              Current Ver Android Ver  \\\n",
       "66940  Varies with device  4.4 and up   \n",
       "66941  Varies with device  4.4 and up   \n",
       "66942  Varies with device  4.4 and up   \n",
       "\n",
       "                                       Translated_Review Sentiment  \\\n",
       "66940  Great game!!!!! When I got game great, recentl...  Negative   \n",
       "66941  Very good, better graphics would better (more ...  Positive   \n",
       "66942  Love game, gyroscope controls work. It gets st...  Positive   \n",
       "\n",
       "       Sentiment_Polarity  Sentiment_Subjectivity  \n",
       "66940           -0.209091                0.631818  \n",
       "66941            0.552000                0.586000  \n",
       "66942            0.215238                0.451429  "
      ]
     },
     "execution_count": 87,
     "metadata": {},
     "output_type": "execute_result"
    }
   ],
   "source": [
    "paidApp = df[df['Type']== \"Paid\"]\n",
    "paidApp.head(3)"
   ]
  },
  {
   "cell_type": "code",
   "execution_count": 88,
   "metadata": {},
   "outputs": [
    {
     "data": {
      "text/plain": [
       "App\n",
       "Golfshot Plus: Golf GPS           29.99\n",
       "Essential Anatomy 3               11.99\n",
       "BIG Launcher                       9.99\n",
       "Diabetes & Diet Tracker            9.99\n",
       "Call of Duty:Black Ops Zombies     6.99\n",
       "Name: Price, dtype: float64"
      ]
     },
     "execution_count": 88,
     "metadata": {},
     "output_type": "execute_result"
    }
   ],
   "source": [
    "expensive_apps = df.groupby(paidApp['App'])['Price'].max().sort_values(axis = 0, ascending = False).head(5)\n",
    "expensive_apps"
   ]
  },
  {
   "cell_type": "code",
   "execution_count": 89,
   "metadata": {},
   "outputs": [
    {
     "data": {
      "image/png": "[encoded data removed]",
      "text/plain": [
       "<Figure size 936x432 with 1 Axes>"
      ]
     },
     "metadata": {
      "needs_background": "light"
     },
     "output_type": "display_data"
    }
   ],
   "source": [
    "expensive_apps.plot(kind = 'barh')\n",
    "plt.xlabel('Price')\n",
    "plt.ylabel('App')\n",
    "plt.title('Top 5 Expensive Apps')\n",
    "plt.show()"
   ]
  },
  {
   "cell_type": "markdown",
   "metadata": {},
   "source": [
    "#### 13. Which Genre has more Apps"
   ]
  },
  {
   "cell_type": "code",
   "execution_count": 90,
   "metadata": {},
   "outputs": [
    {
     "data": {
      "text/html": [
       "<div>\n",
       "<style scoped>\n",
       "    .dataframe tbody tr th:only-of-type {\n",
       "        vertical-align: middle;\n",
       "    }\n",
       "\n",
       "    .dataframe tbody tr th {\n",
       "        vertical-align: top;\n",
       "    }\n",
       "\n",
       "    .dataframe thead th {\n",
       "        text-align: right;\n",
       "    }\n",
       "</style>\n",
       "<table border=\"1\" class=\"dataframe\">\n",
       "  <thead>\n",
       "    <tr style=\"text-align: right;\">\n",
       "      <th></th>\n",
       "      <th>App</th>\n",
       "      <th>Category</th>\n",
       "      <th>Rating</th>\n",
       "      <th>Reviews</th>\n",
       "      <th>Size</th>\n",
       "      <th>Installs</th>\n",
       "      <th>Type</th>\n",
       "      <th>Price</th>\n",
       "      <th>Content Rating</th>\n",
       "      <th>Genres</th>\n",
       "      <th>Last Updated</th>\n",
       "      <th>Current Ver</th>\n",
       "      <th>Android Ver</th>\n",
       "      <th>Translated_Review</th>\n",
       "      <th>Sentiment</th>\n",
       "      <th>Sentiment_Polarity</th>\n",
       "      <th>Sentiment_Subjectivity</th>\n",
       "    </tr>\n",
       "  </thead>\n",
       "  <tbody>\n",
       "    <tr>\n",
       "      <th>0</th>\n",
       "      <td>Coloring book moana</td>\n",
       "      <td>ART AND DESIGN</td>\n",
       "      <td>3.9</td>\n",
       "      <td>967</td>\n",
       "      <td>14.0</td>\n",
       "      <td>500000</td>\n",
       "      <td>Free</td>\n",
       "      <td>0.0</td>\n",
       "      <td>Everyone</td>\n",
       "      <td>Art &amp; Design;Pretend Play</td>\n",
       "      <td>2018-01-15</td>\n",
       "      <td>2.0.0</td>\n",
       "      <td>4.0.3 and up</td>\n",
       "      <td>A kid's excessive ads. The types ads allowed a...</td>\n",
       "      <td>Negative</td>\n",
       "      <td>-0.250</td>\n",
       "      <td>1.000000</td>\n",
       "    </tr>\n",
       "    <tr>\n",
       "      <th>1</th>\n",
       "      <td>Coloring book moana</td>\n",
       "      <td>ART AND DESIGN</td>\n",
       "      <td>3.9</td>\n",
       "      <td>967</td>\n",
       "      <td>14.0</td>\n",
       "      <td>500000</td>\n",
       "      <td>Free</td>\n",
       "      <td>0.0</td>\n",
       "      <td>Everyone</td>\n",
       "      <td>Art &amp; Design;Pretend Play</td>\n",
       "      <td>2018-01-15</td>\n",
       "      <td>2.0.0</td>\n",
       "      <td>4.0.3 and up</td>\n",
       "      <td>It bad &gt;:(</td>\n",
       "      <td>Negative</td>\n",
       "      <td>-0.725</td>\n",
       "      <td>0.833333</td>\n",
       "    </tr>\n",
       "  </tbody>\n",
       "</table>\n",
       "</div>"
      ],
      "text/plain": [
       "                   App        Category  Rating  Reviews  Size  Installs  Type  \\\n",
       "0  Coloring book moana  ART AND DESIGN     3.9      967  14.0    500000  Free   \n",
       "1  Coloring book moana  ART AND DESIGN     3.9      967  14.0    500000  Free   \n",
       "\n",
       "   Price Content Rating                     Genres Last Updated Current Ver  \\\n",
       "0    0.0       Everyone  Art & Design;Pretend Play   2018-01-15       2.0.0   \n",
       "1    0.0       Everyone  Art & Design;Pretend Play   2018-01-15       2.0.0   \n",
       "\n",
       "    Android Ver                                  Translated_Review Sentiment  \\\n",
       "0  4.0.3 and up  A kid's excessive ads. The types ads allowed a...  Negative   \n",
       "1  4.0.3 and up                                         It bad >:(  Negative   \n",
       "\n",
       "   Sentiment_Polarity  Sentiment_Subjectivity  \n",
       "0              -0.250                1.000000  \n",
       "1              -0.725                0.833333  "
      ]
     },
     "execution_count": 90,
     "metadata": {},
     "output_type": "execute_result"
    }
   ],
   "source": [
    "df.head(2)"
   ]
  },
  {
   "cell_type": "code",
   "execution_count": 91,
   "metadata": {},
   "outputs": [
    {
     "data": {
      "text/html": [
       "<div>\n",
       "<style scoped>\n",
       "    .dataframe tbody tr th:only-of-type {\n",
       "        vertical-align: middle;\n",
       "    }\n",
       "\n",
       "    .dataframe tbody tr th {\n",
       "        vertical-align: top;\n",
       "    }\n",
       "\n",
       "    .dataframe thead th {\n",
       "        text-align: right;\n",
       "    }\n",
       "</style>\n",
       "<table border=\"1\" class=\"dataframe\">\n",
       "  <thead>\n",
       "    <tr style=\"text-align: right;\">\n",
       "      <th></th>\n",
       "      <th>App Counts</th>\n",
       "    </tr>\n",
       "  </thead>\n",
       "  <tbody>\n",
       "    <tr>\n",
       "      <th>Action</th>\n",
       "      <td>3192</td>\n",
       "    </tr>\n",
       "    <tr>\n",
       "      <th>Sports</th>\n",
       "      <td>2192</td>\n",
       "    </tr>\n",
       "    <tr>\n",
       "      <th>Health &amp; Fitness</th>\n",
       "      <td>1888</td>\n",
       "    </tr>\n",
       "    <tr>\n",
       "      <th>Travel &amp; Local</th>\n",
       "      <td>1747</td>\n",
       "    </tr>\n",
       "    <tr>\n",
       "      <th>Casual</th>\n",
       "      <td>1707</td>\n",
       "    </tr>\n",
       "    <tr>\n",
       "      <th>Tools</th>\n",
       "      <td>1662</td>\n",
       "    </tr>\n",
       "    <tr>\n",
       "      <th>Productivity</th>\n",
       "      <td>1655</td>\n",
       "    </tr>\n",
       "    <tr>\n",
       "      <th>Finance</th>\n",
       "      <td>1581</td>\n",
       "    </tr>\n",
       "    <tr>\n",
       "      <th>Photography</th>\n",
       "      <td>1528</td>\n",
       "    </tr>\n",
       "    <tr>\n",
       "      <th>Arcade</th>\n",
       "      <td>1492</td>\n",
       "    </tr>\n",
       "  </tbody>\n",
       "</table>\n",
       "</div>"
      ],
      "text/plain": [
       "                  App Counts\n",
       "Action                  3192\n",
       "Sports                  2192\n",
       "Health & Fitness        1888\n",
       "Travel & Local          1747\n",
       "Casual                  1707\n",
       "Tools                   1662\n",
       "Productivity            1655\n",
       "Finance                 1581\n",
       "Photography             1528\n",
       "Arcade                  1492"
      ]
     },
     "execution_count": 91,
     "metadata": {},
     "output_type": "execute_result"
    }
   ],
   "source": [
    "#finding the value counts of Genres and converting it to dataframe\n",
    "Genre_App = df['Genres'].value_counts()\n",
    "Genre_App = pd.DataFrame(Genre_App)\n",
    "Genre_App.columns = ['App Counts']\n",
    "Genre_App.head(10)"
   ]
  },
  {
   "cell_type": "code",
   "execution_count": 92,
   "metadata": {},
   "outputs": [
    {
     "data": {
      "text/html": [
       "<div>\n",
       "<style scoped>\n",
       "    .dataframe tbody tr th:only-of-type {\n",
       "        vertical-align: middle;\n",
       "    }\n",
       "\n",
       "    .dataframe tbody tr th {\n",
       "        vertical-align: top;\n",
       "    }\n",
       "\n",
       "    .dataframe thead th {\n",
       "        text-align: right;\n",
       "    }\n",
       "</style>\n",
       "<table border=\"1\" class=\"dataframe\">\n",
       "  <thead>\n",
       "    <tr style=\"text-align: right;\">\n",
       "      <th></th>\n",
       "      <th>App Counts</th>\n",
       "    </tr>\n",
       "  </thead>\n",
       "  <tbody>\n",
       "    <tr>\n",
       "      <th>Action</th>\n",
       "      <td>3192</td>\n",
       "    </tr>\n",
       "    <tr>\n",
       "      <th>Sports</th>\n",
       "      <td>2192</td>\n",
       "    </tr>\n",
       "    <tr>\n",
       "      <th>Health &amp; Fitness</th>\n",
       "      <td>1888</td>\n",
       "    </tr>\n",
       "    <tr>\n",
       "      <th>Travel &amp; Local</th>\n",
       "      <td>1747</td>\n",
       "    </tr>\n",
       "    <tr>\n",
       "      <th>Casual</th>\n",
       "      <td>1707</td>\n",
       "    </tr>\n",
       "    <tr>\n",
       "      <th>Tools</th>\n",
       "      <td>1662</td>\n",
       "    </tr>\n",
       "    <tr>\n",
       "      <th>Productivity</th>\n",
       "      <td>1655</td>\n",
       "    </tr>\n",
       "    <tr>\n",
       "      <th>Finance</th>\n",
       "      <td>1581</td>\n",
       "    </tr>\n",
       "    <tr>\n",
       "      <th>Photography</th>\n",
       "      <td>1528</td>\n",
       "    </tr>\n",
       "    <tr>\n",
       "      <th>Arcade</th>\n",
       "      <td>1492</td>\n",
       "    </tr>\n",
       "  </tbody>\n",
       "</table>\n",
       "</div>"
      ],
      "text/plain": [
       "                  App Counts\n",
       "Action                  3192\n",
       "Sports                  2192\n",
       "Health & Fitness        1888\n",
       "Travel & Local          1747\n",
       "Casual                  1707\n",
       "Tools                   1662\n",
       "Productivity            1655\n",
       "Finance                 1581\n",
       "Photography             1528\n",
       "Arcade                  1492"
      ]
     },
     "execution_count": 92,
     "metadata": {},
     "output_type": "execute_result"
    }
   ],
   "source": [
    "#creating new dataframe from Genre_App\n",
    "Genre_more_App = pd.DataFrame(Genre_App.sort_values(by = ['App Counts'], ascending = False)).head(10)\n",
    "Genre_more_App"
   ]
  },
  {
   "cell_type": "code",
   "execution_count": 93,
   "metadata": {},
   "outputs": [
    {
     "data": {
      "image/png": "[encoded data removed]",
      "text/plain": [
       "<Figure size 720x720 with 1 Axes>"
      ]
     },
     "metadata": {
      "needs_background": "light"
     },
     "output_type": "display_data"
    }
   ],
   "source": [
    "plot = Genre_more_App.plot.bar(figsize=(10,10),color='Blue')\n",
    "plt.title('Genres with many apps')\n",
    "plt.ylabel('App Counts')\n",
    "plt.xlabel('Genres');"
   ]
  },
  {
   "cell_type": "code",
   "execution_count": null,
   "metadata": {},
   "outputs": [],
   "source": []
  },
  {
   "cell_type": "code",
   "execution_count": 94,
   "metadata": {
    "id": "BjmghqtbJmn6"
   },
   "outputs": [
    {
     "data": {
      "text/html": [
       "<div>\n",
       "<style scoped>\n",
       "    .dataframe tbody tr th:only-of-type {\n",
       "        vertical-align: middle;\n",
       "    }\n",
       "\n",
       "    .dataframe tbody tr th {\n",
       "        vertical-align: top;\n",
       "    }\n",
       "\n",
       "    .dataframe thead th {\n",
       "        text-align: right;\n",
       "    }\n",
       "</style>\n",
       "<table border=\"1\" class=\"dataframe\">\n",
       "  <thead>\n",
       "    <tr style=\"text-align: right;\">\n",
       "      <th></th>\n",
       "      <th>Rating</th>\n",
       "      <th>Reviews</th>\n",
       "      <th>Size</th>\n",
       "      <th>Installs</th>\n",
       "      <th>Price</th>\n",
       "      <th>Sentiment_Polarity</th>\n",
       "      <th>Sentiment_Subjectivity</th>\n",
       "    </tr>\n",
       "  </thead>\n",
       "  <tbody>\n",
       "    <tr>\n",
       "      <th>0</th>\n",
       "      <td>3.9</td>\n",
       "      <td>967</td>\n",
       "      <td>14.0</td>\n",
       "      <td>500000</td>\n",
       "      <td>0.0</td>\n",
       "      <td>-0.250000</td>\n",
       "      <td>1.000000</td>\n",
       "    </tr>\n",
       "    <tr>\n",
       "      <th>1</th>\n",
       "      <td>3.9</td>\n",
       "      <td>967</td>\n",
       "      <td>14.0</td>\n",
       "      <td>500000</td>\n",
       "      <td>0.0</td>\n",
       "      <td>-0.725000</td>\n",
       "      <td>0.833333</td>\n",
       "    </tr>\n",
       "    <tr>\n",
       "      <th>2</th>\n",
       "      <td>3.9</td>\n",
       "      <td>967</td>\n",
       "      <td>14.0</td>\n",
       "      <td>500000</td>\n",
       "      <td>0.0</td>\n",
       "      <td>0.000000</td>\n",
       "      <td>0.000000</td>\n",
       "    </tr>\n",
       "    <tr>\n",
       "      <th>4</th>\n",
       "      <td>3.9</td>\n",
       "      <td>967</td>\n",
       "      <td>14.0</td>\n",
       "      <td>500000</td>\n",
       "      <td>0.0</td>\n",
       "      <td>0.500000</td>\n",
       "      <td>0.600000</td>\n",
       "    </tr>\n",
       "    <tr>\n",
       "      <th>5</th>\n",
       "      <td>3.9</td>\n",
       "      <td>967</td>\n",
       "      <td>14.0</td>\n",
       "      <td>500000</td>\n",
       "      <td>0.0</td>\n",
       "      <td>-0.800000</td>\n",
       "      <td>0.900000</td>\n",
       "    </tr>\n",
       "    <tr>\n",
       "      <th>...</th>\n",
       "      <td>...</td>\n",
       "      <td>...</td>\n",
       "      <td>...</td>\n",
       "      <td>...</td>\n",
       "      <td>...</td>\n",
       "      <td>...</td>\n",
       "      <td>...</td>\n",
       "    </tr>\n",
       "    <tr>\n",
       "      <th>122646</th>\n",
       "      <td>4.5</td>\n",
       "      <td>223941</td>\n",
       "      <td>0.0</td>\n",
       "      <td>10000000</td>\n",
       "      <td>0.0</td>\n",
       "      <td>0.475000</td>\n",
       "      <td>0.512500</td>\n",
       "    </tr>\n",
       "    <tr>\n",
       "      <th>122652</th>\n",
       "      <td>4.5</td>\n",
       "      <td>223941</td>\n",
       "      <td>0.0</td>\n",
       "      <td>10000000</td>\n",
       "      <td>0.0</td>\n",
       "      <td>0.566667</td>\n",
       "      <td>0.733333</td>\n",
       "    </tr>\n",
       "    <tr>\n",
       "      <th>122659</th>\n",
       "      <td>4.5</td>\n",
       "      <td>223941</td>\n",
       "      <td>0.0</td>\n",
       "      <td>10000000</td>\n",
       "      <td>0.0</td>\n",
       "      <td>0.200000</td>\n",
       "      <td>0.200000</td>\n",
       "    </tr>\n",
       "    <tr>\n",
       "      <th>122660</th>\n",
       "      <td>4.5</td>\n",
       "      <td>223941</td>\n",
       "      <td>0.0</td>\n",
       "      <td>10000000</td>\n",
       "      <td>0.0</td>\n",
       "      <td>0.000000</td>\n",
       "      <td>0.000000</td>\n",
       "    </tr>\n",
       "    <tr>\n",
       "      <th>122661</th>\n",
       "      <td>4.5</td>\n",
       "      <td>223941</td>\n",
       "      <td>0.0</td>\n",
       "      <td>10000000</td>\n",
       "      <td>0.0</td>\n",
       "      <td>0.850000</td>\n",
       "      <td>0.450000</td>\n",
       "    </tr>\n",
       "  </tbody>\n",
       "</table>\n",
       "<p>40410 rows × 7 columns</p>\n",
       "</div>"
      ],
      "text/plain": [
       "        Rating  Reviews  Size  Installs  Price  Sentiment_Polarity  \\\n",
       "0          3.9      967  14.0    500000    0.0           -0.250000   \n",
       "1          3.9      967  14.0    500000    0.0           -0.725000   \n",
       "2          3.9      967  14.0    500000    0.0            0.000000   \n",
       "4          3.9      967  14.0    500000    0.0            0.500000   \n",
       "5          3.9      967  14.0    500000    0.0           -0.800000   \n",
       "...        ...      ...   ...       ...    ...                 ...   \n",
       "122646     4.5   223941   0.0  10000000    0.0            0.475000   \n",
       "122652     4.5   223941   0.0  10000000    0.0            0.566667   \n",
       "122659     4.5   223941   0.0  10000000    0.0            0.200000   \n",
       "122660     4.5   223941   0.0  10000000    0.0            0.000000   \n",
       "122661     4.5   223941   0.0  10000000    0.0            0.850000   \n",
       "\n",
       "        Sentiment_Subjectivity  \n",
       "0                     1.000000  \n",
       "1                     0.833333  \n",
       "2                     0.000000  \n",
       "4                     0.600000  \n",
       "5                     0.900000  \n",
       "...                        ...  \n",
       "122646                0.512500  \n",
       "122652                0.733333  \n",
       "122659                0.200000  \n",
       "122660                0.000000  \n",
       "122661                0.450000  \n",
       "\n",
       "[40410 rows x 7 columns]"
      ]
     },
     "execution_count": 94,
     "metadata": {},
     "output_type": "execute_result"
    }
   ],
   "source": [
    "#to see the columns that have numerical data\n",
    "df_numbers = df.select_dtypes(include='number')\n",
    "df_numbers"
   ]
  },
  {
   "cell_type": "markdown",
   "metadata": {},
   "source": [
    "#### 14. what are the corrilation between all the columns"
   ]
  },
  {
   "cell_type": "code",
   "execution_count": 95,
   "metadata": {},
   "outputs": [
    {
     "data": {
      "text/html": [
       "<div>\n",
       "<style scoped>\n",
       "    .dataframe tbody tr th:only-of-type {\n",
       "        vertical-align: middle;\n",
       "    }\n",
       "\n",
       "    .dataframe tbody tr th {\n",
       "        vertical-align: top;\n",
       "    }\n",
       "\n",
       "    .dataframe thead th {\n",
       "        text-align: right;\n",
       "    }\n",
       "</style>\n",
       "<table border=\"1\" class=\"dataframe\">\n",
       "  <thead>\n",
       "    <tr style=\"text-align: right;\">\n",
       "      <th></th>\n",
       "      <th>App</th>\n",
       "      <th>Category</th>\n",
       "      <th>Type</th>\n",
       "      <th>Content Rating</th>\n",
       "      <th>Genres</th>\n",
       "      <th>Last Updated</th>\n",
       "      <th>Current Ver</th>\n",
       "      <th>Android Ver</th>\n",
       "      <th>Translated_Review</th>\n",
       "      <th>Sentiment</th>\n",
       "    </tr>\n",
       "  </thead>\n",
       "  <tbody>\n",
       "    <tr>\n",
       "      <th>0</th>\n",
       "      <td>Coloring book moana</td>\n",
       "      <td>ART AND DESIGN</td>\n",
       "      <td>Free</td>\n",
       "      <td>Everyone</td>\n",
       "      <td>Art &amp; Design;Pretend Play</td>\n",
       "      <td>2018-01-15</td>\n",
       "      <td>2.0.0</td>\n",
       "      <td>4.0.3 and up</td>\n",
       "      <td>A kid's excessive ads. The types ads allowed a...</td>\n",
       "      <td>Negative</td>\n",
       "    </tr>\n",
       "    <tr>\n",
       "      <th>1</th>\n",
       "      <td>Coloring book moana</td>\n",
       "      <td>ART AND DESIGN</td>\n",
       "      <td>Free</td>\n",
       "      <td>Everyone</td>\n",
       "      <td>Art &amp; Design;Pretend Play</td>\n",
       "      <td>2018-01-15</td>\n",
       "      <td>2.0.0</td>\n",
       "      <td>4.0.3 and up</td>\n",
       "      <td>It bad &gt;:(</td>\n",
       "      <td>Negative</td>\n",
       "    </tr>\n",
       "    <tr>\n",
       "      <th>2</th>\n",
       "      <td>Coloring book moana</td>\n",
       "      <td>ART AND DESIGN</td>\n",
       "      <td>Free</td>\n",
       "      <td>Everyone</td>\n",
       "      <td>Art &amp; Design;Pretend Play</td>\n",
       "      <td>2018-01-15</td>\n",
       "      <td>2.0.0</td>\n",
       "      <td>4.0.3 and up</td>\n",
       "      <td>like</td>\n",
       "      <td>Neutral</td>\n",
       "    </tr>\n",
       "  </tbody>\n",
       "</table>\n",
       "</div>"
      ],
      "text/plain": [
       "                   App        Category  Type Content Rating  \\\n",
       "0  Coloring book moana  ART AND DESIGN  Free       Everyone   \n",
       "1  Coloring book moana  ART AND DESIGN  Free       Everyone   \n",
       "2  Coloring book moana  ART AND DESIGN  Free       Everyone   \n",
       "\n",
       "                      Genres Last Updated Current Ver   Android Ver  \\\n",
       "0  Art & Design;Pretend Play   2018-01-15       2.0.0  4.0.3 and up   \n",
       "1  Art & Design;Pretend Play   2018-01-15       2.0.0  4.0.3 and up   \n",
       "2  Art & Design;Pretend Play   2018-01-15       2.0.0  4.0.3 and up   \n",
       "\n",
       "                                   Translated_Review Sentiment  \n",
       "0  A kid's excessive ads. The types ads allowed a...  Negative  \n",
       "1                                         It bad >:(  Negative  \n",
       "2                                               like   Neutral  "
      ]
     },
     "execution_count": 95,
     "metadata": {},
     "output_type": "execute_result"
    }
   ],
   "source": [
    "#Columns that are not numerical data\n",
    "df_letters = df.select_dtypes(exclude='number')\n",
    "df_letters.head(3)"
   ]
  },
  {
   "cell_type": "code",
   "execution_count": 96,
   "metadata": {},
   "outputs": [
    {
     "data": {
      "text/html": [
       "<div>\n",
       "<style scoped>\n",
       "    .dataframe tbody tr th:only-of-type {\n",
       "        vertical-align: middle;\n",
       "    }\n",
       "\n",
       "    .dataframe tbody tr th {\n",
       "        vertical-align: top;\n",
       "    }\n",
       "\n",
       "    .dataframe thead th {\n",
       "        text-align: right;\n",
       "    }\n",
       "</style>\n",
       "<table border=\"1\" class=\"dataframe\">\n",
       "  <thead>\n",
       "    <tr style=\"text-align: right;\">\n",
       "      <th></th>\n",
       "      <th>Rating</th>\n",
       "      <th>Reviews</th>\n",
       "      <th>Size</th>\n",
       "      <th>Installs</th>\n",
       "      <th>Price</th>\n",
       "      <th>Sentiment_Polarity</th>\n",
       "      <th>Sentiment_Subjectivity</th>\n",
       "    </tr>\n",
       "  </thead>\n",
       "  <tbody>\n",
       "    <tr>\n",
       "      <th>Rating</th>\n",
       "      <td>1.000000</td>\n",
       "      <td>0.068828</td>\n",
       "      <td>0.088283</td>\n",
       "      <td>0.008312</td>\n",
       "      <td>-0.015508</td>\n",
       "      <td>0.075225</td>\n",
       "      <td>0.071518</td>\n",
       "    </tr>\n",
       "    <tr>\n",
       "      <th>Reviews</th>\n",
       "      <td>0.068828</td>\n",
       "      <td>1.000000</td>\n",
       "      <td>0.173368</td>\n",
       "      <td>0.560561</td>\n",
       "      <td>-0.016065</td>\n",
       "      <td>-0.094323</td>\n",
       "      <td>-0.007640</td>\n",
       "    </tr>\n",
       "    <tr>\n",
       "      <th>Size</th>\n",
       "      <td>0.088283</td>\n",
       "      <td>0.173368</td>\n",
       "      <td>1.000000</td>\n",
       "      <td>-0.032286</td>\n",
       "      <td>0.020715</td>\n",
       "      <td>-0.126711</td>\n",
       "      <td>0.015599</td>\n",
       "    </tr>\n",
       "    <tr>\n",
       "      <th>Installs</th>\n",
       "      <td>0.008312</td>\n",
       "      <td>0.560561</td>\n",
       "      <td>-0.032286</td>\n",
       "      <td>1.000000</td>\n",
       "      <td>-0.024216</td>\n",
       "      <td>-0.053681</td>\n",
       "      <td>-0.004561</td>\n",
       "    </tr>\n",
       "    <tr>\n",
       "      <th>Price</th>\n",
       "      <td>-0.015508</td>\n",
       "      <td>-0.016065</td>\n",
       "      <td>0.020715</td>\n",
       "      <td>-0.024216</td>\n",
       "      <td>1.000000</td>\n",
       "      <td>0.020718</td>\n",
       "      <td>0.000120</td>\n",
       "    </tr>\n",
       "    <tr>\n",
       "      <th>Sentiment_Polarity</th>\n",
       "      <td>0.075225</td>\n",
       "      <td>-0.094323</td>\n",
       "      <td>-0.126711</td>\n",
       "      <td>-0.053681</td>\n",
       "      <td>0.020718</td>\n",
       "      <td>1.000000</td>\n",
       "      <td>0.244195</td>\n",
       "    </tr>\n",
       "    <tr>\n",
       "      <th>Sentiment_Subjectivity</th>\n",
       "      <td>0.071518</td>\n",
       "      <td>-0.007640</td>\n",
       "      <td>0.015599</td>\n",
       "      <td>-0.004561</td>\n",
       "      <td>0.000120</td>\n",
       "      <td>0.244195</td>\n",
       "      <td>1.000000</td>\n",
       "    </tr>\n",
       "  </tbody>\n",
       "</table>\n",
       "</div>"
      ],
      "text/plain": [
       "                          Rating   Reviews      Size  Installs     Price  \\\n",
       "Rating                  1.000000  0.068828  0.088283  0.008312 -0.015508   \n",
       "Reviews                 0.068828  1.000000  0.173368  0.560561 -0.016065   \n",
       "Size                    0.088283  0.173368  1.000000 -0.032286  0.020715   \n",
       "Installs                0.008312  0.560561 -0.032286  1.000000 -0.024216   \n",
       "Price                  -0.015508 -0.016065  0.020715 -0.024216  1.000000   \n",
       "Sentiment_Polarity      0.075225 -0.094323 -0.126711 -0.053681  0.020718   \n",
       "Sentiment_Subjectivity  0.071518 -0.007640  0.015599 -0.004561  0.000120   \n",
       "\n",
       "                        Sentiment_Polarity  Sentiment_Subjectivity  \n",
       "Rating                            0.075225                0.071518  \n",
       "Reviews                          -0.094323               -0.007640  \n",
       "Size                             -0.126711                0.015599  \n",
       "Installs                         -0.053681               -0.004561  \n",
       "Price                             0.020718                0.000120  \n",
       "Sentiment_Polarity                1.000000                0.244195  \n",
       "Sentiment_Subjectivity            0.244195                1.000000  "
      ]
     },
     "execution_count": 96,
     "metadata": {},
     "output_type": "execute_result"
    }
   ],
   "source": [
    "df.corr()"
   ]
  },
  {
   "cell_type": "code",
   "execution_count": null,
   "metadata": {},
   "outputs": [],
   "source": []
  },
  {
   "cell_type": "code",
   "execution_count": 97,
   "metadata": {
    "id": "wDb6bPMyJm3M"
   },
   "outputs": [
    {
     "data": {
      "image/png": "[encoded data removed]",
      "text/plain": [
       "<Figure size 936x432 with 1 Axes>"
      ]
     },
     "metadata": {
      "needs_background": "light"
     },
     "output_type": "display_data"
    }
   ],
   "source": [
    "#to check if there is a correlation between ratings and installation i.e are people installing based on the ratings\n",
    "free_app = df[df['Type']=='Free']\n",
    "plt.scatter(free_app['Rating'],free_app['Installs'],color='b')\n",
    "plt.xlabel('Rating')\n",
    "plt.ylabel('Installations')\n",
    "plt.title('Rating vs. Installations'                                                                                     );"
   ]
  },
  {
   "cell_type": "code",
   "execution_count": 98,
   "metadata": {
    "id": "ooK0WNIAJm-9"
   },
   "outputs": [
    {
     "data": {
      "text/plain": [
       "0.008237695380240558"
      ]
     },
     "execution_count": 98,
     "metadata": {},
     "output_type": "execute_result"
    }
   ],
   "source": [
    "correlation_ratings_installations = free_app['Rating'].corr(free_app['Installs'])\n",
    "correlation_ratings_installations"
   ]
  },
  {
   "cell_type": "markdown",
   "metadata": {
    "id": "S6c4-P6XJnH3"
   },
   "source": [
    "The above analysis shows that there is a negative correlation between ratings and installations of free apps. Which means that the apps ratings has no direct effects on installations."
   ]
  },
  {
   "cell_type": "code",
   "execution_count": 99,
   "metadata": {},
   "outputs": [
    {
     "data": {
      "image/png": "[encoded data removed]",
      "text/plain": [
       "<Figure size 936x432 with 1 Axes>"
      ]
     },
     "metadata": {
      "needs_background": "light"
     },
     "output_type": "display_data"
    }
   ],
   "source": [
    "plt.scatter(free_app['Reviews'],free_app['Installs'],color='b')\n",
    "plt.xlabel('Reviews')\n",
    "plt.ylabel('Installations')\n",
    "plt.title('Reviews vs. Installations');"
   ]
  },
  {
   "cell_type": "code",
   "execution_count": 100,
   "metadata": {},
   "outputs": [
    {
     "data": {
      "text/plain": [
       "0.5601609795562302"
      ]
     },
     "execution_count": 100,
     "metadata": {},
     "output_type": "execute_result"
    }
   ],
   "source": [
    "correlation_reviews_installations = free_app['Reviews'].corr(free_app['Installs'])\n",
    "correlation_reviews_installations"
   ]
  },
  {
   "cell_type": "markdown",
   "metadata": {},
   "source": [
    "The above analysis shows that there is a positive correlation between reviews and installations of free apps. Which means that the apps reviews has direct effects on installations."
   ]
  },
  {
   "cell_type": "code",
   "execution_count": 101,
   "metadata": {
    "id": "JAagEGJEJnLJ"
   },
   "outputs": [
    {
     "data": {
      "image/png": "[encoded data removed]",
      "text/plain": [
       "<Figure size 936x432 with 1 Axes>"
      ]
     },
     "metadata": {
      "needs_background": "light"
     },
     "output_type": "display_data"
    }
   ],
   "source": [
    "paid_app = df[df['Type']=='Paid']\n",
    "plt.scatter(paid_app['Price'],paid_app['Installs'],color='b')\n",
    "plt.xlabel('Price')\n",
    "plt.ylabel('Installations')\n",
    "plt.title('Price vs. Installations');"
   ]
  },
  {
   "cell_type": "code",
   "execution_count": 102,
   "metadata": {
    "id": "GMmXrhQvJnO_"
   },
   "outputs": [
    {
     "data": {
      "text/plain": [
       "-0.5000113047168175"
      ]
     },
     "execution_count": 102,
     "metadata": {},
     "output_type": "execute_result"
    }
   ],
   "source": [
    "correlation_price_installations = paid_app['Price'].corr(paid_app['Installs'])\n",
    "correlation_price_installations"
   ]
  },
  {
   "cell_type": "markdown",
   "metadata": {
    "id": "JQTY3DtzJnTT"
   },
   "source": [
    "The above analysis shows that there is a negative correlation between price and installations of paid apps. Which means that the apps prices have no direct effects on installations."
   ]
  },
  {
   "cell_type": "code",
   "execution_count": 103,
   "metadata": {
    "id": "JmsXV8WCYPbM"
   },
   "outputs": [
    {
     "data": {
      "image/png": "[encoded data removed]",
      "text/plain": [
       "<Figure size 936x432 with 1 Axes>"
      ]
     },
     "metadata": {
      "needs_background": "light"
     },
     "output_type": "display_data"
    }
   ],
   "source": [
    "plt.scatter(paid_app['Reviews'],paid_app['Installs'],color='b')\n",
    "plt.xlabel('Reviews')\n",
    "plt.ylabel('Installations')\n",
    "plt.title('Reviews vs. Installations');"
   ]
  },
  {
   "cell_type": "code",
   "execution_count": 104,
   "metadata": {
    "id": "0-jHPAbQYPei"
   },
   "outputs": [
    {
     "data": {
      "text/plain": [
       "0.9466828905278906"
      ]
     },
     "execution_count": 104,
     "metadata": {},
     "output_type": "execute_result"
    }
   ],
   "source": [
    "correlation_price_installations = paid_app['Reviews'].corr(paid_app['Installs'])\n",
    "correlation_price_installations"
   ]
  },
  {
   "cell_type": "markdown",
   "metadata": {
    "id": "bo2S9eQIYPhE"
   },
   "source": [
    "The above analysis shows that there is a high positive correlation between reviews and installations of paid apps. Which means that the reviews of the paid apps have a high direct effects on installations."
   ]
  },
  {
   "cell_type": "markdown",
   "metadata": {},
   "source": [
    "#### 15. Sentiment analysis"
   ]
  },
  {
   "cell_type": "code",
   "execution_count": 105,
   "metadata": {
    "id": "lMyArW7cYPpp"
   },
   "outputs": [
    {
     "data": {
      "image/png": "[encoded data removed]",
      "text/plain": [
       "<Figure size 936x432 with 1 Axes>"
      ]
     },
     "metadata": {
      "needs_background": "light"
     },
     "output_type": "display_data"
    }
   ],
   "source": [
    "plt.hist(df['Sentiment'],rwidth=0.9,color='blue')\n",
    "plt.xlabel('Sentiment')\n",
    "plt.ylabel('Frequency')\n",
    "plt.title('Sentiment vs. Frequency');"
   ]
  },
  {
   "cell_type": "code",
   "execution_count": 106,
   "metadata": {},
   "outputs": [],
   "source": [
    "\n",
    "# creating a dataframe to check the patterm of the null values\n",
    "#nan_df2 = df2[df2.isna().any(axis=1)]\n",
    "#nan_df2.head(20)\n",
    "\n"
   ]
  },
  {
   "cell_type": "code",
   "execution_count": null,
   "metadata": {},
   "outputs": [],
   "source": []
  },
  {
   "cell_type": "markdown",
   "metadata": {},
   "source": [
    "## using machine learning to predict the numbers of installatons of app"
   ]
  },
  {
   "cell_type": "code",
   "execution_count": 107,
   "metadata": {},
   "outputs": [
    {
     "data": {
      "text/html": [
       "<div>\n",
       "<style scoped>\n",
       "    .dataframe tbody tr th:only-of-type {\n",
       "        vertical-align: middle;\n",
       "    }\n",
       "\n",
       "    .dataframe tbody tr th {\n",
       "        vertical-align: top;\n",
       "    }\n",
       "\n",
       "    .dataframe thead th {\n",
       "        text-align: right;\n",
       "    }\n",
       "</style>\n",
       "<table border=\"1\" class=\"dataframe\">\n",
       "  <thead>\n",
       "    <tr style=\"text-align: right;\">\n",
       "      <th></th>\n",
       "      <th>App</th>\n",
       "      <th>Category</th>\n",
       "      <th>Rating</th>\n",
       "      <th>Reviews</th>\n",
       "      <th>Size</th>\n",
       "      <th>Installs</th>\n",
       "      <th>Type</th>\n",
       "      <th>Price</th>\n",
       "      <th>Content Rating</th>\n",
       "      <th>Genres</th>\n",
       "      <th>Last Updated</th>\n",
       "      <th>Current Ver</th>\n",
       "      <th>Android Ver</th>\n",
       "      <th>Translated_Review</th>\n",
       "      <th>Sentiment</th>\n",
       "      <th>Sentiment_Polarity</th>\n",
       "      <th>Sentiment_Subjectivity</th>\n",
       "    </tr>\n",
       "  </thead>\n",
       "  <tbody>\n",
       "    <tr>\n",
       "      <th>0</th>\n",
       "      <td>Coloring book moana</td>\n",
       "      <td>ART AND DESIGN</td>\n",
       "      <td>3.9</td>\n",
       "      <td>967</td>\n",
       "      <td>14.0</td>\n",
       "      <td>500000</td>\n",
       "      <td>Free</td>\n",
       "      <td>0.0</td>\n",
       "      <td>Everyone</td>\n",
       "      <td>Art &amp; Design;Pretend Play</td>\n",
       "      <td>2018-01-15</td>\n",
       "      <td>2.0.0</td>\n",
       "      <td>4.0.3 and up</td>\n",
       "      <td>A kid's excessive ads. The types ads allowed a...</td>\n",
       "      <td>Negative</td>\n",
       "      <td>-0.250</td>\n",
       "      <td>1.000000</td>\n",
       "    </tr>\n",
       "    <tr>\n",
       "      <th>1</th>\n",
       "      <td>Coloring book moana</td>\n",
       "      <td>ART AND DESIGN</td>\n",
       "      <td>3.9</td>\n",
       "      <td>967</td>\n",
       "      <td>14.0</td>\n",
       "      <td>500000</td>\n",
       "      <td>Free</td>\n",
       "      <td>0.0</td>\n",
       "      <td>Everyone</td>\n",
       "      <td>Art &amp; Design;Pretend Play</td>\n",
       "      <td>2018-01-15</td>\n",
       "      <td>2.0.0</td>\n",
       "      <td>4.0.3 and up</td>\n",
       "      <td>It bad &gt;:(</td>\n",
       "      <td>Negative</td>\n",
       "      <td>-0.725</td>\n",
       "      <td>0.833333</td>\n",
       "    </tr>\n",
       "  </tbody>\n",
       "</table>\n",
       "</div>"
      ],
      "text/plain": [
       "                   App        Category  Rating  Reviews  Size  Installs  Type  \\\n",
       "0  Coloring book moana  ART AND DESIGN     3.9      967  14.0    500000  Free   \n",
       "1  Coloring book moana  ART AND DESIGN     3.9      967  14.0    500000  Free   \n",
       "\n",
       "   Price Content Rating                     Genres Last Updated Current Ver  \\\n",
       "0    0.0       Everyone  Art & Design;Pretend Play   2018-01-15       2.0.0   \n",
       "1    0.0       Everyone  Art & Design;Pretend Play   2018-01-15       2.0.0   \n",
       "\n",
       "    Android Ver                                  Translated_Review Sentiment  \\\n",
       "0  4.0.3 and up  A kid's excessive ads. The types ads allowed a...  Negative   \n",
       "1  4.0.3 and up                                         It bad >:(  Negative   \n",
       "\n",
       "   Sentiment_Polarity  Sentiment_Subjectivity  \n",
       "0              -0.250                1.000000  \n",
       "1              -0.725                0.833333  "
      ]
     },
     "execution_count": 107,
     "metadata": {},
     "output_type": "execute_result"
    }
   ],
   "source": [
    "df.head(2)"
   ]
  },
  {
   "cell_type": "code",
   "execution_count": null,
   "metadata": {},
   "outputs": [],
   "source": []
  },
  {
   "cell_type": "code",
   "execution_count": 108,
   "metadata": {},
   "outputs": [],
   "source": [
    "from sklearn.preprocessing import LabelEncoder\n",
    "le = LabelEncoder()\n",
    "#using label encoder to convert category columns to numerical values"
   ]
  },
  {
   "cell_type": "code",
   "execution_count": 109,
   "metadata": {},
   "outputs": [
    {
     "data": {
      "text/html": [
       "<div>\n",
       "<style scoped>\n",
       "    .dataframe tbody tr th:only-of-type {\n",
       "        vertical-align: middle;\n",
       "    }\n",
       "\n",
       "    .dataframe tbody tr th {\n",
       "        vertical-align: top;\n",
       "    }\n",
       "\n",
       "    .dataframe thead th {\n",
       "        text-align: right;\n",
       "    }\n",
       "</style>\n",
       "<table border=\"1\" class=\"dataframe\">\n",
       "  <thead>\n",
       "    <tr style=\"text-align: right;\">\n",
       "      <th></th>\n",
       "      <th>App</th>\n",
       "      <th>Category</th>\n",
       "      <th>Rating</th>\n",
       "      <th>Reviews</th>\n",
       "      <th>Size</th>\n",
       "      <th>Installs</th>\n",
       "      <th>Type</th>\n",
       "      <th>Price</th>\n",
       "      <th>ContentRating</th>\n",
       "      <th>Genres</th>\n",
       "      <th>Last Updated</th>\n",
       "      <th>Current Ver</th>\n",
       "      <th>Android Ver</th>\n",
       "      <th>Translated_Review</th>\n",
       "      <th>Sentiment</th>\n",
       "      <th>Sentiment_Polarity</th>\n",
       "      <th>Sentiment_Subjectivity</th>\n",
       "    </tr>\n",
       "  </thead>\n",
       "  <tbody>\n",
       "    <tr>\n",
       "      <th>0</th>\n",
       "      <td>Coloring book moana</td>\n",
       "      <td>ART AND DESIGN</td>\n",
       "      <td>3.9</td>\n",
       "      <td>967</td>\n",
       "      <td>14.0</td>\n",
       "      <td>500000</td>\n",
       "      <td>Free</td>\n",
       "      <td>0.0</td>\n",
       "      <td>Everyone</td>\n",
       "      <td>Art &amp; Design;Pretend Play</td>\n",
       "      <td>2018-01-15</td>\n",
       "      <td>2.0.0</td>\n",
       "      <td>4.0.3 and up</td>\n",
       "      <td>A kid's excessive ads. The types ads allowed a...</td>\n",
       "      <td>Negative</td>\n",
       "      <td>-0.25</td>\n",
       "      <td>1.0</td>\n",
       "    </tr>\n",
       "  </tbody>\n",
       "</table>\n",
       "</div>"
      ],
      "text/plain": [
       "                   App        Category  Rating  Reviews  Size  Installs  Type  \\\n",
       "0  Coloring book moana  ART AND DESIGN     3.9      967  14.0    500000  Free   \n",
       "\n",
       "   Price ContentRating                     Genres Last Updated Current Ver  \\\n",
       "0    0.0      Everyone  Art & Design;Pretend Play   2018-01-15       2.0.0   \n",
       "\n",
       "    Android Ver                                  Translated_Review Sentiment  \\\n",
       "0  4.0.3 and up  A kid's excessive ads. The types ads allowed a...  Negative   \n",
       "\n",
       "   Sentiment_Polarity  Sentiment_Subjectivity  \n",
       "0               -0.25                     1.0  "
      ]
     },
     "execution_count": 109,
     "metadata": {},
     "output_type": "execute_result"
    }
   ],
   "source": [
    "df.rename(columns ={'Content Rating': 'ContentRating'}, inplace = True)\n",
    "df.head(1)"
   ]
  },
  {
   "cell_type": "code",
   "execution_count": 110,
   "metadata": {},
   "outputs": [],
   "source": [
    "df.ContentRating = le.fit_transform(df.ContentRating.values)\n",
    "df.Sentiment= le.fit_transform(df.Sentiment.values)\n",
    "df.Type = le.fit_transform(df.Type.values)"
   ]
  },
  {
   "cell_type": "code",
   "execution_count": 111,
   "metadata": {},
   "outputs": [
    {
     "data": {
      "text/html": [
       "<div>\n",
       "<style scoped>\n",
       "    .dataframe tbody tr th:only-of-type {\n",
       "        vertical-align: middle;\n",
       "    }\n",
       "\n",
       "    .dataframe tbody tr th {\n",
       "        vertical-align: top;\n",
       "    }\n",
       "\n",
       "    .dataframe thead th {\n",
       "        text-align: right;\n",
       "    }\n",
       "</style>\n",
       "<table border=\"1\" class=\"dataframe\">\n",
       "  <thead>\n",
       "    <tr style=\"text-align: right;\">\n",
       "      <th></th>\n",
       "      <th>App</th>\n",
       "      <th>Category</th>\n",
       "      <th>Rating</th>\n",
       "      <th>Reviews</th>\n",
       "      <th>Size</th>\n",
       "      <th>Installs</th>\n",
       "      <th>Type</th>\n",
       "      <th>Price</th>\n",
       "      <th>ContentRating</th>\n",
       "      <th>Genres</th>\n",
       "      <th>Last Updated</th>\n",
       "      <th>Current Ver</th>\n",
       "      <th>Android Ver</th>\n",
       "      <th>Translated_Review</th>\n",
       "      <th>Sentiment</th>\n",
       "      <th>Sentiment_Polarity</th>\n",
       "      <th>Sentiment_Subjectivity</th>\n",
       "    </tr>\n",
       "  </thead>\n",
       "  <tbody>\n",
       "    <tr>\n",
       "      <th>0</th>\n",
       "      <td>Coloring book moana</td>\n",
       "      <td>ART AND DESIGN</td>\n",
       "      <td>3.9</td>\n",
       "      <td>967</td>\n",
       "      <td>14.0</td>\n",
       "      <td>500000</td>\n",
       "      <td>0</td>\n",
       "      <td>0.0</td>\n",
       "      <td>1</td>\n",
       "      <td>Art &amp; Design;Pretend Play</td>\n",
       "      <td>2018-01-15</td>\n",
       "      <td>2.0.0</td>\n",
       "      <td>4.0.3 and up</td>\n",
       "      <td>A kid's excessive ads. The types ads allowed a...</td>\n",
       "      <td>0</td>\n",
       "      <td>-0.250</td>\n",
       "      <td>1.000000</td>\n",
       "    </tr>\n",
       "    <tr>\n",
       "      <th>1</th>\n",
       "      <td>Coloring book moana</td>\n",
       "      <td>ART AND DESIGN</td>\n",
       "      <td>3.9</td>\n",
       "      <td>967</td>\n",
       "      <td>14.0</td>\n",
       "      <td>500000</td>\n",
       "      <td>0</td>\n",
       "      <td>0.0</td>\n",
       "      <td>1</td>\n",
       "      <td>Art &amp; Design;Pretend Play</td>\n",
       "      <td>2018-01-15</td>\n",
       "      <td>2.0.0</td>\n",
       "      <td>4.0.3 and up</td>\n",
       "      <td>It bad &gt;:(</td>\n",
       "      <td>0</td>\n",
       "      <td>-0.725</td>\n",
       "      <td>0.833333</td>\n",
       "    </tr>\n",
       "    <tr>\n",
       "      <th>2</th>\n",
       "      <td>Coloring book moana</td>\n",
       "      <td>ART AND DESIGN</td>\n",
       "      <td>3.9</td>\n",
       "      <td>967</td>\n",
       "      <td>14.0</td>\n",
       "      <td>500000</td>\n",
       "      <td>0</td>\n",
       "      <td>0.0</td>\n",
       "      <td>1</td>\n",
       "      <td>Art &amp; Design;Pretend Play</td>\n",
       "      <td>2018-01-15</td>\n",
       "      <td>2.0.0</td>\n",
       "      <td>4.0.3 and up</td>\n",
       "      <td>like</td>\n",
       "      <td>1</td>\n",
       "      <td>0.000</td>\n",
       "      <td>0.000000</td>\n",
       "    </tr>\n",
       "    <tr>\n",
       "      <th>4</th>\n",
       "      <td>Coloring book moana</td>\n",
       "      <td>ART AND DESIGN</td>\n",
       "      <td>3.9</td>\n",
       "      <td>967</td>\n",
       "      <td>14.0</td>\n",
       "      <td>500000</td>\n",
       "      <td>0</td>\n",
       "      <td>0.0</td>\n",
       "      <td>1</td>\n",
       "      <td>Art &amp; Design;Pretend Play</td>\n",
       "      <td>2018-01-15</td>\n",
       "      <td>2.0.0</td>\n",
       "      <td>4.0.3 and up</td>\n",
       "      <td>I love colors inspyering</td>\n",
       "      <td>2</td>\n",
       "      <td>0.500</td>\n",
       "      <td>0.600000</td>\n",
       "    </tr>\n",
       "    <tr>\n",
       "      <th>5</th>\n",
       "      <td>Coloring book moana</td>\n",
       "      <td>ART AND DESIGN</td>\n",
       "      <td>3.9</td>\n",
       "      <td>967</td>\n",
       "      <td>14.0</td>\n",
       "      <td>500000</td>\n",
       "      <td>0</td>\n",
       "      <td>0.0</td>\n",
       "      <td>1</td>\n",
       "      <td>Art &amp; Design;Pretend Play</td>\n",
       "      <td>2018-01-15</td>\n",
       "      <td>2.0.0</td>\n",
       "      <td>4.0.3 and up</td>\n",
       "      <td>I hate</td>\n",
       "      <td>0</td>\n",
       "      <td>-0.800</td>\n",
       "      <td>0.900000</td>\n",
       "    </tr>\n",
       "  </tbody>\n",
       "</table>\n",
       "</div>"
      ],
      "text/plain": [
       "                   App        Category  Rating  Reviews  Size  Installs  Type  \\\n",
       "0  Coloring book moana  ART AND DESIGN     3.9      967  14.0    500000     0   \n",
       "1  Coloring book moana  ART AND DESIGN     3.9      967  14.0    500000     0   \n",
       "2  Coloring book moana  ART AND DESIGN     3.9      967  14.0    500000     0   \n",
       "4  Coloring book moana  ART AND DESIGN     3.9      967  14.0    500000     0   \n",
       "5  Coloring book moana  ART AND DESIGN     3.9      967  14.0    500000     0   \n",
       "\n",
       "   Price  ContentRating                     Genres Last Updated Current Ver  \\\n",
       "0    0.0              1  Art & Design;Pretend Play   2018-01-15       2.0.0   \n",
       "1    0.0              1  Art & Design;Pretend Play   2018-01-15       2.0.0   \n",
       "2    0.0              1  Art & Design;Pretend Play   2018-01-15       2.0.0   \n",
       "4    0.0              1  Art & Design;Pretend Play   2018-01-15       2.0.0   \n",
       "5    0.0              1  Art & Design;Pretend Play   2018-01-15       2.0.0   \n",
       "\n",
       "    Android Ver                                  Translated_Review  Sentiment  \\\n",
       "0  4.0.3 and up  A kid's excessive ads. The types ads allowed a...          0   \n",
       "1  4.0.3 and up                                         It bad >:(          0   \n",
       "2  4.0.3 and up                                               like          1   \n",
       "4  4.0.3 and up                           I love colors inspyering          2   \n",
       "5  4.0.3 and up                                             I hate          0   \n",
       "\n",
       "   Sentiment_Polarity  Sentiment_Subjectivity  \n",
       "0              -0.250                1.000000  \n",
       "1              -0.725                0.833333  \n",
       "2               0.000                0.000000  \n",
       "4               0.500                0.600000  \n",
       "5              -0.800                0.900000  "
      ]
     },
     "execution_count": 111,
     "metadata": {},
     "output_type": "execute_result"
    }
   ],
   "source": [
    "df.head()"
   ]
  },
  {
   "cell_type": "code",
   "execution_count": 112,
   "metadata": {},
   "outputs": [
    {
     "data": {
      "text/plain": [
       "0           500000\n",
       "1           500000\n",
       "2           500000\n",
       "4           500000\n",
       "5           500000\n",
       "            ...   \n",
       "122646    10000000\n",
       "122652    10000000\n",
       "122659    10000000\n",
       "122660    10000000\n",
       "122661    10000000\n",
       "Name: Installs, Length: 40410, dtype: int32"
      ]
     },
     "execution_count": 112,
     "metadata": {},
     "output_type": "execute_result"
    }
   ],
   "source": [
    "#pd.options.display.float_format= '{:5f}'.format\n",
    "df['Installs'] = df['Installs'].round(5)\n",
    "#df['Reviews'] = df['Reviews']\n",
    "#.apply (lambda x: '{:.2f}', format(x))\n",
    "df.Installs\n"
   ]
  },
  {
   "cell_type": "code",
   "execution_count": 113,
   "metadata": {},
   "outputs": [
    {
     "data": {
      "text/html": [
       "<div>\n",
       "<style scoped>\n",
       "    .dataframe tbody tr th:only-of-type {\n",
       "        vertical-align: middle;\n",
       "    }\n",
       "\n",
       "    .dataframe tbody tr th {\n",
       "        vertical-align: top;\n",
       "    }\n",
       "\n",
       "    .dataframe thead th {\n",
       "        text-align: right;\n",
       "    }\n",
       "</style>\n",
       "<table border=\"1\" class=\"dataframe\">\n",
       "  <thead>\n",
       "    <tr style=\"text-align: right;\">\n",
       "      <th></th>\n",
       "      <th>Rating</th>\n",
       "      <th>Reviews</th>\n",
       "      <th>Size</th>\n",
       "      <th>Installs</th>\n",
       "      <th>Type</th>\n",
       "      <th>Price</th>\n",
       "      <th>ContentRating</th>\n",
       "      <th>Sentiment</th>\n",
       "      <th>Sentiment_Polarity</th>\n",
       "      <th>Sentiment_Subjectivity</th>\n",
       "    </tr>\n",
       "  </thead>\n",
       "  <tbody>\n",
       "    <tr>\n",
       "      <th>count</th>\n",
       "      <td>40410.000000</td>\n",
       "      <td>4.041000e+04</td>\n",
       "      <td>40410.000000</td>\n",
       "      <td>4.041000e+04</td>\n",
       "      <td>40410.000000</td>\n",
       "      <td>30357.000000</td>\n",
       "      <td>40410.000000</td>\n",
       "      <td>40410.000000</td>\n",
       "      <td>40410.000000</td>\n",
       "      <td>40410.000000</td>\n",
       "    </tr>\n",
       "    <tr>\n",
       "      <th>mean</th>\n",
       "      <td>4.324870</td>\n",
       "      <td>2.197498e+06</td>\n",
       "      <td>21.459570</td>\n",
       "      <td>5.902115e+07</td>\n",
       "      <td>0.009156</td>\n",
       "      <td>0.102276</td>\n",
       "      <td>1.544915</td>\n",
       "      <td>1.396684</td>\n",
       "      <td>0.168089</td>\n",
       "      <td>0.495124</td>\n",
       "    </tr>\n",
       "    <tr>\n",
       "      <th>std</th>\n",
       "      <td>0.285914</td>\n",
       "      <td>7.454746e+06</td>\n",
       "      <td>27.290244</td>\n",
       "      <td>1.713685e+08</td>\n",
       "      <td>0.095250</td>\n",
       "      <td>1.304376</td>\n",
       "      <td>1.077154</td>\n",
       "      <td>0.847049</td>\n",
       "      <td>0.343181</td>\n",
       "      <td>0.250381</td>\n",
       "    </tr>\n",
       "    <tr>\n",
       "      <th>min</th>\n",
       "      <td>2.600000</td>\n",
       "      <td>4.600000e+01</td>\n",
       "      <td>0.000000</td>\n",
       "      <td>1.000000e+03</td>\n",
       "      <td>0.000000</td>\n",
       "      <td>0.000000</td>\n",
       "      <td>0.000000</td>\n",
       "      <td>0.000000</td>\n",
       "      <td>-1.000000</td>\n",
       "      <td>0.000000</td>\n",
       "    </tr>\n",
       "    <tr>\n",
       "      <th>25%</th>\n",
       "      <td>4.200000</td>\n",
       "      <td>1.703000e+04</td>\n",
       "      <td>0.000000</td>\n",
       "      <td>1.000000e+06</td>\n",
       "      <td>0.000000</td>\n",
       "      <td>0.000000</td>\n",
       "      <td>1.000000</td>\n",
       "      <td>1.000000</td>\n",
       "      <td>0.000000</td>\n",
       "      <td>0.373737</td>\n",
       "    </tr>\n",
       "    <tr>\n",
       "      <th>50%</th>\n",
       "      <td>4.400000</td>\n",
       "      <td>1.114500e+05</td>\n",
       "      <td>9.500000</td>\n",
       "      <td>1.000000e+07</td>\n",
       "      <td>0.000000</td>\n",
       "      <td>0.000000</td>\n",
       "      <td>1.000000</td>\n",
       "      <td>2.000000</td>\n",
       "      <td>0.136364</td>\n",
       "      <td>0.512963</td>\n",
       "    </tr>\n",
       "    <tr>\n",
       "      <th>75%</th>\n",
       "      <td>4.500000</td>\n",
       "      <td>1.468638e+06</td>\n",
       "      <td>33.000000</td>\n",
       "      <td>5.000000e+07</td>\n",
       "      <td>0.000000</td>\n",
       "      <td>0.000000</td>\n",
       "      <td>1.000000</td>\n",
       "      <td>2.000000</td>\n",
       "      <td>0.387772</td>\n",
       "      <td>0.645833</td>\n",
       "    </tr>\n",
       "    <tr>\n",
       "      <th>max</th>\n",
       "      <td>4.900000</td>\n",
       "      <td>7.815831e+07</td>\n",
       "      <td>99.000000</td>\n",
       "      <td>1.000000e+09</td>\n",
       "      <td>1.000000</td>\n",
       "      <td>29.990000</td>\n",
       "      <td>4.000000</td>\n",
       "      <td>2.000000</td>\n",
       "      <td>1.000000</td>\n",
       "      <td>1.000000</td>\n",
       "    </tr>\n",
       "  </tbody>\n",
       "</table>\n",
       "</div>"
      ],
      "text/plain": [
       "             Rating       Reviews          Size      Installs          Type  \\\n",
       "count  40410.000000  4.041000e+04  40410.000000  4.041000e+04  40410.000000   \n",
       "mean       4.324870  2.197498e+06     21.459570  5.902115e+07      0.009156   \n",
       "std        0.285914  7.454746e+06     27.290244  1.713685e+08      0.095250   \n",
       "min        2.600000  4.600000e+01      0.000000  1.000000e+03      0.000000   \n",
       "25%        4.200000  1.703000e+04      0.000000  1.000000e+06      0.000000   \n",
       "50%        4.400000  1.114500e+05      9.500000  1.000000e+07      0.000000   \n",
       "75%        4.500000  1.468638e+06     33.000000  5.000000e+07      0.000000   \n",
       "max        4.900000  7.815831e+07     99.000000  1.000000e+09      1.000000   \n",
       "\n",
       "              Price  ContentRating     Sentiment  Sentiment_Polarity  \\\n",
       "count  30357.000000   40410.000000  40410.000000        40410.000000   \n",
       "mean       0.102276       1.544915      1.396684            0.168089   \n",
       "std        1.304376       1.077154      0.847049            0.343181   \n",
       "min        0.000000       0.000000      0.000000           -1.000000   \n",
       "25%        0.000000       1.000000      1.000000            0.000000   \n",
       "50%        0.000000       1.000000      2.000000            0.136364   \n",
       "75%        0.000000       1.000000      2.000000            0.387772   \n",
       "max       29.990000       4.000000      2.000000            1.000000   \n",
       "\n",
       "       Sentiment_Subjectivity  \n",
       "count            40410.000000  \n",
       "mean                 0.495124  \n",
       "std                  0.250381  \n",
       "min                  0.000000  \n",
       "25%                  0.373737  \n",
       "50%                  0.512963  \n",
       "75%                  0.645833  \n",
       "max                  1.000000  "
      ]
     },
     "execution_count": 113,
     "metadata": {},
     "output_type": "execute_result"
    }
   ],
   "source": [
    "df.describe()"
   ]
  },
  {
   "cell_type": "code",
   "execution_count": null,
   "metadata": {},
   "outputs": [],
   "source": []
  },
  {
   "cell_type": "code",
   "execution_count": 114,
   "metadata": {},
   "outputs": [
    {
     "data": {
      "text/html": [
       "<div>\n",
       "<style scoped>\n",
       "    .dataframe tbody tr th:only-of-type {\n",
       "        vertical-align: middle;\n",
       "    }\n",
       "\n",
       "    .dataframe tbody tr th {\n",
       "        vertical-align: top;\n",
       "    }\n",
       "\n",
       "    .dataframe thead th {\n",
       "        text-align: right;\n",
       "    }\n",
       "</style>\n",
       "<table border=\"1\" class=\"dataframe\">\n",
       "  <thead>\n",
       "    <tr style=\"text-align: right;\">\n",
       "      <th></th>\n",
       "      <th>Reviews</th>\n",
       "      <th>Type</th>\n",
       "      <th>Price</th>\n",
       "      <th>Sentiment</th>\n",
       "      <th>Sentiment_Polarity</th>\n",
       "      <th>Sentiment_Subjectivity</th>\n",
       "    </tr>\n",
       "  </thead>\n",
       "  <tbody>\n",
       "    <tr>\n",
       "      <th>0</th>\n",
       "      <td>967</td>\n",
       "      <td>0</td>\n",
       "      <td>0.0</td>\n",
       "      <td>0</td>\n",
       "      <td>-0.250000</td>\n",
       "      <td>1.000000</td>\n",
       "    </tr>\n",
       "    <tr>\n",
       "      <th>1</th>\n",
       "      <td>967</td>\n",
       "      <td>0</td>\n",
       "      <td>0.0</td>\n",
       "      <td>0</td>\n",
       "      <td>-0.725000</td>\n",
       "      <td>0.833333</td>\n",
       "    </tr>\n",
       "    <tr>\n",
       "      <th>2</th>\n",
       "      <td>967</td>\n",
       "      <td>0</td>\n",
       "      <td>0.0</td>\n",
       "      <td>1</td>\n",
       "      <td>0.000000</td>\n",
       "      <td>0.000000</td>\n",
       "    </tr>\n",
       "    <tr>\n",
       "      <th>4</th>\n",
       "      <td>967</td>\n",
       "      <td>0</td>\n",
       "      <td>0.0</td>\n",
       "      <td>2</td>\n",
       "      <td>0.500000</td>\n",
       "      <td>0.600000</td>\n",
       "    </tr>\n",
       "    <tr>\n",
       "      <th>5</th>\n",
       "      <td>967</td>\n",
       "      <td>0</td>\n",
       "      <td>0.0</td>\n",
       "      <td>0</td>\n",
       "      <td>-0.800000</td>\n",
       "      <td>0.900000</td>\n",
       "    </tr>\n",
       "    <tr>\n",
       "      <th>...</th>\n",
       "      <td>...</td>\n",
       "      <td>...</td>\n",
       "      <td>...</td>\n",
       "      <td>...</td>\n",
       "      <td>...</td>\n",
       "      <td>...</td>\n",
       "    </tr>\n",
       "    <tr>\n",
       "      <th>122646</th>\n",
       "      <td>223941</td>\n",
       "      <td>0</td>\n",
       "      <td>0.0</td>\n",
       "      <td>2</td>\n",
       "      <td>0.475000</td>\n",
       "      <td>0.512500</td>\n",
       "    </tr>\n",
       "    <tr>\n",
       "      <th>122652</th>\n",
       "      <td>223941</td>\n",
       "      <td>0</td>\n",
       "      <td>0.0</td>\n",
       "      <td>2</td>\n",
       "      <td>0.566667</td>\n",
       "      <td>0.733333</td>\n",
       "    </tr>\n",
       "    <tr>\n",
       "      <th>122659</th>\n",
       "      <td>223941</td>\n",
       "      <td>0</td>\n",
       "      <td>0.0</td>\n",
       "      <td>2</td>\n",
       "      <td>0.200000</td>\n",
       "      <td>0.200000</td>\n",
       "    </tr>\n",
       "    <tr>\n",
       "      <th>122660</th>\n",
       "      <td>223941</td>\n",
       "      <td>0</td>\n",
       "      <td>0.0</td>\n",
       "      <td>1</td>\n",
       "      <td>0.000000</td>\n",
       "      <td>0.000000</td>\n",
       "    </tr>\n",
       "    <tr>\n",
       "      <th>122661</th>\n",
       "      <td>223941</td>\n",
       "      <td>0</td>\n",
       "      <td>0.0</td>\n",
       "      <td>2</td>\n",
       "      <td>0.850000</td>\n",
       "      <td>0.450000</td>\n",
       "    </tr>\n",
       "  </tbody>\n",
       "</table>\n",
       "<p>40410 rows × 6 columns</p>\n",
       "</div>"
      ],
      "text/plain": [
       "        Reviews  Type  Price  Sentiment  Sentiment_Polarity  \\\n",
       "0           967     0    0.0          0           -0.250000   \n",
       "1           967     0    0.0          0           -0.725000   \n",
       "2           967     0    0.0          1            0.000000   \n",
       "4           967     0    0.0          2            0.500000   \n",
       "5           967     0    0.0          0           -0.800000   \n",
       "...         ...   ...    ...        ...                 ...   \n",
       "122646   223941     0    0.0          2            0.475000   \n",
       "122652   223941     0    0.0          2            0.566667   \n",
       "122659   223941     0    0.0          2            0.200000   \n",
       "122660   223941     0    0.0          1            0.000000   \n",
       "122661   223941     0    0.0          2            0.850000   \n",
       "\n",
       "        Sentiment_Subjectivity  \n",
       "0                     1.000000  \n",
       "1                     0.833333  \n",
       "2                     0.000000  \n",
       "4                     0.600000  \n",
       "5                     0.900000  \n",
       "...                        ...  \n",
       "122646                0.512500  \n",
       "122652                0.733333  \n",
       "122659                0.200000  \n",
       "122660                0.000000  \n",
       "122661                0.450000  \n",
       "\n",
       "[40410 rows x 6 columns]"
      ]
     },
     "execution_count": 114,
     "metadata": {},
     "output_type": "execute_result"
    }
   ],
   "source": [
    "df[\"Price\"] = df[\"Price\"].fillna(0.325608)\n",
    "x= df.drop(['App','Category','Genres','Last Updated','Translated_Review','Android Ver','Current Ver','Installs','ContentRating','Rating','Size'],axis = 'columns')\n",
    "x.isnull().sum()\n",
    "x\n"
   ]
  },
  {
   "cell_type": "code",
   "execution_count": 115,
   "metadata": {},
   "outputs": [
    {
     "data": {
      "image/png": "[encoded data removed]",
      "text/plain": [
       "<Figure size 864x864 with 2 Axes>"
      ]
     },
     "metadata": {
      "needs_background": "light"
     },
     "output_type": "display_data"
    }
   ],
   "source": [
    "# Correlation map for feature engneerng\n",
    "m,ax = plt.subplots(figsize=(12, 12))\n",
    "sns.heatmap(df.corr(), annot=True, linewidths=.5, fmt= '.1f', ax =ax)\n",
    "plt.show()"
   ]
  },
  {
   "cell_type": "code",
   "execution_count": 116,
   "metadata": {},
   "outputs": [
    {
     "data": {
      "text/plain": [
       "0           500000\n",
       "1           500000\n",
       "2           500000\n",
       "4           500000\n",
       "5           500000\n",
       "            ...   \n",
       "122646    10000000\n",
       "122652    10000000\n",
       "122659    10000000\n",
       "122660    10000000\n",
       "122661    10000000\n",
       "Name: Installs, Length: 40410, dtype: int32"
      ]
     },
     "execution_count": 116,
     "metadata": {},
     "output_type": "execute_result"
    }
   ],
   "source": [
    "y = df.Installs\n",
    "y"
   ]
  },
  {
   "cell_type": "markdown",
   "metadata": {},
   "source": [
    "### using the logistic regression model"
   ]
  },
  {
   "cell_type": "code",
   "execution_count": 117,
   "metadata": {},
   "outputs": [],
   "source": [
    "#importing the model\n",
    "from sklearn.model_selection import train_test_split\n",
    "from sklearn.linear_model import LogisticRegression\n"
   ]
  },
  {
   "cell_type": "code",
   "execution_count": 118,
   "metadata": {},
   "outputs": [
    {
     "data": {
      "text/plain": [
       "LogisticRegression()"
      ]
     },
     "execution_count": 118,
     "metadata": {},
     "output_type": "execute_result"
    }
   ],
   "source": [
    "##Calling the Object to build our model\n",
    "model = LogisticRegression()\n",
    "model"
   ]
  },
  {
   "cell_type": "code",
   "execution_count": 119,
   "metadata": {},
   "outputs": [],
   "source": [
    "#Splitting our dataset into train and test\n",
    "x_train, x_test, y_train, y_test = train_test_split(x, y, test_size = 0.2, random_state = 52)\n"
   ]
  },
  {
   "cell_type": "code",
   "execution_count": 120,
   "metadata": {},
   "outputs": [
    {
     "data": {
      "text/plain": [
       "32328"
      ]
     },
     "execution_count": 120,
     "metadata": {},
     "output_type": "execute_result"
    }
   ],
   "source": [
    "len(x_train)\n"
   ]
  },
  {
   "cell_type": "code",
   "execution_count": 121,
   "metadata": {},
   "outputs": [
    {
     "data": {
      "text/plain": [
       "8082"
      ]
     },
     "execution_count": 121,
     "metadata": {},
     "output_type": "execute_result"
    }
   ],
   "source": [
    "len(x_test)"
   ]
  },
  {
   "cell_type": "code",
   "execution_count": 122,
   "metadata": {},
   "outputs": [],
   "source": [
    "#Fitting the dataset for training \n",
    "rega=model.fit(x_train, y_train)"
   ]
  },
  {
   "cell_type": "code",
   "execution_count": 123,
   "metadata": {},
   "outputs": [
    {
     "data": {
      "text/plain": [
       "0.1797822321207622"
      ]
     },
     "execution_count": 123,
     "metadata": {},
     "output_type": "execute_result"
    }
   ],
   "source": [
    "#Checking the performance of the model\n",
    "model.score(x_test,y_test)"
   ]
  },
  {
   "cell_type": "code",
   "execution_count": 124,
   "metadata": {},
   "outputs": [
    {
     "data": {
      "text/plain": [
       "array([100000000, 100000000, 100000000, ..., 100000000, 100000000,\n",
       "       100000000])"
      ]
     },
     "execution_count": 124,
     "metadata": {},
     "output_type": "execute_result"
    }
   ],
   "source": [
    "y_pred= rega.predict(x_test)\n",
    "y_pred"
   ]
  },
  {
   "cell_type": "code",
   "execution_count": null,
   "metadata": {},
   "outputs": [],
   "source": []
  },
  {
   "cell_type": "code",
   "execution_count": 125,
   "metadata": {},
   "outputs": [
    {
     "data": {
      "text/plain": [
       "array([[1.77036234e-16, 2.93364313e-16, 5.67641366e-16, ...,\n",
       "        1.61026960e-01, 1.55163720e-01, 1.60447038e-01],\n",
       "       [1.87554438e-19, 3.43742119e-19, 7.58736106e-19, ...,\n",
       "        1.64556827e-01, 1.57396057e-01, 1.63846242e-01],\n",
       "       [6.90295088e-04, 7.45816908e-04, 8.25166186e-04, ...,\n",
       "        1.34990463e-01, 1.34225702e-01, 1.34915862e-01],\n",
       "       ...,\n",
       "       [0.00000000e+00, 0.00000000e+00, 0.00000000e+00, ...,\n",
       "        4.94362557e-01, 5.21957759e-02, 3.97258479e-01],\n",
       "       [7.35335577e-04, 7.93730061e-04, 8.77093597e-04, ...,\n",
       "        1.34827977e-01, 1.34073444e-01, 1.34754386e-01],\n",
       "       [0.00000000e+00, 0.00000000e+00, 0.00000000e+00, ...,\n",
       "        3.35355841e-01, 1.39682576e-01, 3.07970451e-01]])"
      ]
     },
     "execution_count": 125,
     "metadata": {},
     "output_type": "execute_result"
    }
   ],
   "source": [
    "d_pro =model.predict_proba(x_test)\n",
    "d_pro"
   ]
  },
  {
   "cell_type": "code",
   "execution_count": 126,
   "metadata": {},
   "outputs": [],
   "source": [
    "from sklearn.metrics import confusion_matrix, classification_report"
   ]
  },
  {
   "cell_type": "code",
   "execution_count": 127,
   "metadata": {},
   "outputs": [
    {
     "data": {
      "text/plain": [
       "array([[   0,    0,    0,    0,    0,    0,    0,    0,    0,    6,    0,\n",
       "           0],\n",
       "       [   0,    0,    0,    0,    0,    0,    0,    0,    0,  139,    0,\n",
       "           0],\n",
       "       [   0,    0,    0,    0,    0,    0,    0,    0,    0,  132,    0,\n",
       "           0],\n",
       "       [   0,    0,    0,    0,    0,    0,    0,    0,    0,  626,    0,\n",
       "           0],\n",
       "       [   0,    0,    0,    0,    0,    0,    0,    0,    0,  504,    0,\n",
       "           0],\n",
       "       [   0,    0,    0,    0,    0,    0,    0,    0,    0, 1605,    0,\n",
       "           0],\n",
       "       [   0,    0,    0,    0,    0,    0,    0,    0,    0,  905,    0,\n",
       "           0],\n",
       "       [   0,    0,    0,    0,    0,    0,    0,    0,    0, 1790,    0,\n",
       "           0],\n",
       "       [   0,    0,    0,    0,    0,    0,    0,    0,    0,  583,    0,\n",
       "           0],\n",
       "       [   0,    0,    0,    0,    0,    0,    0,    0,    0, 1453,    0,\n",
       "           0],\n",
       "       [   0,    0,    0,    0,    0,    0,    0,    0,    0,  104,    0,\n",
       "           0],\n",
       "       [   0,    0,    0,    0,    0,    0,    0,    0,    0,  235,    0,\n",
       "           0]], dtype=int64)"
      ]
     },
     "execution_count": 127,
     "metadata": {},
     "output_type": "execute_result"
    }
   ],
   "source": [
    "Confusion_score = confusion_matrix(y_test, y_pred)\n",
    "Confusion_score"
   ]
  },
  {
   "cell_type": "code",
   "execution_count": 128,
   "metadata": {},
   "outputs": [
    {
     "name": "stdout",
     "output_type": "stream",
     "text": [
      "              precision    recall  f1-score   support\n",
      "\n",
      "        1000       0.00      0.00      0.00         6\n",
      "       10000       0.00      0.00      0.00       139\n",
      "       50000       0.00      0.00      0.00       132\n",
      "      100000       0.00      0.00      0.00       626\n",
      "      500000       0.00      0.00      0.00       504\n",
      "     1000000       0.00      0.00      0.00      1605\n",
      "     5000000       0.00      0.00      0.00       905\n",
      "    10000000       0.00      0.00      0.00      1790\n",
      "    50000000       0.00      0.00      0.00       583\n",
      "   100000000       0.18      1.00      0.30      1453\n",
      "   500000000       0.00      0.00      0.00       104\n",
      "  1000000000       0.00      0.00      0.00       235\n",
      "\n",
      "    accuracy                           0.18      8082\n",
      "   macro avg       0.01      0.08      0.03      8082\n",
      "weighted avg       0.03      0.18      0.05      8082\n",
      "\n"
     ]
    }
   ],
   "source": [
    "print (classification_report(y_test, y_pred))"
   ]
  },
  {
   "cell_type": "code",
   "execution_count": 129,
   "metadata": {},
   "outputs": [
    {
     "data": {
      "text/plain": [
       "<AxesSubplot:>"
      ]
     },
     "execution_count": 129,
     "metadata": {},
     "output_type": "execute_result"
    },
    {
     "data": {
      "image/png": "[encoded data removed]",
      "text/plain": [
       "<Figure size 936x432 with 2 Axes>"
      ]
     },
     "metadata": {
      "needs_background": "light"
     },
     "output_type": "display_data"
    }
   ],
   "source": [
    "sns.heatmap(Confusion_score, annot = True)"
   ]
  },
  {
   "cell_type": "markdown",
   "metadata": {},
   "source": [
    "### using the random forest classifier"
   ]
  },
  {
   "cell_type": "code",
   "execution_count": 130,
   "metadata": {},
   "outputs": [
    {
     "data": {
      "text/plain": [
       "RandomForestClassifier(n_estimators=60, n_jobs=-1, oob_score=True,\n",
       "                       random_state=40)"
      ]
     },
     "execution_count": 130,
     "metadata": {},
     "output_type": "execute_result"
    }
   ],
   "source": [
    "from sklearn.ensemble import RandomForestClassifier\n",
    "#Call the object model\n",
    "model_r = RandomForestClassifier(n_estimators = 60, random_state = 40, n_jobs = - 1, oob_score = True)\n",
    "model_r"
   ]
  },
  {
   "cell_type": "code",
   "execution_count": 131,
   "metadata": {},
   "outputs": [
    {
     "data": {
      "text/plain": [
       "RandomForestClassifier(n_estimators=60, n_jobs=-1, oob_score=True,\n",
       "                       random_state=40)"
      ]
     },
     "execution_count": 131,
     "metadata": {},
     "output_type": "execute_result"
    }
   ],
   "source": [
    "#Fitting the data \n",
    "model_fit = model_r.fit(x_train, y_train)\n",
    "model_fit"
   ]
  },
  {
   "cell_type": "code",
   "execution_count": 132,
   "metadata": {},
   "outputs": [
    {
     "data": {
      "text/plain": [
       "0.8893838158871566"
      ]
     },
     "execution_count": 132,
     "metadata": {},
     "output_type": "execute_result"
    }
   ],
   "source": [
    "#Checking the accuracy of the model\n",
    "model_r.score(x_test, y_test)"
   ]
  },
  {
   "cell_type": "markdown",
   "metadata": {},
   "source": [
    "### using the decision tree classifier"
   ]
  },
  {
   "cell_type": "code",
   "execution_count": 133,
   "metadata": {},
   "outputs": [],
   "source": [
    "# import the decisiontree classifier model\n",
    "from sklearn.tree import DecisionTreeClassifier"
   ]
  },
  {
   "cell_type": "code",
   "execution_count": 134,
   "metadata": {},
   "outputs": [
    {
     "data": {
      "text/plain": [
       "DecisionTreeClassifier()"
      ]
     },
     "execution_count": 134,
     "metadata": {},
     "output_type": "execute_result"
    }
   ],
   "source": [
    "#the object for model\n",
    "model_dec = DecisionTreeClassifier()\n",
    "model_dec"
   ]
  },
  {
   "cell_type": "code",
   "execution_count": 135,
   "metadata": {},
   "outputs": [],
   "source": [
    "#Splitting the dataset into train and test \n",
    "x_train, x_test, y_train, y_test = train_test_split(x, y, test_size = 0.3)"
   ]
  },
  {
   "cell_type": "code",
   "execution_count": 136,
   "metadata": {},
   "outputs": [
    {
     "data": {
      "text/plain": [
       "DecisionTreeClassifier()"
      ]
     },
     "execution_count": 136,
     "metadata": {},
     "output_type": "execute_result"
    }
   ],
   "source": [
    "#Fitting the dataset \n",
    "model_fit = model_dec.fit(x_train, y_train)\n",
    "model_fit"
   ]
  },
  {
   "cell_type": "code",
   "execution_count": 137,
   "metadata": {},
   "outputs": [
    {
     "data": {
      "text/plain": [
       "0.9948032665181886"
      ]
     },
     "execution_count": 137,
     "metadata": {},
     "output_type": "execute_result"
    }
   ],
   "source": [
    "#Checking the accuracy of our model\n",
    "model_dec.score(x_test, y_test)"
   ]
  },
  {
   "cell_type": "markdown",
   "metadata": {},
   "source": [
    "the best model for predicting our dependent variable(Installs) is decision tree classifier followed by random forest the model logistic regression performed poorly."
   ]
  },
  {
   "cell_type": "code",
   "execution_count": null,
   "metadata": {},
   "outputs": [],
   "source": []
  }
 ],
 "metadata": {
  "colab": {
   "collapsed_sections": [],
   "provenance": []
  },
  "kernelspec": {
   "display_name": "Python 3 (ipykernel)",
   "language": "python",
   "name": "python3"
  },
  "language_info": {
   "codemirror_mode": {
    "name": "ipython",
    "version": 3
   },
   "file_extension": ".py",
   "mimetype": "text/x-python",
   "name": "python",
   "nbconvert_exporter": "python",
   "pygments_lexer": "ipython3",
   "version": "3.9.12"
  }
 },
 "nbformat": 4,
 "nbformat_minor": 1
}
